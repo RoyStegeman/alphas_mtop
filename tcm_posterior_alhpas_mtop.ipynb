{
 "cells": [
  {
   "cell_type": "code",
   "id": "226dc610",
   "metadata": {
    "ExecuteTime": {
     "end_time": "2025-02-24T14:44:58.845690Z",
     "start_time": "2025-02-24T14:44:57.802130Z"
    }
   },
   "source": [
    "\n",
    "import numpy as np\n",
    "import pandas as pd\n",
    "from validphys.api import API"
   ],
   "outputs": [],
   "execution_count": 1
  },
  {
   "cell_type": "code",
   "id": "377309ca",
   "metadata": {
    "ExecuteTime": {
     "end_time": "2025-02-24T14:44:59.947983Z",
     "start_time": "2025-02-24T14:44:59.945980Z"
    }
   },
   "source": "fitname = \"250218_mtop_alphas_variation_test\"",
   "outputs": [],
   "execution_count": 2
  },
  {
   "cell_type": "code",
   "id": "9a5e4544-7870-42a1-b707-e720e6fde07c",
   "metadata": {
    "ExecuteTime": {
     "end_time": "2025-02-24T14:48:48.775713Z",
     "start_time": "2025-02-24T14:48:48.772381Z"
    }
   },
   "source": [
    "fit = API.fit(fit=fitname)"
   ],
   "outputs": [],
   "execution_count": 4
  },
  {
   "cell_type": "code",
   "id": "7ba537e3a701432e",
   "metadata": {
    "ExecuteTime": {
     "end_time": "2025-02-24T14:48:52.049071Z",
     "start_time": "2025-02-24T14:48:52.031883Z"
    }
   },
   "source": [
    "# We have to know the name of the alphas point prescription (alphas_pp) to\n",
    "# extract the theoryids. We have to know alphas_pp_id to identify the .csv file\n",
    "# corresponding to the alphas covmat used in the fit\n",
    "pps = fit.as_input()[\"theorycovmatconfig\"][\"point_prescriptions\"]\n",
    "for i, pp in enumerate(pps):\n",
    "    if \"mtop\" in pp:\n",
    "        mtop_pp_id = i\n",
    "        mtop_pp = pp \n",
    "    elif \"alphas\" in pp:\n",
    "        alphas_pp_id = i\n",
    "        alphas_pp = pp\n",
    "    else:\n",
    "        continue"
   ],
   "outputs": [],
   "execution_count": 5
  },
  {
   "metadata": {
    "ExecuteTime": {
     "end_time": "2025-02-24T14:53:48.562385Z",
     "start_time": "2025-02-24T14:53:48.559979Z"
    }
   },
   "cell_type": "code",
   "source": [
    "\n",
    "common_dict = dict(\n",
    "    dataset_inputs={\"from_\": \"fit\"},\n",
    "    fit=fit.name,\n",
    "    fits=[fit.name],\n",
    "    use_cuts=\"fromfit\",\n",
    "    metadata_group=\"nnpdf31_process\",\n",
    ")\n",
    "\n",
    "theoryids_dict_mtop = ({\n",
    "        \"point_prescription\": mtop_pp,\n",
    "        \"theoryid\": {\"from_\": \"theory\"},\n",
    "        \"theory\": {\"from_\": \"fit\"},\n",
    "        \"theorycovmatconfig\": {\"from_\": \"fit\"},\n",
    "    } | common_dict)\n",
    "\n",
    "theoryids_dict_alphas= ({\n",
    "        \"point_prescription\": alphas_pp,\n",
    "        \"theoryid\": {\"from_\": \"theory\"},\n",
    "        \"theory\": {\"from_\": \"fit\"},\n",
    "        \"theorycovmatconfig\": {\"from_\": \"fit\"},\n",
    "    } | common_dict)"
   ],
   "id": "3e00cb08990831d6",
   "outputs": [],
   "execution_count": 19
  },
  {
   "metadata": {
    "ExecuteTime": {
     "end_time": "2025-02-24T15:07:58.466207Z",
     "start_time": "2025-02-24T14:56:50.989077Z"
    }
   },
   "cell_type": "code",
   "source": [
    "theoryids_mtop = API.theoryids(**theoryids_dict_mtop)\n",
    "theory_plus_mtop = theoryids_mtop[2].id\n",
    "theory_mid_mtop = theoryids_mtop[0].id\n",
    "theory_min_mtop = theoryids_mtop[1].id\n",
    "\n",
    "theoryids_alphas = API.theoryids(**theoryids_dict_alphas)\n",
    "theory_plus_alphas = theoryids_alphas[2].id\n",
    "theory_mid_alphas = theoryids_alphas[0].id\n",
    "theory_min_alphas = theoryids_alphas[1].id"
   ],
   "id": "7c878dd329b7a573",
   "outputs": [],
   "execution_count": 28
  },
  {
   "metadata": {
    "ExecuteTime": {
     "end_time": "2025-02-24T15:10:02.368893Z",
     "start_time": "2025-02-24T15:10:02.366376Z"
    }
   },
   "cell_type": "code",
   "source": [
    "\n",
    "thcov_input_pdf = fit.as_input()[\"theorycovmatconfig\"][\"pdf\"]\n",
    "\n",
    "# Inputs for central theory (used to construct the mtop, alphas covmat). theory_mid_mtop contains the central value for mtop and alphas.\n",
    "inps_central = dict(theoryid=theory_mid_mtop, pdf=thcov_input_pdf, **common_dict)\n",
    "\n",
    "# Inputs for plus theory (used to construct the mtop covmat)\n",
    "inps_plus = [dict(theoryid=theory_plus_mtop, pdf=thcov_input_pdf, **common_dict), dict(theoryid=theory_plus_alphas, pdf=thcov_input_pdf, **common_dict)]\n",
    "\n",
    "# Inputs for minus theory prediction (used to construct the mtop covmat)\n",
    "inps_minus = [dict(theoryid=theory_min_mtop, pdf=thcov_input_pdf, **common_dict), dict(theoryid=theory_min_alphas, pdf=thcov_input_pdf, **common_dict)]\n",
    "\n",
    "# inputs for the computation of the prediction of the fit with cov=C+S, where S\n",
    "# is computed using the inps_central, inps_plus, and inps_minus dictionaries\n",
    "inps_central_fit = dict(theoryid=theory_mid_mtop, pdf={\"from_\": \"fit\"}, **common_dict)"
   ],
   "id": "bd3a9e03-d492-4c27-8b2a-b50f4485b63f",
   "outputs": [],
   "execution_count": 29
  },
  {
   "cell_type": "code",
   "execution_count": 23,
   "id": "8d73b498",
   "metadata": {},
   "outputs": [
    {
     "ename": "KeyError",
     "evalue": "'resample_negative_pseudodata'",
     "output_type": "error",
     "traceback": [
      "\u001B[0;31m---------------------------------------------------------------------------\u001B[0m",
      "\u001B[0;31mKeyError\u001B[0m                                  Traceback (most recent call last)",
      "Cell \u001B[0;32mIn[23], line 1\u001B[0m\n\u001B[0;32m----> 1\u001B[0m \u001B[38;5;28;01mif\u001B[39;00m fit\u001B[38;5;241m.\u001B[39mas_input()[\u001B[38;5;124m\"\u001B[39m\u001B[38;5;124mresample_negative_pseudodata\u001B[39m\u001B[38;5;124m\"\u001B[39m] \u001B[38;5;241m!=\u001B[39m \u001B[38;5;28;01mFalse\u001B[39;00m:\n\u001B[1;32m      2\u001B[0m     \u001B[38;5;28mprint\u001B[39m(\u001B[38;5;124m\"\u001B[39m\u001B[38;5;124mThe TCM assumes Gaussianity of the pseudodata, to ensure this set\u001B[39m\u001B[38;5;124m\"\u001B[39m)\n\u001B[1;32m      3\u001B[0m     \u001B[38;5;28mprint\u001B[39m(\u001B[38;5;124m\"\u001B[39m\u001B[38;5;124mresample_negative_pseudodata: False\u001B[39m\u001B[38;5;124m\"\u001B[39m)\n",
      "\u001B[0;31mKeyError\u001B[0m: 'resample_negative_pseudodata'"
     ]
    }
   ],
   "source": [
    "if fit.as_input()[\"resample_negative_pseudodata\"] != False:\n",
    "    print(\"The TCM assumes Gaussianity of the pseudodata, to ensure this set\")\n",
    "    print(\"resample_negative_pseudodata: False\")\n",
    "    print(\"in the n3fit runcard!\")"
   ]
  },
  {
   "cell_type": "code",
   "id": "758cdc8a",
   "metadata": {
    "scrolled": true,
    "ExecuteTime": {
     "end_time": "2025-02-24T15:22:41.537577Z",
     "start_time": "2025-02-24T15:22:18.978858Z"
    }
   },
   "source": [
    "prior_theorypreds_central = API.group_result_central_table_no_table(**inps_central)[\"theory_central\"].to_frame()\n",
    "prior_theorypreds_plus = pd.concat([API.group_result_central_table_no_table(**inp_plus)[\"theory_central\"] for inp_plus in inps_plus], axis=1)\n",
    "prior_theorypreds_minus = pd.concat([API.group_result_central_table_no_table(**inp_minus)[\"theory_central\"] for inp_minus in inps_minus], axis=1)"
   ],
   "outputs": [],
   "execution_count": 60
  },
  {
   "cell_type": "code",
   "id": "ac757095",
   "metadata": {
    "ExecuteTime": {
     "end_time": "2025-02-24T15:13:28.138698Z",
     "start_time": "2025-02-24T15:13:28.134344Z"
    }
   },
   "source": [
    "# Get the values of mtop...\n",
    "mtop_plus = API.theory_info_table(theory_db_id=theory_plus_mtop).loc[\"mt\"].iloc[0]\n",
    "mtop_central = API.theory_info_table(theory_db_id=theory_mid_mtop).loc[\"mt\"].iloc[0]\n",
    "mtop_min = API.theory_info_table(theory_db_id=theory_min_mtop).loc[\"mt\"].iloc[0]\n",
    "\n",
    "alphas_plus = API.theory_info_table(theory_db_id=theory_plus_alphas).loc[\"alphas\"].iloc[0]\n",
    "alphas_central = API.theory_info_table(theory_db_id=theory_mid_mtop).loc[\"alphas\"].iloc[0]\n",
    "alphas_min = API.theory_info_table(theory_db_id=theory_min_alphas).loc[\"alphas\"].iloc[0]\n",
    "\n",
    "# ... and make sure the shift in both directions is symmetric\n",
    "delta_plus = np.array([mtop_plus - mtop_central, alphas_plus - alphas_central])\n",
    "delta_min = np.array([mtop_central - mtop_min, alphas_central - alphas_min]) \n",
    "if np.any(abs(delta_min - delta_plus) > 1e-6):\n",
    "    raise ValueError(\"mtop shifts in both directions is not symmetric\")\n",
    "else:\n",
    "    step_size = np.array(delta_min)"
   ],
   "outputs": [],
   "execution_count": 44
  },
  {
   "cell_type": "code",
   "id": "3179f33f",
   "metadata": {
    "ExecuteTime": {
     "end_time": "2025-02-24T15:40:03.929722Z",
     "start_time": "2025-02-24T15:40:03.926311Z"
    }
   },
   "source": [
    "# At some point we scaled the covmat to account for higher order derivatives or\n",
    "# to test depencence of the prior. It is not used in the final result\n",
    "covmat_scaling_factor = 1 #fit.as_input().get(\"theorycovmatconfig\",{}).get(\"rescale_alphas_covmat\",1.0)\n",
    "\n",
    "beta_tilde = np.sqrt(covmat_scaling_factor) * (step_size / np.sqrt(2)) * np.array([[1, -1], [1, -1]])\n",
    "S_tilde = beta_tilde @ beta_tilde"
   ],
   "outputs": [],
   "execution_count": 72
  },
  {
   "cell_type": "code",
   "id": "6ac3d092d4336590",
   "metadata": {
    "ExecuteTime": {
     "end_time": "2025-02-24T15:23:07.007911Z",
     "start_time": "2025-02-24T15:23:06.997938Z"
    }
   },
   "source": [
    "delta_plus = (np.sqrt(covmat_scaling_factor) / np.sqrt(2)) * (\n",
    "    prior_theorypreds_plus - prior_theorypreds_central\n",
    ")\n",
    "delta_minus = (np.sqrt(covmat_scaling_factor) / np.sqrt(2)) * (\n",
    "    prior_theorypreds_minus - prior_theorypreds_central\n",
    ")"
   ],
   "outputs": [],
   "execution_count": 63
  },
  {
   "metadata": {},
   "cell_type": "code",
   "source": [
    "beta = np.array([delta_plus.T, delta_minus.T])\n",
    "S_hat = beta_tilde @ beta"
   ],
   "id": "4c2613b12701590a",
   "outputs": [],
   "execution_count": null
  },
  {
   "metadata": {
    "ExecuteTime": {
     "end_time": "2025-02-24T15:51:39.299371Z",
     "start_time": "2025-02-24T15:51:39.146842Z"
    }
   },
   "cell_type": "code",
   "source": "S = delta_plus @ delta_plus.T + delta_minus @ delta_minus.T",
   "id": "a20d7db54d53de80",
   "outputs": [],
   "execution_count": 90
  },
  {
   "metadata": {
    "ExecuteTime": {
     "end_time": "2025-02-24T15:52:15.223975Z",
     "start_time": "2025-02-24T15:52:15.221033Z"
    }
   },
   "cell_type": "code",
   "source": "S = pd.DataFrame(S, index=delta_minus.index, columns=delta_minus.index)",
   "id": "9f6f72c581ed0c2c",
   "outputs": [],
   "execution_count": 93
  },
  {
   "cell_type": "code",
   "id": "daf898a8d6d298e",
   "metadata": {
    "ExecuteTime": {
     "end_time": "2025-02-24T15:58:06.475534Z",
     "start_time": "2025-02-24T15:57:53.208526Z"
    }
   },
   "source": [
    "stored_alphas_covmat = pd.read_csv(\n",
    "    fit.path / f\"tables/datacuts_theory_theorycovmatconfig_point_prescriptions{alphas_pp_id}_theory_covmat_custom_per_prescription.csv\",\n",
    "    index_col=[0, 1, 2],\n",
    "    header=[0, 1, 2],\n",
    "    sep=\"\\t|,\",\n",
    "    encoding=\"utf-8\",\n",
    "    engine=\"python\",\n",
    ").fillna(0)\n",
    "\n",
    "stored_mtop_covmat = pd.read_csv(\n",
    "    fit.path / f\"tables/datacuts_theory_theorycovmatconfig_point_prescriptions{mtop_pp_id}_theory_covmat_custom_per_prescription.csv\",\n",
    "    index_col=[0, 1, 2],\n",
    "    header=[0, 1, 2],\n",
    "    sep=\"\\t|,\",\n",
    "    encoding=\"utf-8\",\n",
    "    engine=\"python\",\n",
    ").fillna(0)\n",
    "\n",
    "stored_covmat = stored_alphas_covmat + stored_mtop_covmat\n"
   ],
   "outputs": [],
   "execution_count": 98
  },
  {
   "metadata": {
    "ExecuteTime": {
     "end_time": "2025-02-24T15:59:05.347372Z",
     "start_time": "2025-02-24T15:59:05.056857Z"
    }
   },
   "cell_type": "code",
   "source": [
    "storedcovmat_index = pd.MultiIndex.from_tuples(\n",
    "    [(aa, bb, np.int64(cc)) for aa, bb, cc in stored_covmat.index],\n",
    "    names=[\"group\", \"dataset\", \"id\"],\n",
    ")  \n",
    "\n",
    "# make sure theoryID is an integer, same as in S\n",
    "stored_mtop_covmat = pd.DataFrame(\n",
    "    stored_covmat.values, index=storedcovmat_index, columns=storedcovmat_index\n",
    ")\n",
    "stored_covmat = stored_covmat.reindex(S.index).T.reindex(S.index)\n",
    "\n",
    "if not np.allclose(S, stored_mtop_covmat):\n",
    "    print(\"Reconstructed theory covmat, S, is not the same as the stored covmat!\")"
   ],
   "id": "fe666f4c",
   "outputs": [],
   "execution_count": 100
  },
  {
   "cell_type": "code",
   "execution_count": 34,
   "id": "29e4c30f",
   "metadata": {},
   "outputs": [
    {
     "name": "stdout",
     "output_type": "stream",
     "text": [
      "LHAPDF 6.5.4 loading all 101 PDFs in set 250210_mtop_variation_test\n",
      "250210_mtop_variation_test, version 1; 101 PDF members\n"
     ]
    }
   ],
   "source": [
    "theorypreds_fit = API.group_result_table_no_table(**inps_central_fit).iloc[:, 2:]"
   ]
  },
  {
   "cell_type": "code",
   "execution_count": 35,
   "id": "ac6553b1",
   "metadata": {},
   "outputs": [],
   "source": [
    "exp_covmat = API.groups_covmat(\n",
    "    use_t0=True,\n",
    "    datacuts={\"from_\": \"fit\"},\n",
    "    t0pdfset={\"from_\": \"datacuts\"},\n",
    "    theoryid= {\"from_\": \"theory\"},\n",
    "    theory={\"from_\": \"fit\"},\n",
    "    **common_dict\n",
    ")"
   ]
  },
  {
   "cell_type": "code",
   "execution_count": 36,
   "id": "6ed73880",
   "metadata": {},
   "outputs": [],
   "source": [
    "total_th_covmat = pd.read_csv(\n",
    "    fit.path / f\"tables/datacuts_theory_theorycovmatconfig_theory_covmat_custom.csv\",\n",
    "    index_col=[0, 1, 2],\n",
    "    header=[0, 1, 2],\n",
    "    sep=\"\\t|,\",\n",
    "    encoding=\"utf-8\",\n",
    "    engine=\"python\",\n",
    ").fillna(0)\n",
    "storedcovmat_index = pd.MultiIndex.from_tuples(\n",
    "    [(aa, bb, np.int64(cc)) for aa, bb, cc in total_th_covmat.index],\n",
    "    names=[\"group\", \"dataset\", \"id\"],\n",
    ")  # make sure theoryID is an integer, same as in S\n",
    "total_th_covmat = pd.DataFrame(\n",
    "    total_th_covmat.values, index=storedcovmat_index, columns=storedcovmat_index\n",
    ")\n",
    "total_th_covmat = total_th_covmat.reindex(S.index).T.reindex(S.index)"
   ]
  },
  {
   "cell_type": "code",
   "execution_count": 37,
   "id": "a05e4850",
   "metadata": {},
   "outputs": [],
   "source": [
    "# Note that mean_prediction is different from the prediction of the mean PDF (i.e. replica0)\n",
    "mean_prediction = theorypreds_fit.mean(axis=1)\n",
    "\n",
    "X = np.zeros_like(exp_covmat.values)\n",
    "for i in range(theorypreds_fit.shape[1]):\n",
    "    X += np.outer(\n",
    "        (theorypreds_fit.iloc[:, i] - mean_prediction),\n",
    "        (theorypreds_fit.iloc[:, i] - mean_prediction),\n",
    "    )\n",
    "X *= 1 / theorypreds_fit.shape[1]"
   ]
  },
  {
   "cell_type": "code",
   "execution_count": 38,
   "id": "f4ed15ab",
   "metadata": {},
   "outputs": [],
   "source": [
    "# In the computation we use <D>_rep and not the central value of the data D_exp, though if\n",
    "# resample_negative_pseudodata: false\n",
    "# is set in the n3fit runcard, D_exp and <D>_rep should be the same as N_rep -> inf.\n",
    "pseudodata = API.read_pdf_pseudodata(**common_dict)\n",
    "dat_reps = pd.concat(\n",
    "    [i.pseudodata.reindex(prior_theorypreds_central.index) for i in pseudodata], axis=1\n",
    ")"
   ]
  },
  {
   "cell_type": "code",
   "execution_count": 40,
   "id": "3b0e8a15",
   "metadata": {},
   "outputs": [
    {
     "name": "stdout",
     "output_type": "stream",
     "text": [
      "Prediction for $\\m_{top}$: 173.3099 ± 0.5624\n"
     ]
    }
   ],
   "source": [
    "invcov = np.linalg.inv(exp_covmat + total_th_covmat)\n",
    "\n",
    "# delta_T_tilde is Eq. 3.37 in https://arxiv.org/pdf/2105.05114\n",
    "delta_T_tilde = -S_hat @ invcov @ (mean_prediction - dat_reps.mean(axis=1))\n",
    "\n",
    "# P_tilde is Eq. 3.38.\n",
    "#\n",
    "# Note that not all terms of the equation in the paper are here, in particular\n",
    "# X_tile and X_hat vanish. This is because they measure the covariance of\n",
    "# T_tilde over PDF replicas, but for us T_tilde is alphas. The prediciton of\n",
    "# alphas does not depend on the PDF, and as such T_tilde^(r) == T_tilde^(0)\n",
    "P_tilde = S_hat.T @ invcov @ X @ invcov @ S_hat + S_tilde - S_hat.T @ invcov @ S_hat\n",
    "\n",
    "pred = mtop_central + delta_T_tilde\n",
    "unc = np.sqrt(P_tilde)\n",
    "print(rf\"Prediction for $\\m_{{top}}$: {pred:.4f} ± {unc:.4f}\")"
   ]
  },
  {
   "cell_type": "code",
   "execution_count": null,
   "id": "a20bf5c3-db3c-43c4-bb46-856895a96689",
   "metadata": {},
   "outputs": [],
   "source": [
    "# next: include alphas, MHOU"
   ]
  }
 ],
 "metadata": {
  "kernelspec": {
   "display_name": "Python 3 (ipykernel)",
   "language": "python",
   "name": "python3"
  },
  "language_info": {
   "codemirror_mode": {
    "name": "ipython",
    "version": 3
   },
   "file_extension": ".py",
   "mimetype": "text/x-python",
   "name": "python",
   "nbconvert_exporter": "python",
   "pygments_lexer": "ipython3",
   "version": "3.12.7"
  }
 },
 "nbformat": 4,
 "nbformat_minor": 5
}
