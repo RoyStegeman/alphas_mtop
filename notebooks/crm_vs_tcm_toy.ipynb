{
 "cells": [
  {
   "metadata": {
    "ExecuteTime": {
     "end_time": "2025-08-11T09:13:26.515691Z",
     "start_time": "2025-08-11T09:13:25.982982Z"
    }
   },
   "cell_type": "code",
   "source": [
    "import numpy as np\n",
    "import matplotlib.pyplot as plt\n",
    "from scipy.optimize import minimize"
   ],
   "id": "71c1df8ba27ae666",
   "outputs": [],
   "execution_count": 1
  },
  {
   "metadata": {},
   "cell_type": "markdown",
   "source": "## CRM determination",
   "id": "270cb7e6f29aeaea"
  },
  {
   "metadata": {
    "ExecuteTime": {
     "end_time": "2025-08-11T10:28:46.505262Z",
     "start_time": "2025-08-11T10:28:37.149745Z"
    }
   },
   "cell_type": "code",
   "source": [
    "ndat = 10  # number of data points\n",
    "sigma_exp = 1 # experimental uncertainty\n",
    "C = sigma_exp ** 2 * np.diag(np.ones(ndat))\n",
    "C_inverse = np.linalg.inv(C)\n",
    "n_reps = 10000  # number of replicas\n",
    "x_data = np.arange(1, 11, 1)\n",
    "\n",
    "a_truth = 1\n",
    "b_truth = 1\n",
    "b_values = np.linspace(b_truth - 0.5, b_truth + 0.5, 5) # scan the chi2 along these offsets\n",
    "\n",
    "def chi2_fit(a, y_data, fit_invcovmat, b_offset):\n",
    "    # b_offset is fixed to 0.118 let's say (like alphas in NNPDF)\n",
    "    # a are the parameters to be fitted, like the neural network weights in nnpdf\n",
    "    theory = a * x_data + b_offset\n",
    "    diff = y_data - theory\n",
    "    chi2 = diff @ fit_invcovmat @ diff.T\n",
    "    return chi2\n",
    "\n",
    "chi2_values_scan = []\n",
    "# generate n_reps replicas and minimise the chi2 with respect to a at each b value\n",
    "for rep in range(n_reps):\n",
    "    # closure data \n",
    "    y_data = a_truth * x_data + np.random.multivariate_normal(np.zeros(ndat), C, 1) + b_truth\n",
    "    chi2_values_min = []\n",
    "    for b_val in b_values:\n",
    "        result = minimize(chi2_fit, [1], args=(y_data, C_inverse, b_val))\n",
    "        chi2_values_min.append(result.fun)\n",
    "    chi2_values_scan.append(chi2_values_min)\n",
    "chi2_values_scan = np.array(chi2_values_scan) "
   ],
   "id": "bc39f45e2b91ad99",
   "outputs": [],
   "execution_count": 122
  },
  {
   "metadata": {
    "ExecuteTime": {
     "end_time": "2025-08-11T10:29:40.859067Z",
     "start_time": "2025-08-11T10:29:40.675235Z"
    }
   },
   "cell_type": "code",
   "source": [
    "b_values_fitted = []\n",
    "for chi2_values in chi2_values_scan:\n",
    "    a, b, c = np.polyfit(b_values, chi2_values, 2)\n",
    "    central = -b / 2 / a\n",
    "    unc = np.sqrt(1/a/ndat)\n",
    "    b_values_fitted.append(central)\n"
   ],
   "id": "ba8b7b23aefdec95",
   "outputs": [],
   "execution_count": 123
  },
  {
   "metadata": {
    "ExecuteTime": {
     "end_time": "2025-08-11T10:29:42.347516Z",
     "start_time": "2025-08-11T10:29:42.253667Z"
    }
   },
   "cell_type": "code",
   "source": [
    "fig, ax = plt.subplots(figsize=(10, 8))\n",
    "ax.hist(b_values_fitted, bins='fd', ec='k', alpha=0.5)\n",
    "ax.set_title(\"CRM determination\")\n",
    "ax.axvline(b_truth, color='r', label='central value')"
   ],
   "id": "64eee3890e97e28f",
   "outputs": [
    {
     "data": {
      "text/plain": [
       "<matplotlib.lines.Line2D at 0x13a97e330>"
      ]
     },
     "execution_count": 124,
     "metadata": {},
     "output_type": "execute_result"
    },
    {
     "data": {
      "text/plain": [
       "<Figure size 1000x800 with 1 Axes>"
      ],
      "image/png": "[encoded data removed]"
     },
     "metadata": {},
     "output_type": "display_data"
    }
   ],
   "execution_count": 124
  },
  {
   "metadata": {
    "ExecuteTime": {
     "end_time": "2025-08-11T10:29:45.861926Z",
     "start_time": "2025-08-11T10:29:45.859167Z"
    }
   },
   "cell_type": "code",
   "source": [
    "mean_b_CRM = np.mean(b_values_fitted)\n",
    "std_b_CRM = np.std(b_values_fitted)\n",
    "\n",
    "print(f\"CRM determination (68% CL): {mean_b_CRM} +/- {std_b_CRM}\")"
   ],
   "id": "ea4ef7b0a4e36104",
   "outputs": [
    {
     "name": "stdout",
     "output_type": "stream",
     "text": [
      "CRM determination (68% CL): 1.0046607817658217 +/- 0.6868727358471902\n"
     ]
    }
   ],
   "execution_count": 125
  },
  {
   "metadata": {},
   "cell_type": "markdown",
   "source": "## TCM determination",
   "id": "aa039b07df55715d"
  },
  {
   "metadata": {
    "ExecuteTime": {
     "end_time": "2025-08-11T10:25:06.603368Z",
     "start_time": "2025-08-11T10:25:06.573640Z"
    }
   },
   "cell_type": "code",
   "source": [
    "# Set the prior range\n",
    "delta_b = 4\n",
    "b_prior_central = b_truth - 0.1  # can be different from the true value b_truth\n",
    "b_prior_plus = b_prior_central + delta_b\n",
    "b_prior_min = b_prior_central - delta_b\n",
    "\n",
    "a_prior = a_truth  # slope parameter, can be different from the true value a_truth\n",
    "\n",
    "# and the prior theory predictions\n",
    "prior_theorypreds_plus = b_prior_plus + a_prior * x_data\n",
    "prior_theorypreds_central = b_prior_central + a_prior * x_data\n",
    "prior_theorypreds_minus = b_prior_min + a_prior * x_data\n",
    "\n",
    "delta_plus = 1/ np.sqrt(2) * (prior_theorypreds_plus - prior_theorypreds_central)\n",
    "delta_minus = 1 / np.sqrt(2) * (prior_theorypreds_minus - prior_theorypreds_central)\n",
    "\n",
    "beta = np.array([delta_plus, delta_minus]).T  # shape (n_dat, 2 * n_par)\n",
    "S = beta @ beta.T\n",
    "\n",
    "invcov = np.linalg.inv(C + S)"
   ],
   "id": "ae09d3a6d060721f",
   "outputs": [],
   "execution_count": 114
  },
  {
   "metadata": {
    "ExecuteTime": {
     "end_time": "2025-08-11T10:25:07.578504Z",
     "start_time": "2025-08-11T10:25:07.574912Z"
    }
   },
   "cell_type": "code",
   "source": [
    "# prior\n",
    "step_size = np.abs(b_prior_plus - b_prior_central)\n",
    "beta_tilde = step_size / np.sqrt(2) * np.array([[1, -1]])\n",
    "S_tilde = beta_tilde @ beta_tilde.T\n",
    "S_hat = beta_tilde @ beta.T\n"
   ],
   "id": "779a90b6647aa035",
   "outputs": [],
   "execution_count": 115
  },
  {
   "metadata": {
    "ExecuteTime": {
     "end_time": "2025-08-11T10:26:52.098979Z",
     "start_time": "2025-08-11T10:25:08.697318Z"
    }
   },
   "cell_type": "code",
   "source": [
    "y_theory_tcm = []\n",
    "y_data_tcm = []\n",
    "for rep in range(100 * n_reps):\n",
    "    y_data = a_truth * x_data + np.random.multivariate_normal(np.zeros(ndat), C + S, 1) + b_truth\n",
    "    result = minimize(chi2_fit, [1], args=(y_data, invcov, b_prior_central))\n",
    "    \n",
    "    y_theory_tcm.append(result.x[0] * x_data + b_prior_central)\n",
    "    y_data_tcm.append(y_data.flatten())\n",
    "    \n",
    "y_theory_tcm = np.array(y_theory_tcm)\n",
    "y_data_tcm = np.array(y_data_tcm)\n",
    "X = np.cov(y_theory_tcm.T)"
   ],
   "id": "1a326ce74c1629c0",
   "outputs": [],
   "execution_count": 116
  },
  {
   "metadata": {
    "ExecuteTime": {
     "end_time": "2025-08-11T10:29:51.018376Z",
     "start_time": "2025-08-11T10:29:50.984767Z"
    }
   },
   "cell_type": "code",
   "source": [
    "P_tilde = S_hat @ invcov @ X @ invcov @ S_hat.T + S_tilde - S_hat @ invcov @ S_hat.T\n",
    "delta_T_tilde = -S_hat @ invcov @ (y_theory_tcm.mean(axis=0) - y_data_tcm.mean(axis=0))\n",
    "T_tilde = b_prior_central + delta_T_tilde\n",
    "\n",
    "print(f\"TCM determination (68%): {T_tilde[0]} +/- {np.sqrt(P_tilde[0,0])}\")\n",
    "print(f\"CRM determination (68%): {mean_b_CRM} +/- {std_b_CRM}\")"
   ],
   "id": "a8f62135053e5a3",
   "outputs": [
    {
     "name": "stdout",
     "output_type": "stream",
     "text": [
      "TCM determination (68%): 1.0011215414943524 +/- 0.6731206225818971\n",
      "CRM determination (68%): 1.0046607817658217 +/- 0.6868727358471902\n"
     ]
    }
   ],
   "execution_count": 126
  },
  {
   "metadata": {
    "ExecuteTime": {
     "end_time": "2025-08-11T10:26:52.302956Z",
     "start_time": "2025-08-11T10:26:52.300804Z"
    }
   },
   "cell_type": "code",
   "source": [
    "print(\"Uncertainty due to replicas: \", S_hat @ invcov @ X @ invcov @ S_hat.T)\n",
    "print(\"Uncertainty prior: \", S_tilde)\n",
    "print(\"Uncertainty reduction by data: \", S_hat @ invcov @ S_hat.T)"
   ],
   "id": "f3c39409e5c6bc48",
   "outputs": [
    {
     "name": "stdout",
     "output_type": "stream",
     "text": [
      "Uncertainty due to replicas:  [[0.35371249]]\n",
      "Uncertainty prior:  [[16.]]\n",
      "Uncertainty reduction by data:  [[15.90062112]]\n"
     ]
    }
   ],
   "execution_count": 118
  },
  {
   "metadata": {
    "ExecuteTime": {
     "end_time": "2025-08-11T10:26:52.383024Z",
     "start_time": "2025-08-11T10:26:52.378621Z"
    }
   },
   "cell_type": "code",
   "source": "np.sqrt(S_hat @ invcov @ X @ invcov @ S_hat.T / P_tilde)",
   "id": "6a359074b5baf9da",
   "outputs": [
    {
     "data": {
      "text/plain": [
       "array([[0.88355238]])"
      ]
     },
     "execution_count": 119,
     "metadata": {},
     "output_type": "execute_result"
    }
   ],
   "execution_count": 119
  },
  {
   "metadata": {
    "ExecuteTime": {
     "end_time": "2025-08-11T10:26:52.635934Z",
     "start_time": "2025-08-11T10:26:52.633704Z"
    }
   },
   "cell_type": "code",
   "source": "S_hat @ invcov @ (X @ invcov - np.eye(ndat)) @ S_hat.T + S_tilde ",
   "id": "4c1ae3227f3443a4",
   "outputs": [
    {
     "data": {
      "text/plain": [
       "array([[0.45309137]])"
      ]
     },
     "execution_count": 120,
     "metadata": {},
     "output_type": "execute_result"
    }
   ],
   "execution_count": 120
  },
  {
   "metadata": {
    "ExecuteTime": {
     "end_time": "2025-08-11T10:26:52.913573Z",
     "start_time": "2025-08-11T10:26:52.911019Z"
    }
   },
   "cell_type": "code",
   "source": "S_hat @ invcov @ X @ invcov @ S_hat.T + S_tilde - S_hat @ invcov @ S_hat.T",
   "id": "8769925157214fa9",
   "outputs": [
    {
     "data": {
      "text/plain": [
       "array([[0.45309137]])"
      ]
     },
     "execution_count": 121,
     "metadata": {},
     "output_type": "execute_result"
    }
   ],
   "execution_count": 121
  },
  {
   "metadata": {},
   "cell_type": "markdown",
   "source": [
    "Observations\n",
    "1. First term: what’s left of the prior spread after fitting to the data.\n",
    "2. Second term: additional spread induced by uncertainty in the fit region, propagated to the prediction region. If you use only the covariance of delta T, you get just the second term, so you’d underestimate unless your prior term happens to vanish\n",
    "3. If the prior is too wide (10 instead of 3) delta T tilde is off\n",
    "4. If S_hat is large relative to S_tilde, and the data covariance C is small, then the posterior term can dominate — you’re essentially predicting almost everything in the new region from the fitted region, so most uncertainty is coming from the fit uncertainty (the X term), not from the leftover prior."
   ],
   "id": "95940f76789e3b26"
  },
  {
   "metadata": {
    "ExecuteTime": {
     "end_time": "2025-08-11T09:55:02.136719Z",
     "start_time": "2025-08-11T09:55:02.130559Z"
    }
   },
   "cell_type": "code",
   "source": [
    "sigma_pred = np.sqrt(np.einsum('ii->i', S_tilde))  # shape (n_pred,)\n",
    "sigma_fit  = np.sqrt(np.einsum('ii->i', S))        # shape (1, n_fit)\n",
    "    \n",
    "# Correlation coefficient\n",
    "rho = S_hat / (sigma_pred * sigma_fit)\n",
    "rho"
   ],
   "id": "a0e0893fd6785146",
   "outputs": [
    {
     "data": {
      "text/plain": [
       "array([[1., 1., 1., 1., 1., 1., 1., 1., 1., 1.]])"
      ]
     },
     "execution_count": 76,
     "metadata": {},
     "output_type": "execute_result"
    }
   ],
   "execution_count": 76
  },
  {
   "metadata": {},
   "cell_type": "code",
   "outputs": [],
   "execution_count": null,
   "source": "",
   "id": "2c752773952f2547"
  }
 ],
 "metadata": {
  "kernelspec": {
   "display_name": "Python 3",
   "language": "python",
   "name": "python3"
  },
  "language_info": {
   "codemirror_mode": {
    "name": "ipython",
    "version": 2
   },
   "file_extension": ".py",
   "mimetype": "text/x-python",
   "name": "python",
   "nbconvert_exporter": "python",
   "pygments_lexer": "ipython2",
   "version": "2.7.6"
  }
 },
 "nbformat": 4,
 "nbformat_minor": 5
}
