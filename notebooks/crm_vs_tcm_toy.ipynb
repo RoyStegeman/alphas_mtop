{
 "cells": [
  {
   "metadata": {
    "ExecuteTime": {
     "end_time": "2025-08-11T12:59:29.234263Z",
     "start_time": "2025-08-11T12:59:28.567914Z"
    }
   },
   "cell_type": "code",
   "source": [
    "import numpy as np\n",
    "import matplotlib.pyplot as plt\n",
    "from scipy.optimize import minimize"
   ],
   "id": "71c1df8ba27ae666",
   "outputs": [],
   "execution_count": 1
  },
  {
   "metadata": {},
   "cell_type": "markdown",
   "source": "## CRM determination",
   "id": "270cb7e6f29aeaea"
  },
  {
   "metadata": {
    "ExecuteTime": {
     "end_time": "2025-08-11T12:59:38.194968Z",
     "start_time": "2025-08-11T12:59:29.236779Z"
    }
   },
   "cell_type": "code",
   "source": [
    "ndat = 10  # number of data points\n",
    "sigma_exp = 1 # experimental uncertainty\n",
    "C = sigma_exp ** 2 * np.diag(np.ones(ndat))\n",
    "C_inverse = np.linalg.inv(C)\n",
    "n_reps = 10000  # number of replicas\n",
    "x_data = np.arange(1, 11, 1)\n",
    "\n",
    "a_truth = 1\n",
    "b_truth = 1\n",
    "b_values = np.linspace(b_truth - 0.5, b_truth + 0.5, 5) # scan the chi2 along these offsets\n",
    "\n",
    "def chi2_fit(a, y_data, fit_invcovmat, b_offset):\n",
    "    # b_offset is fixed to 0.118 let's say (like alphas in NNPDF)\n",
    "    # a are the parameters to be fitted, like the neural network weights in nnpdf\n",
    "    theory = a * x_data + b_offset\n",
    "    diff = y_data - theory\n",
    "    chi2 = diff @ fit_invcovmat @ diff.T\n",
    "    return chi2\n",
    "\n",
    "chi2_values_scan = []\n",
    "# generate n_reps replicas and minimise the chi2 with respect to a at each b value\n",
    "for rep in range(n_reps):\n",
    "    # closure data \n",
    "    y_data = a_truth * x_data + np.random.multivariate_normal(np.zeros(ndat), C, 1) + b_truth\n",
    "    chi2_values_min = []\n",
    "    for b_val in b_values:\n",
    "        result = minimize(chi2_fit, [1], args=(y_data, C_inverse, b_val))\n",
    "        chi2_values_min.append(result.fun)\n",
    "    chi2_values_scan.append(chi2_values_min)\n",
    "chi2_values_scan = np.array(chi2_values_scan) "
   ],
   "id": "bc39f45e2b91ad99",
   "outputs": [],
   "execution_count": 2
  },
  {
   "metadata": {
    "ExecuteTime": {
     "end_time": "2025-08-11T12:59:38.470200Z",
     "start_time": "2025-08-11T12:59:38.271904Z"
    }
   },
   "cell_type": "code",
   "source": [
    "b_values_fitted = []\n",
    "for chi2_values in chi2_values_scan:\n",
    "    a, b, c = np.polyfit(b_values, chi2_values, 2)\n",
    "    central = -b / 2 / a\n",
    "    unc = np.sqrt(1/a/ndat)\n",
    "    b_values_fitted.append(central)\n"
   ],
   "id": "ba8b7b23aefdec95",
   "outputs": [],
   "execution_count": 3
  },
  {
   "metadata": {
    "ExecuteTime": {
     "end_time": "2025-08-11T12:59:38.572747Z",
     "start_time": "2025-08-11T12:59:38.474975Z"
    }
   },
   "cell_type": "code",
   "source": [
    "fig, ax = plt.subplots(figsize=(10, 8))\n",
    "ax.hist(b_values_fitted, bins='fd', ec='k', alpha=0.5)\n",
    "ax.set_title(\"CRM determination\")\n",
    "ax.axvline(b_truth, color='r', label='central value')"
   ],
   "id": "64eee3890e97e28f",
   "outputs": [
    {
     "data": {
      "text/plain": [
       "<matplotlib.lines.Line2D at 0x11e778590>"
      ]
     },
     "execution_count": 4,
     "metadata": {},
     "output_type": "execute_result"
    },
    {
     "data": {
      "text/plain": [
       "<Figure size 1000x800 with 1 Axes>"
      ],
      "image/png": "[encoded data removed]"
     },
     "metadata": {},
     "output_type": "display_data"
    }
   ],
   "execution_count": 4
  },
  {
   "metadata": {
    "ExecuteTime": {
     "end_time": "2025-08-11T12:59:38.583416Z",
     "start_time": "2025-08-11T12:59:38.580489Z"
    }
   },
   "cell_type": "code",
   "source": [
    "mean_b_CRM = np.mean(b_values_fitted)\n",
    "std_b_CRM = np.std(b_values_fitted)\n",
    "\n",
    "print(f\"CRM determination (68% CL): {mean_b_CRM} +/- {std_b_CRM}\")"
   ],
   "id": "ea4ef7b0a4e36104",
   "outputs": [
    {
     "name": "stdout",
     "output_type": "stream",
     "text": [
      "CRM determination (68% CL): 0.9993789148314001 +/- 0.679653870550964\n"
     ]
    }
   ],
   "execution_count": 5
  },
  {
   "metadata": {},
   "cell_type": "markdown",
   "source": "## TCM determination",
   "id": "aa039b07df55715d"
  },
  {
   "metadata": {
    "ExecuteTime": {
     "end_time": "2025-08-11T12:59:38.614153Z",
     "start_time": "2025-08-11T12:59:38.591575Z"
    }
   },
   "cell_type": "code",
   "source": [
    "# Set the prior range\n",
    "delta_b = 4\n",
    "b_prior_central = b_truth - 0.1  # can be different from the true value b_truth\n",
    "b_prior_plus = b_prior_central + delta_b\n",
    "b_prior_min = b_prior_central - delta_b\n",
    "\n",
    "a_prior = a_truth  # slope parameter, can be different from the true value a_truth\n",
    "\n",
    "# and the prior theory predictions\n",
    "prior_theorypreds_plus = b_prior_plus + a_prior * x_data\n",
    "prior_theorypreds_central = b_prior_central + a_prior * x_data\n",
    "prior_theorypreds_minus = b_prior_min + a_prior * x_data\n",
    "\n",
    "delta_plus = 1/ np.sqrt(2) * (prior_theorypreds_plus - prior_theorypreds_central)\n",
    "delta_minus = 1 / np.sqrt(2) * (prior_theorypreds_minus - prior_theorypreds_central)\n",
    "\n",
    "beta = np.array([delta_plus, delta_minus]).T  # shape (n_dat, 2 * n_par)\n",
    "S = beta @ beta.T\n",
    "\n",
    "invcov = np.linalg.inv(C + S)"
   ],
   "id": "ae09d3a6d060721f",
   "outputs": [],
   "execution_count": 6
  },
  {
   "metadata": {
    "ExecuteTime": {
     "end_time": "2025-08-11T12:59:38.633186Z",
     "start_time": "2025-08-11T12:59:38.630406Z"
    }
   },
   "cell_type": "code",
   "source": [
    "# prior\n",
    "step_size = np.abs(b_prior_plus - b_prior_central)\n",
    "beta_tilde = step_size / np.sqrt(2) * np.array([[1, -1]])\n",
    "S_tilde = beta_tilde @ beta_tilde.T\n",
    "S_hat = beta_tilde @ beta.T\n"
   ],
   "id": "779a90b6647aa035",
   "outputs": [],
   "execution_count": 7
  },
  {
   "metadata": {
    "ExecuteTime": {
     "end_time": "2025-08-11T13:03:04.915595Z",
     "start_time": "2025-08-11T12:59:38.642445Z"
    }
   },
   "cell_type": "code",
   "source": [
    "y_theory_tcm = []\n",
    "y_data_tcm = []\n",
    "for rep in range(100 * n_reps):\n",
    "    y_data = a_truth * x_data + np.random.multivariate_normal(np.zeros(ndat), C + S, 1) + b_truth\n",
    "    result = minimize(chi2_fit, [1], args=(y_data, invcov, b_prior_central))\n",
    "    \n",
    "    y_theory_tcm.append(result.x[0] * x_data + b_prior_central)\n",
    "    y_data_tcm.append(y_data.flatten())\n",
    "    \n",
    "y_theory_tcm = np.array(y_theory_tcm)\n",
    "y_data_tcm = np.array(y_data_tcm)\n",
    "X = np.cov(y_theory_tcm.T)"
   ],
   "id": "1a326ce74c1629c0",
   "outputs": [],
   "execution_count": 8
  },
  {
   "metadata": {
    "ExecuteTime": {
     "end_time": "2025-08-11T13:03:04.945208Z",
     "start_time": "2025-08-11T13:03:04.925146Z"
    }
   },
   "cell_type": "code",
   "source": [
    "P_tilde = S_hat @ invcov @ X @ invcov @ S_hat.T + S_tilde - S_hat @ invcov @ S_hat.T\n",
    "delta_T_tilde = -S_hat @ invcov @ (y_theory_tcm.mean(axis=0) - y_data_tcm.mean(axis=0))\n",
    "T_tilde = b_prior_central + delta_T_tilde\n",
    "\n",
    "print(f\"TCM determination (68%): {T_tilde[0]} +/- {np.sqrt(P_tilde[0,0])}\")\n",
    "print(f\"CRM determination (68%): {mean_b_CRM} +/- {std_b_CRM}\")"
   ],
   "id": "a8f62135053e5a3",
   "outputs": [
    {
     "name": "stdout",
     "output_type": "stream",
     "text": [
      "TCM determination (68%): 0.9932608007881072 +/- 0.6739584494376193\n",
      "CRM determination (68%): 0.9993789148314001 +/- 0.679653870550964\n"
     ]
    }
   ],
   "execution_count": 9
  },
  {
   "metadata": {
    "ExecuteTime": {
     "end_time": "2025-08-11T13:03:05.077715Z",
     "start_time": "2025-08-11T13:03:05.073500Z"
    }
   },
   "cell_type": "code",
   "source": [
    "print(\"Uncertainty due to replicas: \", S_hat @ invcov @ X @ invcov @ S_hat.T)\n",
    "print(\"Uncertainty prior: \", S_tilde)\n",
    "print(\"Uncertainty reduction by data: \", S_hat @ invcov @ S_hat.T)"
   ],
   "id": "f3c39409e5c6bc48",
   "outputs": [
    {
     "name": "stdout",
     "output_type": "stream",
     "text": [
      "Uncertainty due to replicas:  [[0.35484111]]\n",
      "Uncertainty prior:  [[16.]]\n",
      "Uncertainty reduction by data:  [[15.90062112]]\n"
     ]
    }
   ],
   "execution_count": 10
  },
  {
   "metadata": {
    "ExecuteTime": {
     "end_time": "2025-08-11T13:03:05.111199Z",
     "start_time": "2025-08-11T13:03:05.108126Z"
    }
   },
   "cell_type": "code",
   "source": "np.sqrt(S_hat @ invcov @ X @ invcov @ S_hat.T / P_tilde)",
   "id": "6a359074b5baf9da",
   "outputs": [
    {
     "data": {
      "text/plain": [
       "array([[0.88386074]])"
      ]
     },
     "execution_count": 11,
     "metadata": {},
     "output_type": "execute_result"
    }
   ],
   "execution_count": 11
  },
  {
   "metadata": {
    "ExecuteTime": {
     "end_time": "2025-08-11T13:03:05.130551Z",
     "start_time": "2025-08-11T13:03:05.126013Z"
    }
   },
   "cell_type": "code",
   "source": "S_hat @ invcov @ (X @ invcov - np.eye(ndat)) @ S_hat.T + S_tilde ",
   "id": "4c1ae3227f3443a4",
   "outputs": [
    {
     "data": {
      "text/plain": [
       "array([[0.45421999]])"
      ]
     },
     "execution_count": 12,
     "metadata": {},
     "output_type": "execute_result"
    }
   ],
   "execution_count": 12
  },
  {
   "metadata": {},
   "cell_type": "markdown",
   "source": "",
   "id": "95940f76789e3b26"
  }
 ],
 "metadata": {
  "kernelspec": {
   "display_name": "Python 3",
   "language": "python",
   "name": "python3"
  },
  "language_info": {
   "codemirror_mode": {
    "name": "ipython",
    "version": 2
   },
   "file_extension": ".py",
   "mimetype": "text/x-python",
   "name": "python",
   "nbconvert_exporter": "python",
   "pygments_lexer": "ipython2",
   "version": "2.7.6"
  }
 },
 "nbformat": 4,
 "nbformat_minor": 5
}
