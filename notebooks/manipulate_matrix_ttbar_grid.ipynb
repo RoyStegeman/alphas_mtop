{
 "cells": [
  {
   "cell_type": "code",
   "id": "691a17e4-7cf8-483b-96ba-86d62a17026c",
   "metadata": {
    "ExecuteTime": {
     "end_time": "2025-03-18T11:01:04.009194Z",
     "start_time": "2025-03-18T11:01:03.441819Z"
    }
   },
   "source": [
    "import pineappl\n",
    "import numpy as np\n",
    "import pandas as pd"
   ],
   "outputs": [],
   "execution_count": 1
  },
  {
   "cell_type": "code",
   "execution_count": 2,
   "id": "3f28d80e-b15e-440b-a1dc-71386ab53feb",
   "metadata": {},
   "outputs": [],
   "source": [
    "assert pineappl.__version__ == '0.8.7', \"This only works with the mentioned PineAPPL version\""
   ]
  },
  {
   "cell_type": "code",
   "id": "eb84d9b5-ba9a-4c16-814b-00a8971ec1e7",
   "metadata": {
    "ExecuteTime": {
     "end_time": "2025-03-18T11:01:29.014896Z",
     "start_time": "2025-03-18T11:01:27.723514Z"
    }
   },
   "source": "!pineappl convolve /Users/jaco/Documents/physics_projects/alphas_mtop/data/grids/40006002/ATLAS_TTBAR_13TEV_LJ_DIF_YTTBAR.pineappl.lz4 NNPDF40_nnlo_as_01180",
   "outputs": [
    {
     "name": "stdout",
     "output_type": "stream",
     "text": [
      "b\u001B[m  atlas_yttbar  \u001B[m dsig/datlas_yttbar\u001B[m\r\n",
      " \u001B[m [atlas_yttbar] \u001B[m        [fb]       \u001B[m\r\n",
      "-+-------+-------+------------------\r\n",
      "0\u001B[m       0\u001B[m    0.25\u001B[m        5.5033866e5\u001B[m\r\n",
      "1\u001B[m    0.25\u001B[m     0.5\u001B[m        5.1668547e5\u001B[m\r\n",
      "2\u001B[m     0.5\u001B[m     0.8\u001B[m        4.7413921e5\u001B[m\r\n",
      "3\u001B[m     0.8\u001B[m     1.1\u001B[m        3.9731078e5\u001B[m\r\n",
      "4\u001B[m     1.1\u001B[m     1.4\u001B[m        3.2333928e5\u001B[m\r\n",
      "5\u001B[m     1.4\u001B[m     1.8\u001B[m        1.9764636e5\u001B[m\r\n",
      "6\u001B[m     1.8\u001B[m     2.5\u001B[m        8.0588827e4\u001B[m\r\n"
     ]
    }
   ],
   "execution_count": 2
  },
  {
   "cell_type": "code",
   "id": "7154a9f1-de33-40ab-bf64-553dc9415bbc",
   "metadata": {
    "ExecuteTime": {
     "end_time": "2025-03-18T11:01:32.947335Z",
     "start_time": "2025-03-18T11:01:32.944388Z"
    }
   },
   "source": [
    "def modify_bins(positive: bool = True) -> None:\n",
    "    \"\"\"Function to re-write the bin contents for the Grids.\"\"\"\n",
    "    grid = pineappl.grid.Grid.read(\"/Users/jaco/Documents/physics_projects/alphas_mtop/data/grids/40006002/ATLAS_TTBAR_13TEV_LJ_DIF_YTTBAR.pineappl.lz4\")\n",
    "\n",
    "    # Sign of the rapidity\n",
    "    sign: int = 1 if positive else (-1)\n",
    "    suffix: str = \"positive\" if positive else \"negative\"\n",
    "\n",
    "    # Modify the bin limits\n",
    "    modified_rap_bins = [\n",
    "        (float(left), float(right))\n",
    "        for left, right in zip(sign * grid.bin_left(0), sign * grid.bin_right(0))\n",
    "    ]\n",
    "\n",
    "    # Re-write the Grid bin limits\n",
    "    remapper = pineappl.bin.BinRemapper(2.0 * grid.bin_normalizations(), modified_rap_bins)\n",
    "    grid.set_remapper(remapper)\n",
    "    grid.write_lz4(f\"{suffix}-rapidity.pineappl.lz4\")\n",
    "\n",
    "    return"
   ],
   "outputs": [],
   "execution_count": 3
  },
  {
   "cell_type": "code",
   "id": "a1b63a0d-f8e4-413c-b618-72995a8c9f87",
   "metadata": {
    "ExecuteTime": {
     "end_time": "2025-03-18T11:01:35.573759Z",
     "start_time": "2025-03-18T11:01:35.571475Z"
    }
   },
   "source": [
    "def check_bin_limits(positive: bool = True) -> None:\n",
    "    suffix: str = \"positive\" if positive else \"negative\"\n",
    "    grid = pineappl.grid.Grid.read(f\"{suffix}-rapidity.pineappl.lz4\")\n",
    "\n",
    "    df = pd.DataFrame({\"bin_left\": grid.bin_left(0), \"bin_right\": grid.bin_right(0)})\n",
    "    print(df)\n",
    "    \n",
    "    return"
   ],
   "outputs": [],
   "execution_count": 4
  },
  {
   "cell_type": "code",
   "id": "d4075bac-12e5-410c-98da-765f6d5dbbf1",
   "metadata": {
    "ExecuteTime": {
     "end_time": "2025-03-18T11:01:46.932001Z",
     "start_time": "2025-03-18T11:01:46.927572Z"
    }
   },
   "source": [
    "def reverse_bins(grid: pineappl.grid.Grid) -> None:\n",
    "    \"\"\"Reverse the bins for a given Grid.\"\"\"\n",
    "    n_bins = grid.bins()                # Get the number of bins\n",
    "    n_orders = len(grid.orders())       # Get the number of PTOs\n",
    "    n_channels = len(grid.channels())   # Get the number of Channels\n",
    "\n",
    "    # Init a new Grid to store the reversed predictions\n",
    "    reversed_bins = np.append(grid.bin_right(0)[-1], grid.bin_left(0)[::-1])\n",
    "    new_grid = pineappl.grid.Grid.create(\n",
    "        [pineappl.lumi.LumiEntry(c) for c in grid.channels()],\n",
    "        grid.orders(),\n",
    "        reversed_bins,\n",
    "        pineappl.subgrid.SubgridParams()\n",
    "    )\n",
    "\n",
    "    # Collect the different subgrids at a given `boc`\n",
    "    subgrids = {}\n",
    "    inv_bindex = [i for i in range(n_bins)]\n",
    "    for b in range(n_bins):\n",
    "        for o in range(n_orders):\n",
    "            for c in range(n_channels):\n",
    "                bb = inv_bindex[-(b+1)]  # Get the reversed order of the bin index\n",
    "                subgrid = grid.subgrid(o, bb, c)\n",
    "                mu2_scales = [(mu2.ren, mu2.fac) for mu2 in subgrid.mu2_grid()]\n",
    "                x1_grid = subgrid.x1_grid()\n",
    "                x2_grid = subgrid.x2_grid()\n",
    "                sub_array = subgrid.to_array3()\n",
    "\n",
    "                subgrid_obj = pineappl.import_only_subgrid.ImportOnlySubgridV2(\n",
    "                    array=sub_array,\n",
    "                    mu2_grid=mu2_scales,\n",
    "                    x1_grid=x1_grid,\n",
    "                    x2_grid=x2_grid,\n",
    "                )\n",
    "                new_grid.set_subgrid(o, b, c, subgrid=subgrid_obj)\n",
    "\n",
    "    # Fix back the normalization - Infer from the original Grid\n",
    "    # TODO: Merge this with the function aboves!!!\n",
    "    rap_bins_ref = [\n",
    "        (float(left), float(right))\n",
    "        for left, right in zip(new_grid.bin_left(0), new_grid.bin_right(0))\n",
    "    ]\n",
    "    remapper = pineappl.bin.BinRemapper(2.0 * new_grid.bin_normalizations(), rap_bins_ref)\n",
    "    new_grid.set_remapper(remapper)\n",
    "                \n",
    "    new_grid.write_lz4(\"reversed-bins.pineappl.lz4\")\n",
    "    return"
   ],
   "outputs": [],
   "execution_count": 5
  },
  {
   "cell_type": "code",
   "id": "9641607b-aedc-45fb-9f43-1427eaf39b42",
   "metadata": {
    "ExecuteTime": {
     "end_time": "2025-03-18T11:01:50.096164Z",
     "start_time": "2025-03-18T11:01:48.952181Z"
    }
   },
   "source": [
    "# Generate the negative rapidity bins\n",
    "modify_bins(positive=False)"
   ],
   "outputs": [],
   "execution_count": 6
  },
  {
   "cell_type": "code",
   "id": "ed6ae920-ab56-466a-a235-0851d7f746f5",
   "metadata": {
    "ExecuteTime": {
     "end_time": "2025-03-18T11:01:50.703941Z",
     "start_time": "2025-03-18T11:01:50.102906Z"
    }
   },
   "source": [
    "check_bin_limits(positive=False)"
   ],
   "outputs": [
    {
     "name": "stdout",
     "output_type": "stream",
     "text": [
      "   bin_left  bin_right\n",
      "0     -0.00      -0.25\n",
      "1     -0.25      -0.50\n",
      "2     -0.50      -0.80\n",
      "3     -0.80      -1.10\n",
      "4     -1.10      -1.40\n",
      "5     -1.40      -1.80\n",
      "6     -1.80      -2.50\n"
     ]
    }
   ],
   "execution_count": 7
  },
  {
   "cell_type": "code",
   "id": "efff8bd9-7a5a-41ad-8422-60df73d85ff3",
   "metadata": {
    "ExecuteTime": {
     "end_time": "2025-03-18T11:01:54.018157Z",
     "start_time": "2025-03-18T11:01:52.929650Z"
    }
   },
   "source": [
    "# Generate the positive rapidity bins\n",
    "modify_bins(positive=True)"
   ],
   "outputs": [],
   "execution_count": 8
  },
  {
   "cell_type": "code",
   "execution_count": 10,
   "id": "b4d5cd46-da04-4776-8882-f9a515b9d0b2",
   "metadata": {},
   "outputs": [
    {
     "name": "stdout",
     "output_type": "stream",
     "text": [
      "   bin_left  bin_right\n",
      "0      0.00       0.25\n",
      "1      0.25       0.50\n",
      "2      0.50       0.80\n",
      "3      0.80       1.10\n",
      "4      1.10       1.40\n",
      "5      1.40       1.80\n",
      "6      1.80       2.50\n"
     ]
    }
   ],
   "source": [
    "check_bin_limits(positive=True)"
   ]
  },
  {
   "cell_type": "code",
   "id": "14d90c18-7de6-497a-ac5a-b7383b956148",
   "metadata": {
    "ExecuteTime": {
     "end_time": "2025-03-18T11:02:02.227405Z",
     "start_time": "2025-03-18T11:01:58.470109Z"
    }
   },
   "source": [
    "# Reverse the order of the Bins\n",
    "reversed_bins_neg_rap = pineappl.grid.Grid.read(\"negative-rapidity.pineappl.lz4\")\n",
    "reverse_bins(grid=reversed_bins_neg_rap)"
   ],
   "outputs": [],
   "execution_count": 9
  },
  {
   "cell_type": "code",
   "id": "33d84b86-f4b5-4a05-8b26-685496230919",
   "metadata": {
    "ExecuteTime": {
     "end_time": "2025-03-18T11:02:05.457848Z",
     "start_time": "2025-03-18T11:02:04.906786Z"
    }
   },
   "source": [
    "!pineappl convolve reversed-bins.pineappl.lz4 NNPDF40_nnlo_as_01180"
   ],
   "outputs": [
    {
     "name": "stdout",
     "output_type": "stream",
     "text": [
      "b\u001B[m     x1     \u001B[m    diff    \u001B[m\r\n",
      " \u001B[m     []     \u001B[m     []     \u001B[m\r\n",
      "-+-----+-----+-----------\r\n",
      "0\u001B[m  -2.5\u001B[m  -1.8\u001B[m 4.0294414e4\u001B[m\r\n",
      "1\u001B[m  -1.8\u001B[m  -1.4\u001B[m 9.8823182e4\u001B[m\r\n",
      "2\u001B[m  -1.4\u001B[m  -1.1\u001B[m 1.6166964e5\u001B[m\r\n",
      "3\u001B[m  -1.1\u001B[m  -0.8\u001B[m 1.9865539e5\u001B[m\r\n",
      "4\u001B[m  -0.8\u001B[m  -0.5\u001B[m 2.3706960e5\u001B[m\r\n",
      "5\u001B[m  -0.5\u001B[m -0.25\u001B[m 2.5834273e5\u001B[m\r\n",
      "6\u001B[m -0.25\u001B[m    -0\u001B[m 2.7516933e5\u001B[m\r\n"
     ]
    }
   ],
   "execution_count": 10
  },
  {
   "cell_type": "code",
   "id": "a0fd74dc-3033-4038-a910-7b8b5890953a",
   "metadata": {
    "ExecuteTime": {
     "end_time": "2025-03-18T11:02:07.873841Z",
     "start_time": "2025-03-18T11:02:07.871102Z"
    }
   },
   "source": [
    "def merge_bins() -> None:\n",
    "    \"\"\"Merge two grids with different bins\"\"\"\n",
    "    grid1 = pineappl.grid.Grid.read(\"./positive-rapidity.pineappl.lz4\")\n",
    "    grid2 = pineappl.grid.Grid.read(\"./reversed-bins.pineappl.lz4\")\n",
    "    grid2.merge(grid1)\n",
    "    grid2.write_lz4(\"combined-rapidity.pineappl.lz4\")\n",
    "\n",
    "    return"
   ],
   "outputs": [],
   "execution_count": 11
  },
  {
   "cell_type": "code",
   "id": "b070d983-b24b-4362-9173-bd02542513cc",
   "metadata": {
    "ExecuteTime": {
     "end_time": "2025-03-18T11:02:13.004677Z",
     "start_time": "2025-03-18T11:02:11.135377Z"
    }
   },
   "source": [
    "merge_bins()"
   ],
   "outputs": [],
   "execution_count": 12
  },
  {
   "cell_type": "code",
   "id": "cbff7d99-7395-4291-bc76-9b7b3b46dd08",
   "metadata": {
    "ExecuteTime": {
     "end_time": "2025-03-18T11:02:15.220411Z",
     "start_time": "2025-03-18T11:02:13.736668Z"
    }
   },
   "source": [
    "!pineappl convolve combined-rapidity.pineappl.lz4 NNPDF40_nnlo_as_01180"
   ],
   "outputs": [
    {
     "name": "stdout",
     "output_type": "stream",
     "text": [
      "b \u001B[m     x1     \u001B[m    diff    \u001B[m\r\n",
      "  \u001B[m     []     \u001B[m     []     \u001B[m\r\n",
      "--+-----+-----+-----------\r\n",
      " 0\u001B[m  -2.5\u001B[m  -1.8\u001B[m 4.0294414e4\u001B[m\r\n",
      " 1\u001B[m  -1.8\u001B[m  -1.4\u001B[m 9.8823182e4\u001B[m\r\n",
      " 2\u001B[m  -1.4\u001B[m  -1.1\u001B[m 1.6166964e5\u001B[m\r\n",
      " 3\u001B[m  -1.1\u001B[m  -0.8\u001B[m 1.9865539e5\u001B[m\r\n",
      " 4\u001B[m  -0.8\u001B[m  -0.5\u001B[m 2.3706960e5\u001B[m\r\n",
      " 5\u001B[m  -0.5\u001B[m -0.25\u001B[m 2.5834273e5\u001B[m\r\n",
      " 6\u001B[m -0.25\u001B[m    -0\u001B[m 2.7516933e5\u001B[m\r\n",
      " 7\u001B[m     0\u001B[m  0.25\u001B[m 2.7516933e5\u001B[m\r\n",
      " 8\u001B[m  0.25\u001B[m   0.5\u001B[m 2.5834273e5\u001B[m\r\n",
      " 9\u001B[m   0.5\u001B[m   0.8\u001B[m 2.3706960e5\u001B[m\r\n",
      "10\u001B[m   0.8\u001B[m   1.1\u001B[m 1.9865539e5\u001B[m\r\n",
      "11\u001B[m   1.1\u001B[m   1.4\u001B[m 1.6166964e5\u001B[m\r\n",
      "12\u001B[m   1.4\u001B[m   1.8\u001B[m 9.8823182e4\u001B[m\r\n",
      "13\u001B[m   1.8\u001B[m   2.5\u001B[m 4.0294414e4\u001B[m\r\n"
     ]
    }
   ],
   "execution_count": 13
  },
  {
   "metadata": {
    "ExecuteTime": {
     "end_time": "2025-03-18T11:03:15.591408Z",
     "start_time": "2025-03-18T11:03:15.587348Z"
    }
   },
   "cell_type": "code",
   "source": "2.7516933e5 * 2",
   "id": "896933b3d891057d",
   "outputs": [
    {
     "data": {
      "text/plain": [
       "550338.66"
      ]
     },
     "execution_count": 14,
     "metadata": {},
     "output_type": "execute_result"
    }
   ],
   "execution_count": 14
  },
  {
   "metadata": {},
   "cell_type": "code",
   "outputs": [],
   "execution_count": null,
   "source": "",
   "id": "6d5c886aa3848ebe"
  }
 ],
 "metadata": {
  "kernelspec": {
   "display_name": "Python 3 (ipykernel)",
   "language": "python",
   "name": "python3"
  },
  "language_info": {
   "codemirror_mode": {
    "name": "ipython",
    "version": 3
   },
   "file_extension": ".py",
   "mimetype": "text/x-python",
   "name": "python",
   "nbconvert_exporter": "python",
   "pygments_lexer": "ipython3",
   "version": "3.12.4"
  }
 },
 "nbformat": 4,
 "nbformat_minor": 5
}
