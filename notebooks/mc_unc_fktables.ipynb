{
 "cells": [
  {
   "cell_type": "code",
   "execution_count": null,
   "id": "initial_id",
   "metadata": {
    "collapsed": true
   },
   "outputs": [],
   "source": "# edit the FK tables to add the MC uncertainty. Follow https://pineappl.readthedocs.io/en/latest/introduction.html#How-can-I-edit-a-grid?"
  },
  {
   "metadata": {
    "ExecuteTime": {
     "end_time": "2025-08-12T16:33:56.770445Z",
     "start_time": "2025-08-12T16:33:56.727605Z"
    }
   },
   "cell_type": "code",
   "source": [
    "import pandas as pd\n",
    "import pineappl\n",
    "from pineappl.convolutions import Conv, ConvType\n",
    "import lhapdf\n",
    "import numpy as np\n",
    "\n",
    "# Choose the PDF set to be used\n",
    "pdfset = \"NNPDF40_nnlo_as_01180\"\n",
    "# Use the central PDF, ie. member ID=0\n",
    "pdf = lhapdf.mkPDF(pdfset, 0)\n",
    "\n",
    "\n",
    "grid = pineappl.grid.Grid.read(\"/Users/jaco/Documents/physics_projects/theories_slim/data/grids/40009000/ATLAS_TTBAR_7TEV_TOT_X-SEC.pineappl.lz4\")\n",
    "\n",
    "conv_type = ConvType(polarized=False, time_like=False)\n",
    "conv_object = Conv(convolution_types=conv_type, pid=2212)\n",
    "\n",
    "\n",
    "predictions = grid.convolve(\n",
    "    pdg_convs=[conv_object, conv_object],  # Similar convolutions for symmetric protons\n",
    "    xfxs=[pdf.xfxQ2, pdf.xfxQ2],  # Similar PDF sets for symmetric protons\n",
    "    alphas=pdf.alphasQ2,\n",
    ")\n",
    "df_preds = pd.DataFrame(\n",
    "    {\n",
    "        \"bins\": range(predictions.size),\n",
    "        \"predictions\": predictions,\n",
    "    }\n",
    ")\n",
    "df_preds\n",
    "\n",
    "# df_bins = pd.DataFrame({\"bin normalization\": grid.bin_normalizations()})\n",
    "# df_bins"
   ],
   "id": "9ca0eacd77b8bb5d",
   "outputs": [
    {
     "name": "stdout",
     "output_type": "stream",
     "text": [
      "LHAPDF 6.5.5 loading /Users/jaco/miniconda3/envs/nnpdf_dev/share/LHAPDF/NNPDF40_nnlo_as_01180/NNPDF40_nnlo_as_01180_0000.dat\n",
      "NNPDF40_nnlo_as_01180 PDF set, member #0, version 1; LHAPDF ID = 331100\n"
     ]
    },
    {
     "data": {
      "text/plain": [
       "   bins  predictions\n",
       "0     0   166.396535"
      ],
      "text/html": [
       "<div>\n",
       "<style scoped>\n",
       "    .dataframe tbody tr th:only-of-type {\n",
       "        vertical-align: middle;\n",
       "    }\n",
       "\n",
       "    .dataframe tbody tr th {\n",
       "        vertical-align: top;\n",
       "    }\n",
       "\n",
       "    .dataframe thead th {\n",
       "        text-align: right;\n",
       "    }\n",
       "</style>\n",
       "<table border=\"1\" class=\"dataframe\">\n",
       "  <thead>\n",
       "    <tr style=\"text-align: right;\">\n",
       "      <th></th>\n",
       "      <th>bins</th>\n",
       "      <th>predictions</th>\n",
       "    </tr>\n",
       "  </thead>\n",
       "  <tbody>\n",
       "    <tr>\n",
       "      <th>0</th>\n",
       "      <td>0</td>\n",
       "      <td>166.396535</td>\n",
       "    </tr>\n",
       "  </tbody>\n",
       "</table>\n",
       "</div>"
      ]
     },
     "execution_count": 6,
     "metadata": {},
     "output_type": "execute_result"
    }
   ],
   "execution_count": 6
  },
  {
   "metadata": {
    "ExecuteTime": {
     "end_time": "2025-08-12T16:36:14.999638Z",
     "start_time": "2025-08-12T16:36:14.997151Z"
    }
   },
   "cell_type": "code",
   "source": [
    "# Import the Module to set bin specifications\n",
    "from pineappl.boc import BinsWithFillLimits\n",
    "\n",
    "# To get the bin configurations\n",
    "bin_dims = grid.bin_dimensions()\n",
    "\n",
    "bin_specs = np.array(grid.bin_limits())\n",
    "\n",
    "# Extract the left & right bin limits\n",
    "bin_limits = [\n",
    "    [(bin_specs[b, d, 0], bin_specs[b, d, 1]) for d in range(bin_dims)]\n",
    "    for b in range(grid.len())\n",
    "]\n",
    "\n",
    "# Set the normalization factor to `1`\n",
    "#divide by 2\n",
    "# TODO: find rescaling factors from MC\n",
    "normalizations = [2.0 for _ in grid.bin_normalizations()]\n",
    "\n",
    "# Instantiate the bin spec object\n",
    "bin_configs = BinsWithFillLimits.from_limits_and_normalizations(\n",
    "    limits=bin_limits,\n",
    "    normalizations=normalizations,\n",
    ")\n",
    "\n",
    "# Set the updated bin configurations\n",
    "grid.set_bwfl(bin_configs)"
   ],
   "id": "e202c51d1730cd92",
   "outputs": [],
   "execution_count": 16
  },
  {
   "metadata": {
    "ExecuteTime": {
     "end_time": "2025-08-12T16:36:18.244608Z",
     "start_time": "2025-08-12T16:36:18.236284Z"
    }
   },
   "cell_type": "code",
   "source": [
    "predictions2 = grid.convolve(\n",
    "    pdg_convs=[conv_object, conv_object],  # Similar convolutions for symmetric protons\n",
    "    xfxs=[pdf.xfxQ2, pdf.xfxQ2],  # Similar PDF sets for symmetric protons\n",
    "    alphas=pdf.alphasQ2,\n",
    ")\n",
    "df_preds2 = pd.DataFrame(\n",
    "    {\n",
    "        \"bins\": range(predictions2.size),\n",
    "        \"predictions\": predictions2,\n",
    "    }\n",
    ")\n",
    "df_preds2"
   ],
   "id": "31729f2d3d794c92",
   "outputs": [
    {
     "data": {
      "text/plain": [
       "   bins  predictions\n",
       "0     0    83.198268"
      ],
      "text/html": [
       "<div>\n",
       "<style scoped>\n",
       "    .dataframe tbody tr th:only-of-type {\n",
       "        vertical-align: middle;\n",
       "    }\n",
       "\n",
       "    .dataframe tbody tr th {\n",
       "        vertical-align: top;\n",
       "    }\n",
       "\n",
       "    .dataframe thead th {\n",
       "        text-align: right;\n",
       "    }\n",
       "</style>\n",
       "<table border=\"1\" class=\"dataframe\">\n",
       "  <thead>\n",
       "    <tr style=\"text-align: right;\">\n",
       "      <th></th>\n",
       "      <th>bins</th>\n",
       "      <th>predictions</th>\n",
       "    </tr>\n",
       "  </thead>\n",
       "  <tbody>\n",
       "    <tr>\n",
       "      <th>0</th>\n",
       "      <td>0</td>\n",
       "      <td>83.198268</td>\n",
       "    </tr>\n",
       "  </tbody>\n",
       "</table>\n",
       "</div>"
      ]
     },
     "execution_count": 17,
     "metadata": {},
     "output_type": "execute_result"
    }
   ],
   "execution_count": 17
  },
  {
   "metadata": {},
   "cell_type": "code",
   "outputs": [],
   "execution_count": null,
   "source": [
    "# write new grid\n",
    "#grid.write_lz4(\"./LHCB_DY_8TEV_custom_normalizations.pineappl.lz4\")"
   ],
   "id": "d546e3174257a592"
  }
 ],
 "metadata": {
  "kernelspec": {
   "display_name": "Python 3",
   "language": "python",
   "name": "python3"
  },
  "language_info": {
   "codemirror_mode": {
    "name": "ipython",
    "version": 2
   },
   "file_extension": ".py",
   "mimetype": "text/x-python",
   "name": "python",
   "nbconvert_exporter": "python",
   "pygments_lexer": "ipython2",
   "version": "2.7.6"
  }
 },
 "nbformat": 4,
 "nbformat_minor": 5
}
