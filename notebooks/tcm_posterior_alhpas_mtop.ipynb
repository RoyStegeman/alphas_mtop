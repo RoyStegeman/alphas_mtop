{
 "cells": [
  {
   "metadata": {},
   "cell_type": "code",
   "source": [
    "import matplotlib.pyplot as plt\n",
    "import pandas as pd\n",
    "import numpy as np\n",
    "from scipy.optimize import curve_fit\n",
    "import tcm"
   ],
   "id": "8f763928529e5d00",
   "outputs": [],
   "execution_count": null
  },
  {
   "metadata": {
    "ExecuteTime": {
     "end_time": "2025-06-19T12:49:00.787330Z",
     "start_time": "2025-06-19T12:49:00.248550Z"
    }
   },
   "cell_type": "code",
   "source": [
    "fitname = \"250519-jth-exa-nnlo-alphas_mt_mtt_tcm_iterated\"\n",
    "pred_mtt, P_tilde_mtt = tcm.compute_posterior(fitname)\n",
    "fitname = \"250519-jth-exa-nnlo-alphas_mt_pTt_tcm_iterated\"\n",
    "pred_pTt, P_tilde_pTt = tcm.compute_posterior(fitname)\n",
    "fitname = \"250519-jth-exa-nnlo-alphas_mt_y_tcm_iterated\"\n",
    "pred_y, P_tilde_y = tcm.compute_posterior(fitname)"
   ],
   "id": "47f9116c11b4e3e",
   "outputs": [
    {
     "ename": "ConfigError",
     "evalue": "Scale variations are not currently defined for this central theoryid. It is currently only possible to use one of the following as the central theory: 834, 717, 835, 807, 708, 40000000, 40000100, 808, 40008001, 40008002, 40008003, 40008004, 40008005, 40008006, 40008007, 40008008, 40008009, 40008010, 40008011, 40008012, 40003001, 40003002, 40003003, 40003004, 702, 40003005, 40003006, 40003007, 40003008, 40003009, 40003010, 40003011, 40004001, 40004002, 40004003, 40004004, 824, 40004005, 40004006, 40004007, 40004008, 40004009, 40004010, 40004011, 1000, 41100000, 41100010, 41100020, 40005000, 809, 40002001, 40002002, 40002003, 40002004, 722, 40002006, 40002007, 40002008, 40002009, 40002010, 40002011, 40002012, 40007001, 40007002, 40007003, 40007004, 40007005, 40007006, 40007007, 40007008, 40007009, 40007010, 40007011, 40007012. Please use one of these instead if you wish to include theory uncertainties here.\n",
     "output_type": "error",
     "traceback": [
      "\u001B[31m---------------------------------------------------------------------------\u001B[39m",
      "\u001B[31mConfigError\u001B[39m                               Traceback (most recent call last)",
      "\u001B[36mCell\u001B[39m\u001B[36m \u001B[39m\u001B[32mIn[2]\u001B[39m\u001B[32m, line 2\u001B[39m\n\u001B[32m      1\u001B[39m fitname = \u001B[33m\"\u001B[39m\u001B[33m250519-jth-exa-nnlo-alphas_mt_mtt_tcm_iterated\u001B[39m\u001B[33m\"\u001B[39m\n\u001B[32m----> \u001B[39m\u001B[32m2\u001B[39m pred_mtt, P_tilde_mtt = tcm.compute_posterior(fitname)\n\u001B[32m      3\u001B[39m fitname = \u001B[33m\"\u001B[39m\u001B[33m250519-jth-exa-nnlo-alphas_mt_pTt_tcm_iterated\u001B[39m\u001B[33m\"\u001B[39m\n\u001B[32m      4\u001B[39m pred_pTt, P_tilde_pTt = tcm.compute_posterior(fitname)\n",
      "\u001B[36mFile \u001B[39m\u001B[32m~/Documents/physics_projects/alphas_mtop/notebooks/tcm.py:51\u001B[39m, in \u001B[36mcompute_posterior\u001B[39m\u001B[34m(fitname)\u001B[39m\n\u001B[32m     43\u001B[39m theoryids_dict_alphas = ({\n\u001B[32m     44\u001B[39m                              \u001B[33m\"\u001B[39m\u001B[33mpoint_prescription\u001B[39m\u001B[33m\"\u001B[39m: alphas_pp,\n\u001B[32m     45\u001B[39m                              \u001B[33m\"\u001B[39m\u001B[33mtheoryid\u001B[39m\u001B[33m\"\u001B[39m: {\u001B[33m\"\u001B[39m\u001B[33mfrom_\u001B[39m\u001B[33m\"\u001B[39m: \u001B[33m\"\u001B[39m\u001B[33mtheory\u001B[39m\u001B[33m\"\u001B[39m},\n\u001B[32m     46\u001B[39m                              \u001B[33m\"\u001B[39m\u001B[33mtheory\u001B[39m\u001B[33m\"\u001B[39m: {\u001B[33m\"\u001B[39m\u001B[33mfrom_\u001B[39m\u001B[33m\"\u001B[39m: \u001B[33m\"\u001B[39m\u001B[33mfit\u001B[39m\u001B[33m\"\u001B[39m},\n\u001B[32m     47\u001B[39m                              \u001B[33m\"\u001B[39m\u001B[33mtheorycovmatconfig\u001B[39m\u001B[33m\"\u001B[39m: {\u001B[33m\"\u001B[39m\u001B[33mfrom_\u001B[39m\u001B[33m\"\u001B[39m: \u001B[33m\"\u001B[39m\u001B[33mfit\u001B[39m\u001B[33m\"\u001B[39m},\n\u001B[32m     48\u001B[39m                          } | common_dict)\n\u001B[32m     50\u001B[39m \u001B[38;5;66;03m# extract theory ids for mtop and alphas including their variations\u001B[39;00m\n\u001B[32m---> \u001B[39m\u001B[32m51\u001B[39m theoryids_mtop = API.theoryids(**theoryids_dict_mtop)\n\u001B[32m     52\u001B[39m theoryids_alphas = API.theoryids(**theoryids_dict_alphas)\n\u001B[32m     54\u001B[39m theory_central = theoryids_mtop[\u001B[32m0\u001B[39m].id\n",
      "\u001B[36mFile \u001B[39m\u001B[32m~/miniconda3/envs/nnpdf_dev/lib/python3.12/site-packages/reportengine/api.py:44\u001B[39m, in \u001B[36mAPI.__getattr__.<locals>.closure\u001B[39m\u001B[34m(**kwargs)\u001B[39m\n\u001B[32m     43\u001B[39m \u001B[38;5;28;01mdef\u001B[39;00m\u001B[38;5;250m \u001B[39m\u001B[34mclosure\u001B[39m(**kwargs):\n\u001B[32m---> \u001B[39m\u001B[32m44\u001B[39m     \u001B[38;5;28;01mreturn\u001B[39;00m \u001B[38;5;28mself\u001B[39m.\u001B[34m__call__\u001B[39m(name, **kwargs)\n",
      "\u001B[36mFile \u001B[39m\u001B[32m~/miniconda3/envs/nnpdf_dev/lib/python3.12/site-packages/reportengine/api.py:37\u001B[39m, in \u001B[36mAPI.__call__\u001B[39m\u001B[34m(self, actions, **kwargs)\u001B[39m\n\u001B[32m     35\u001B[39m builder = ResourceBuilder(c, \u001B[38;5;28mself\u001B[39m.provider_loaded, fuzzytarg, perform_final=\u001B[38;5;28;01mFalse\u001B[39;00m)\n\u001B[32m     36\u001B[39m builder.rootns.update(\u001B[38;5;28mself\u001B[39m.loadedenv.ns_dump())\n\u001B[32m---> \u001B[39m\u001B[32m37\u001B[39m builder.resolve_fuzzytargets()\n\u001B[32m     38\u001B[39m builder.execute_sequential()\n\u001B[32m     39\u001B[39m res = builder.rootns[actions]\n",
      "\u001B[36mFile \u001B[39m\u001B[32m~/miniconda3/envs/nnpdf_dev/lib/python3.12/site-packages/reportengine/resourcebuilder.py:529\u001B[39m, in \u001B[36mResourceBuilder.resolve_fuzzytargets\u001B[39m\u001B[34m(self)\u001B[39m\n\u001B[32m    527\u001B[39m \u001B[38;5;28;01mdef\u001B[39;00m\u001B[38;5;250m \u001B[39m\u001B[34mresolve_fuzzytargets\u001B[39m(\u001B[38;5;28mself\u001B[39m):\n\u001B[32m    528\u001B[39m     \u001B[38;5;28;01mfor\u001B[39;00m target \u001B[38;5;129;01min\u001B[39;00m \u001B[38;5;28mself\u001B[39m.fuzzytargets:\n\u001B[32m--> \u001B[39m\u001B[32m529\u001B[39m         \u001B[38;5;28mself\u001B[39m.resolve_fuzzytarget(target)\n",
      "\u001B[36mFile \u001B[39m\u001B[32m~/miniconda3/envs/nnpdf_dev/lib/python3.12/site-packages/reportengine/resourcebuilder.py:538\u001B[39m, in \u001B[36mResourceBuilder.resolve_fuzzytarget\u001B[39m\u001B[34m(self, fuzzytarget)\u001B[39m\n\u001B[32m    535\u001B[39m specs = \u001B[38;5;28mself\u001B[39m.expand_fuzzytarget_spec(fuzzytarget)\n\u001B[32m    537\u001B[39m \u001B[38;5;28;01mfor\u001B[39;00m spec \u001B[38;5;129;01min\u001B[39;00m specs:\n\u001B[32m--> \u001B[39m\u001B[32m538\u001B[39m     \u001B[38;5;28mself\u001B[39m.process_targetspec(fuzzytarget.name, spec, fuzzytarget.extraargs)\n",
      "\u001B[36mFile \u001B[39m\u001B[32m~/miniconda3/envs/nnpdf_dev/lib/python3.12/site-packages/reportengine/resourcebuilder.py:547\u001B[39m, in \u001B[36mResourceBuilder.process_targetspec\u001B[39m\u001B[34m(self, name, nsspec, extraargs, default)\u001B[39m\n\u001B[32m    543\u001B[39m log.debug(\u001B[33m\"\u001B[39m\u001B[33mProcessing target \u001B[39m\u001B[38;5;132;01m%s\u001B[39;00m\u001B[33m\"\u001B[39m % name)\n\u001B[32m    545\u001B[39m gen = \u001B[38;5;28mself\u001B[39m._process_requirement(name, nsspec, extraargs=extraargs,\n\u001B[32m    546\u001B[39m                                 default=default, parents=[])\n\u001B[32m--> \u001B[39m\u001B[32m547\u001B[39m gen.send(\u001B[38;5;28;01mNone\u001B[39;00m)\n\u001B[32m    548\u001B[39m \u001B[38;5;28;01mtry\u001B[39;00m:\n\u001B[32m    549\u001B[39m     gen.send(\u001B[38;5;28;01mNone\u001B[39;00m)\n",
      "\u001B[36mFile \u001B[39m\u001B[32m~/miniconda3/envs/nnpdf_dev/lib/python3.12/site-packages/reportengine/resourcebuilder.py:576\u001B[39m, in \u001B[36mResourceBuilder._process_requirement\u001B[39m\u001B[34m(self, name, nsspec, extraargs, default, parents)\u001B[39m\n\u001B[32m    574\u001B[39m \u001B[38;5;66;03m#First try to find the name in the namespace\u001B[39;00m\n\u001B[32m    575\u001B[39m \u001B[38;5;28;01mtry\u001B[39;00m:\n\u001B[32m--> \u001B[39m\u001B[32m576\u001B[39m     put_index, val = \u001B[38;5;28mself\u001B[39m.input_parser.resolve_key(name, ns, parents=parents, currspec=nsspec)\n\u001B[32m    577\u001B[39m     log.debug(\u001B[33m\"\u001B[39m\u001B[33mFound \u001B[39m\u001B[38;5;132;01m%s\u001B[39;00m\u001B[33m for spec \u001B[39m\u001B[38;5;132;01m%s\u001B[39;00m\u001B[33m at \u001B[39m\u001B[38;5;132;01m%s\u001B[39;00m\u001B[33m\"\u001B[39m%(name, nsspec, put_index))\n\u001B[32m    579\u001B[39m \u001B[38;5;28;01mexcept\u001B[39;00m InputNotFoundError \u001B[38;5;28;01mas\u001B[39;00m e:\n\u001B[32m    580\u001B[39m     \u001B[38;5;66;03m#See https://www.python.org/dev/peps/pep-3110/\u001B[39;00m\n",
      "\u001B[36mFile \u001B[39m\u001B[32m~/miniconda3/envs/nnpdf_dev/lib/python3.12/site-packages/reportengine/configparser.py:429\u001B[39m, in \u001B[36mConfig.resolve_key\u001B[39m\u001B[34m(self, key, ns, input_params, parents, max_index, write, currspec)\u001B[39m\n\u001B[32m    427\u001B[39m     input_params = \u001B[38;5;28mself\u001B[39m.input_params\n\u001B[32m    428\u001B[39m \u001B[38;5;28;01mwith\u001B[39;00m \u001B[38;5;28mself\u001B[39m.set_context(key, ns, input_params, parents, currspec):\n\u001B[32m--> \u001B[39m\u001B[32m429\u001B[39m     \u001B[38;5;28;01mreturn\u001B[39;00m \u001B[38;5;28mself\u001B[39m._resolve_key(key=key, ns=ns, input_params=input_params,\n\u001B[32m    430\u001B[39m         parents=parents, max_index=max_index, write=write)\n",
      "\u001B[36mFile \u001B[39m\u001B[32m~/miniconda3/envs/nnpdf_dev/lib/python3.12/site-packages/reportengine/configparser.py:491\u001B[39m, in \u001B[36mConfig._resolve_key\u001B[39m\u001B[34m(self, key, ns, input_params, parents, max_index, write)\u001B[39m\n\u001B[32m    488\u001B[39m     \u001B[38;5;28;01mreturn\u001B[39;00m nsindex, nsval\n\u001B[32m    490\u001B[39m \u001B[38;5;28mself\u001B[39m._tainted = \u001B[38;5;28;01mFalse\u001B[39;00m\n\u001B[32m--> \u001B[39m\u001B[32m491\u001B[39m val = produce_func(**kwargs)\n\u001B[32m    492\u001B[39m \u001B[38;5;28;01mif\u001B[39;00m \u001B[38;5;28mself\u001B[39m._tainted:\n\u001B[32m    493\u001B[39m     put_index = \u001B[32m0\u001B[39m\n",
      "\u001B[36mFile \u001B[39m\u001B[32m~/Documents/physics_projects/nnpdf/validphys2/src/validphys/config.py:1790\u001B[39m, in \u001B[36mCoreConfig.produce_theoryids\u001B[39m\u001B[34m(self, t0id, point_prescription)\u001B[39m\n\u001B[32m   1788\u001B[39m \u001B[38;5;28;01mif\u001B[39;00m th \u001B[38;5;129;01mnot\u001B[39;00m \u001B[38;5;129;01min\u001B[39;00m cent_thids:\n\u001B[32m   1789\u001B[39m     valid_thids = \u001B[33m\"\u001B[39m\u001B[33m, \u001B[39m\u001B[33m\"\u001B[39m.join([\u001B[38;5;28mstr\u001B[39m(i) \u001B[38;5;28;01mfor\u001B[39;00m i \u001B[38;5;129;01min\u001B[39;00m cent_thids])\n\u001B[32m-> \u001B[39m\u001B[32m1790\u001B[39m     \u001B[38;5;28;01mraise\u001B[39;00m ConfigError(\n\u001B[32m   1791\u001B[39m         \u001B[33m\"\u001B[39m\u001B[33mScale variations are not currently defined for this central theoryid. It is \u001B[39m\u001B[33m\"\u001B[39m\n\u001B[32m   1792\u001B[39m         + \u001B[33mf\u001B[39m\u001B[33m\"\u001B[39m\u001B[33mcurrently only possible to use one of the following as the central theory: \u001B[39m\u001B[38;5;132;01m{\u001B[39;00mvalid_thids\u001B[38;5;132;01m}\u001B[39;00m\u001B[33m. \u001B[39m\u001B[33m\"\u001B[39m\n\u001B[32m   1793\u001B[39m         + \u001B[33m\"\u001B[39m\u001B[33mPlease use one of these instead if you wish to include theory uncertainties here.\u001B[39m\u001B[33m\"\u001B[39m\n\u001B[32m   1794\u001B[39m     )\n\u001B[32m   1796\u001B[39m \u001B[38;5;66;03m# Find scales that correspond to this point prescription\u001B[39;00m\n\u001B[32m   1797\u001B[39m pp_scales_dict = yaml_safe.load(\n\u001B[32m   1798\u001B[39m     read_text(validphys.scalevariations, \u001B[33m\"\u001B[39m\u001B[33mpointprescriptions.yaml\u001B[39m\u001B[33m\"\u001B[39m)\n\u001B[32m   1799\u001B[39m )\n",
      "\u001B[31mConfigError\u001B[39m: Scale variations are not currently defined for this central theoryid. It is currently only possible to use one of the following as the central theory: 834, 717, 835, 807, 708, 40000000, 40000100, 808, 40008001, 40008002, 40008003, 40008004, 40008005, 40008006, 40008007, 40008008, 40008009, 40008010, 40008011, 40008012, 40003001, 40003002, 40003003, 40003004, 702, 40003005, 40003006, 40003007, 40003008, 40003009, 40003010, 40003011, 40004001, 40004002, 40004003, 40004004, 824, 40004005, 40004006, 40004007, 40004008, 40004009, 40004010, 40004011, 1000, 41100000, 41100010, 41100020, 40005000, 809, 40002001, 40002002, 40002003, 40002004, 722, 40002006, 40002007, 40002008, 40002009, 40002010, 40002011, 40002012, 40007001, 40007002, 40007003, 40007004, 40007005, 40007006, 40007007, 40007008, 40007009, 40007010, 40007011, 40007012. Please use one of these instead if you wish to include theory uncertainties here.\n"
     ]
    }
   ],
   "execution_count": 2
  },
  {
   "metadata": {},
   "cell_type": "code",
   "outputs": [],
   "execution_count": null,
   "source": "tcm.compute_posterior(fitname)",
   "id": "6face2584e8783b"
  },
  {
   "metadata": {},
   "cell_type": "code",
   "source": [
    "# fitname = \"250519-jth-exa-nnlo-alphas_mt_mtt_tcm\"\n",
    "# pred_mtt_non_iterated, P_tilde_mtt_non_iterated = tcm.compute_posterior(fitname)\n",
    "# fitname = \"250519-jth-exa-nnlo-alphas_mt_pTt_tcm\"\n",
    "# pred_pTt_non_iterated, P_tilde_pTt_non_iterated = tcm.compute_posterior(fitname)\n",
    "# fitname = \"250519-jth-exa-nnlo-alphas_mt_y_tcm\"\n",
    "# pred_y_non_iterated, P_tilde_y_non_iterated = tcm.compute_posterior(fitname)"
   ],
   "id": "e49a14a5b78a0e09",
   "outputs": [],
   "execution_count": null
  },
  {
   "metadata": {},
   "cell_type": "code",
   "source": [
    "def plot_ellipse(mu0, sigma, labels, output):\n",
    "    fig, ax = plt.subplots(figsize=(6, 6))\n",
    "    \n",
    "    hndls = []\n",
    "    colors=[\"C0\", \"C1\", \"C2\", \"C3\", \"C4\", \"C5\"]\n",
    "    for i, (mu0_i, sigma_i) in enumerate(zip(mu0, sigma)):\n",
    "        p1 = tcm.confidence_ellipse(\n",
    "            sigma_i,\n",
    "            mu0_i,\n",
    "            ax=ax,\n",
    "            alpha=1,\n",
    "            edgecolor=colors[i],\n",
    "            confidence_level=68,\n",
    "        )\n",
    "        \n",
    "        p2 = tcm.confidence_ellipse(\n",
    "            sigma_i,\n",
    "            mu0_i,\n",
    "            ax=ax,\n",
    "            alpha=0.3,\n",
    "            edgecolor=None,\n",
    "            facecolor=colors[i],\n",
    "            confidence_level=68,\n",
    "        )\n",
    "        \n",
    "        ax.scatter(\n",
    "            mu0_i[0], mu0_i[1],\n",
    "            c='k',\n",
    "            s=20,\n",
    "            marker=\"+\",\n",
    "        )\n",
    "        \n",
    "        hndls.append((p1, p2))\n",
    "        \n",
    "        # msbar_to_pole = 10.38\n",
    "        # pred_abmp = [160.6 + msbar_to_pole, 0.115]\n",
    "        # cov_abmp = np.array([[0.6 ** 2, 0], [0, 0.0009 ** 2]])\n",
    "        \n",
    "        \n",
    "    ax.tick_params(top=True, right=True, direction=\"in\")\n",
    "    plt.xlabel(r'$m_{t}\\:{\\rm [GeV]}$', fontsize=15)\n",
    "    plt.ylabel(r'$\\alpha_s$', fontsize=15)\n",
    "    plt.title(r\"$68\\%\\:\\rm{C.L.\\:interval}$\", fontsize=15)\n",
    "    plt.grid(True)\n",
    "    \n",
    "    mt_pdg = 172.4\n",
    "    as_pdg = 0.118\n",
    "    \n",
    "    #ax.set_xlim(171.5, 173.0)\n",
    "    #ax.set_ylim(pred[1] - 0.0015, pred[1] + 0.0015)\n",
    "    \n",
    "    ax.legend(\n",
    "        labels=labels,\n",
    "        handles=hndls,\n",
    "        loc=\"lower right\",\n",
    "        frameon=False,\n",
    "        fontsize=15,\n",
    "        handlelength=1,\n",
    "        borderpad=0.5,\n",
    "        handletextpad=1,\n",
    "        title_fontsize=24,\n",
    "    )\n",
    "    plt.savefig(f\"plots/{output}.pdf\")\n",
    "    plt.show()\n",
    "\n"
   ],
   "id": "239cc98dc16fc669",
   "outputs": [],
   "execution_count": null
  },
  {
   "metadata": {},
   "cell_type": "code",
   "source": "chi2_values_exp_method = pd.read_csv(\"./results/250524-jth-exa-nnlo-mhou-mtt_alphas-exp-iterated.dat\", sep='\\t')",
   "id": "5b67a4e249718fd9",
   "outputs": [],
   "execution_count": null
  },
  {
   "metadata": {},
   "cell_type": "code",
   "source": [
    "def parabola(x, a, b, c):\n",
    "    return a*x**2 + b*x + c\n",
    "\n",
    "def paraboloid(xy, a, b, c, d, e, f):\n",
    "    x, y = xy\n",
    "    return a*x**2 + b*y**2 + c*x*y + d*x + e*y + f\n",
    "\n",
    "# Fit the paraboloid model to the data\n",
    "ndata = 4655\n",
    "xdata = chi2_values_exp_method[\"m_t\"].values\n",
    "ydata = chi2_values_exp_method[\"alpha_s\"].values\n",
    "zdata = chi2_values_exp_method[\"chi2\"].values * ndata\n",
    "params, covariance = curve_fit(paraboloid, (xdata, ydata), zdata)\n",
    "a, b, c, d, e, f = params\n"
   ],
   "id": "611852bc28c722f6",
   "outputs": [],
   "execution_count": null
  },
  {
   "metadata": {},
   "cell_type": "code",
   "source": [
    "det_params = 4 * a * b - c ** 2 \n",
    "mt_best = (-2 * b * d + c * e) / det_params\n",
    "as_best = (c * d - 2 * a * e) / det_params\n",
    "cv_exp_mtt = np.array([mt_best, as_best]) "
   ],
   "id": "d8e526ad09b0cfe0",
   "outputs": [],
   "execution_count": null
  },
  {
   "metadata": {},
   "cell_type": "code",
   "source": "cv_exp_mtt",
   "id": "5b7b419ba1a699e3",
   "outputs": [],
   "execution_count": null
  },
  {
   "metadata": {},
   "cell_type": "code",
   "source": "cov_exp = 2 * np.array([[2 * b, -c], [-c, 2 * a]]) / det_params",
   "id": "f5276ba32ed04ca8",
   "outputs": [],
   "execution_count": null
  },
  {
   "metadata": {},
   "cell_type": "code",
   "source": "np.sqrt(P_tilde_mtt[1,1]/cov_exp[1,1])",
   "id": "c7ca0506b3eb84ba",
   "outputs": [],
   "execution_count": null
  },
  {
   "metadata": {},
   "cell_type": "code",
   "source": "np.sqrt(cov_exp[1,1])",
   "id": "227040ca67f20a9f",
   "outputs": [],
   "execution_count": null
  },
  {
   "metadata": {},
   "cell_type": "code",
   "source": "cv_exp_mtt",
   "id": "855c88ffe79e37ce",
   "outputs": [],
   "execution_count": null
  },
  {
   "metadata": {},
   "cell_type": "code",
   "source": "pred_mtt",
   "id": "5bcd3f5fb7fdabcc",
   "outputs": [],
   "execution_count": null
  },
  {
   "metadata": {},
   "cell_type": "code",
   "source": "np.sqrt(P_tilde_mtt[1,1])",
   "id": "4d27cd8a3ddd41ff",
   "outputs": [],
   "execution_count": null
  },
  {
   "metadata": {},
   "cell_type": "code",
   "source": "",
   "id": "c7d6ae91b039141e",
   "outputs": [],
   "execution_count": null
  },
  {
   "metadata": {},
   "cell_type": "code",
   "source": "75/44",
   "id": "d004a27e22a02459",
   "outputs": [],
   "execution_count": null
  },
  {
   "metadata": {},
   "cell_type": "code",
   "source": [
    "\n",
    "np.sqrt(P_tilde_mtt[1,1])/ np.sqrt(cov_exp[1, 1])"
   ],
   "id": "eb7487364bcda8ea",
   "outputs": [],
   "execution_count": null
  },
  {
   "metadata": {},
   "cell_type": "code",
   "source": [
    "plot_ellipse(\n",
    "    mu0=[cv_exp_mtt, pred_y, pred_mtt, pred_pTt],\n",
    "    sigma=[cov_exp, P_tilde_y, P_tilde_mtt, P_tilde_pTt],labels=[r\"$m_{t\\bar{t}}\\:\\mathrm{(exp)}$\",r\"$y_t$\", r\"$m_{t\\bar{t}}$\", r\"$p_T^t$\"],\n",
    "    output=\"tcm-exa-nnlo-mhou-alphas_mt\")"
   ],
   "id": "d706a1b751b01ce9",
   "outputs": [],
   "execution_count": null
  },
  {
   "metadata": {},
   "cell_type": "code",
   "source": [
    "# select rows where m_t is 172.5\n",
    "alphas_mt_172_5 = chi2_values_exp_method[chi2_values_exp_method[\"m_t\"] == 172.5].values"
   ],
   "id": "7dfad6b9f712eb51",
   "outputs": [],
   "execution_count": null
  },
  {
   "metadata": {},
   "cell_type": "code",
   "source": "alphas_mt_172_5",
   "id": "40c879b4717e088c",
   "outputs": [],
   "execution_count": null
  },
  {
   "metadata": {},
   "cell_type": "code",
   "source": "params_as_mt_172_5, _ = curve_fit(parabola, alphas_mt_172_5[:, 0], alphas_mt_172_5[:, 2] * ndata)\n",
   "id": "a6a4fdca29170633",
   "outputs": [],
   "execution_count": null
  },
  {
   "metadata": {},
   "cell_type": "code",
   "source": "- params_as_mt_172_5[1] / (2 * params_as_mt_172_5[0])",
   "id": "be68dc129582f3",
   "outputs": [],
   "execution_count": null
  },
  {
   "metadata": {},
   "cell_type": "code",
   "source": "1/np.sqrt(params_as_mt_172_5[0])",
   "id": "4112c8dfa436e8b9",
   "outputs": [],
   "execution_count": null
  },
  {
   "metadata": {},
   "cell_type": "code",
   "source": [
    "plot_ellipse(\n",
    "    mu0=[pred_mtt, pred_pTt, pred_y],\n",
    "    sigma=[P_tilde_mtt, P_tilde_pTt, P_tilde_y],labels=[r\"$m_{t\\bar{t}}$\", r\"$p_T^t$\", r\"$y_t$\"],\n",
    "    output=\"tcm-exa-nnlo-mhou-alphas_mt_v2\")"
   ],
   "id": "748c3555132a568",
   "outputs": [],
   "execution_count": null
  },
  {
   "metadata": {},
   "cell_type": "code",
   "source": "",
   "id": "9353e010bf119106",
   "outputs": [],
   "execution_count": null
  }
 ],
 "metadata": {
  "kernelspec": {
   "display_name": "Python 3 (ipykernel)",
   "language": "python",
   "name": "python3"
  },
  "language_info": {
   "codemirror_mode": {
    "name": "ipython",
    "version": 3
   },
   "file_extension": ".py",
   "mimetype": "text/x-python",
   "name": "python",
   "nbconvert_exporter": "python",
   "pygments_lexer": "ipython3",
   "version": "3.12.7"
  }
 },
 "nbformat": 4,
 "nbformat_minor": 5
}
