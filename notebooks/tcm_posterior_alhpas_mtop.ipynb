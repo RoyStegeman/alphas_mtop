{
 "cells": [
  {
   "cell_type": "code",
   "id": "226dc610",
   "metadata": {
    "ExecuteTime": {
     "end_time": "2025-03-11T16:23:11.010820Z",
     "start_time": "2025-03-11T16:23:11.005816Z"
    }
   },
   "source": [
    "import numpy as np\n",
    "import pandas as pd\n",
    "from matplotlib.sphinxext.mathmpl import fontset_choice\n",
    "from validphys.api import API"
   ],
   "outputs": [],
   "execution_count": 7
  },
  {
   "cell_type": "code",
   "id": "377309ca",
   "metadata": {
    "ExecuteTime": {
     "end_time": "2025-03-11T16:23:11.021021Z",
     "start_time": "2025-03-11T16:23:11.018605Z"
    }
   },
   "source": "fitname = \"250218_mtop_alphas_iterated\"",
   "outputs": [],
   "execution_count": 8
  },
  {
   "cell_type": "code",
   "id": "9a5e4544-7870-42a1-b707-e720e6fde07c",
   "metadata": {
    "ExecuteTime": {
     "end_time": "2025-03-11T16:23:11.030825Z",
     "start_time": "2025-03-11T16:23:11.027674Z"
    }
   },
   "source": [
    "fit = API.fit(fit=fitname)"
   ],
   "outputs": [],
   "execution_count": 9
  },
  {
   "cell_type": "code",
   "id": "7ba537e3a701432e",
   "metadata": {
    "ExecuteTime": {
     "end_time": "2025-03-11T16:23:11.038556Z",
     "start_time": "2025-03-11T16:23:11.035827Z"
    }
   },
   "source": [
    "# We have to know the name of the alphas and mtop point prescriptions (alphas_pp and mtop_pp) to\n",
    "# extract the theoryids. We need alphas_pp_id and mtop_pp_id to identify the .csv file\n",
    "# corresponding to the alphas covmat and mtop used in the fit.\n",
    "pps = fit.as_input()[\"theorycovmatconfig\"][\"point_prescriptions\"]\n",
    "for i, pp in enumerate(pps):\n",
    "    if \"mtop\" in pp:\n",
    "        mtop_pp_id = i\n",
    "        mtop_pp = pp \n",
    "    elif \"alphas\" in pp:\n",
    "        alphas_pp_id = i\n",
    "        alphas_pp = pp\n",
    "    else:\n",
    "        continue"
   ],
   "outputs": [],
   "execution_count": 10
  },
  {
   "metadata": {
    "ExecuteTime": {
     "end_time": "2025-03-11T16:23:11.063341Z",
     "start_time": "2025-03-11T16:23:11.061207Z"
    }
   },
   "cell_type": "code",
   "source": [
    "common_dict = dict(\n",
    "    dataset_inputs={\"from_\": \"fit\"},\n",
    "    fit=fit.name,\n",
    "    fits=[fit.name],\n",
    "    use_cuts=\"fromfit\",\n",
    "    metadata_group=\"nnpdf31_process\",\n",
    ")\n",
    "\n",
    "theoryids_dict_mtop = ({\n",
    "        \"point_prescription\": mtop_pp,\n",
    "        \"theoryid\": {\"from_\": \"theory\"},\n",
    "        \"theory\": {\"from_\": \"fit\"},\n",
    "        \"theorycovmatconfig\": {\"from_\": \"fit\"},\n",
    "    } | common_dict)\n",
    "\n",
    "theoryids_dict_alphas= ({\n",
    "        \"point_prescription\": alphas_pp,\n",
    "        \"theoryid\": {\"from_\": \"theory\"},\n",
    "        \"theory\": {\"from_\": \"fit\"},\n",
    "        \"theorycovmatconfig\": {\"from_\": \"fit\"},\n",
    "    } | common_dict)"
   ],
   "id": "3e00cb08990831d6",
   "outputs": [],
   "execution_count": 11
  },
  {
   "metadata": {
    "ExecuteTime": {
     "end_time": "2025-03-11T16:23:11.194324Z",
     "start_time": "2025-03-11T16:23:11.068101Z"
    }
   },
   "cell_type": "code",
   "source": [
    "# extract theory ids for mtop and alphas including their variations\n",
    "theoryids_mtop = API.theoryids(**theoryids_dict_mtop)\n",
    "theoryids_alphas = API.theoryids(**theoryids_dict_alphas)\n",
    "\n",
    "theory_central = theoryids_mtop[0].id\n",
    "theory_plus = [theoryids_mtop[2].id, theoryids_alphas[1].id]\n",
    "theory_min = [theoryids_mtop[1].id, theoryids_alphas[2].id]"
   ],
   "id": "7c878dd329b7a573",
   "outputs": [],
   "execution_count": 12
  },
  {
   "metadata": {
    "ExecuteTime": {
     "end_time": "2025-03-11T16:23:11.200319Z",
     "start_time": "2025-03-11T16:23:11.198207Z"
    }
   },
   "cell_type": "code",
   "source": [
    "thcov_input_pdf = fit.as_input()[\"theorycovmatconfig\"][\"pdf\"]\n",
    "\n",
    "# Inputs for central theory (used to construct the mtop, alphas covmat).\n",
    "inps_central = dict(theoryid=theory_central, pdf=thcov_input_pdf, **common_dict)\n",
    "\n",
    "# Inputs for plus theory (used to construct the mtop, alphas covmat)\n",
    "inps_plus = [dict(theoryid=theory_id_plus, pdf=thcov_input_pdf, **common_dict) for theory_id_plus in theory_plus]\n",
    "\n",
    "# Inputs for minus theory prediction (used to construct the mtop, alphas covmat)\n",
    "inps_min = [dict(theoryid=theory_id_min, pdf=thcov_input_pdf, **common_dict) for theory_id_min in theory_min]\n",
    "\n",
    "# inputs for the computation of the prediction of the fit with cov=C+S, where S\n",
    "# is computed using the inps_central, inps_plus, and inps_minus dictionaries\n",
    "inps_central_fit = dict(theoryid=theory_central, pdf={\"from_\": \"fit\"}, **common_dict)"
   ],
   "id": "bd3a9e03-d492-4c27-8b2a-b50f4485b63f",
   "outputs": [],
   "execution_count": 13
  },
  {
   "cell_type": "code",
   "id": "8d73b498",
   "metadata": {
    "ExecuteTime": {
     "end_time": "2025-03-11T16:23:11.205475Z",
     "start_time": "2025-03-11T16:23:11.204032Z"
    }
   },
   "source": [
    "# if fit.as_input()[\"resample_negative_pseudodata\"] != False:\n",
    "#     print(\"The TCM assumes Gaussianity of the pseudodata, to ensure this set\")\n",
    "#     print(\"resample_negative_pseudodata: False\")\n",
    "#     print(\"in the n3fit runcard!\")"
   ],
   "outputs": [],
   "execution_count": 14
  },
  {
   "metadata": {},
   "cell_type": "markdown",
   "source": "",
   "id": "2a84571849458706"
  },
  {
   "cell_type": "code",
   "id": "758cdc8a",
   "metadata": {
    "scrolled": true,
    "ExecuteTime": {
     "end_time": "2025-03-11T16:24:24.908456Z",
     "start_time": "2025-03-11T16:23:11.209176Z"
    }
   },
   "source": [
    "# Get the prior theory predictions for the central values\n",
    "prior_theorypreds_central = API.group_result_central_table_no_table(**inps_central)[\"theory_central\"].to_frame() # shape (n_dat, 1)\n",
    "\n",
    "# Get the prior theory predictions for the plus and minus variations\n",
    "prior_theorypreds_plus = pd.concat([API.group_result_central_table_no_table(**inp_plus)[\"theory_central\"] for inp_plus in inps_plus], axis=1)  # shape (n_dat, n_par)\n",
    "prior_theorypreds_minus = pd.concat([API.group_result_central_table_no_table(**inp_min)[\"theory_central\"] for inp_min in inps_min], axis=1)  # shape (n_dat, n_par)"
   ],
   "outputs": [
    {
     "name": "stdout",
     "output_type": "stream",
     "text": [
      "LHAPDF 6.5.4 loading /Users/jaco/miniconda3/envs/nnpdf_dev/share/LHAPDF/250218_mtop_alphas_variation_test/250218_mtop_alphas_variation_test_0000.dat\n",
      "250218_mtop_alphas_variation_test PDF set, member #0, version 1\n"
     ]
    }
   ],
   "execution_count": 15
  },
  {
   "cell_type": "code",
   "id": "ac757095",
   "metadata": {
    "ExecuteTime": {
     "end_time": "2025-03-11T16:24:24.959647Z",
     "start_time": "2025-03-11T16:24:24.947140Z"
    }
   },
   "source": [
    "# Get the values of mto\n",
    "mtop_plus = API.theory_info_table(theory_db_id=theory_plus[0]).loc[\"mt\"].iloc[0]\n",
    "mtop_central = API.theory_info_table(theory_db_id=theory_central).loc[\"mt\"].iloc[0]\n",
    "mtop_min = API.theory_info_table(theory_db_id=theory_min[0]).loc[\"mt\"].iloc[0]\n",
    "\n",
    "# and alphas \n",
    "alphas_plus = API.theory_info_table(theory_db_id=theory_plus[1]).loc[\"alphas\"].iloc[0]\n",
    "alphas_central = API.theory_info_table(theory_db_id=theory_central).loc[\"alphas\"].iloc[0]\n",
    "alphas_min = API.theory_info_table(theory_db_id=theory_min[1]).loc[\"alphas\"].iloc[0]\n",
    "\n",
    "# and make sure the shift in both directions is symmetric\n",
    "delta_plus = np.array([mtop_plus - mtop_central, alphas_plus - alphas_central])\n",
    "delta_min = np.array([mtop_central - mtop_min, alphas_central - alphas_min]) \n",
    "if np.any(abs(delta_min - delta_plus) > 1e-6):\n",
    "    raise ValueError(\"mtop shifts in both directions is not symmetric\")\n",
    "else:\n",
    "    step_size = np.array(delta_min).reshape(-1, 1)"
   ],
   "outputs": [],
   "execution_count": 16
  },
  {
   "cell_type": "code",
   "id": "3179f33f",
   "metadata": {
    "ExecuteTime": {
     "end_time": "2025-03-11T16:24:25.007608Z",
     "start_time": "2025-03-11T16:24:25.005783Z"
    }
   },
   "source": [
    "# At some point we scaled the covmat to account for higher order derivatives or\n",
    "# to test depencence of the prior. It is not used in the final result\n",
    "covmat_scaling_factor = 1 #fit.as_input().get(\"theorycovmatconfig\",{}).get(\"rescale_alphas_covmat\",1.0)\n",
    "\n",
    "# Compute theory covmat S_tilde on the genuine predictions (as, mt)\n",
    "beta_tilde = np.sqrt(covmat_scaling_factor) * (step_size / np.sqrt(2)) * np.array([[1, -1, 0, 0], [0, 0, 1, -1]])\n",
    "S_tilde = beta_tilde @ beta_tilde.T"
   ],
   "outputs": [],
   "execution_count": 17
  },
  {
   "cell_type": "code",
   "id": "6ac3d092d4336590",
   "metadata": {
    "ExecuteTime": {
     "end_time": "2025-03-11T16:24:25.059392Z",
     "start_time": "2025-03-11T16:24:25.014090Z"
    }
   },
   "source": [
    "# TODO: why a npsqrt(2)\n",
    "delta_plus = (np.sqrt(covmat_scaling_factor) / np.sqrt(2)) * (\n",
    "    prior_theorypreds_plus - prior_theorypreds_central\n",
    ")\n",
    "delta_minus = (np.sqrt(covmat_scaling_factor) / np.sqrt(2)) * (\n",
    "    prior_theorypreds_minus - prior_theorypreds_central\n",
    ")\n",
    "\n",
    "# Compute the theory cross covmat between the fitted predictions and the genuine predictions\n",
    "beta = np.array([delta_plus.iloc[:, 0].values, delta_minus.iloc[:, 0].values, delta_plus.iloc[:, 1].values, delta_minus.iloc[:, 1].values]).T  # shape (n_dat, 2 * n_par)\n",
    "S_hat = beta_tilde @ beta.T  # shape (n_par, n_dat)\n",
    "\n",
    "# Compute the theory covmat on the theory predictions\n",
    "S = beta @ beta.T \n",
    "S = pd.DataFrame(S, index=delta_minus.index, columns=delta_minus.index)  # shape (n_dat, n_dat)"
   ],
   "outputs": [],
   "execution_count": 18
  },
  {
   "metadata": {
    "ExecuteTime": {
     "end_time": "2025-03-11T16:25:46.265641Z",
     "start_time": "2025-03-11T16:24:25.073634Z"
    }
   },
   "cell_type": "code",
   "source": "eigvals = np.linalg.eigvals(S)",
   "id": "e04bc062d2780d5f",
   "outputs": [],
   "execution_count": 19
  },
  {
   "metadata": {
    "ExecuteTime": {
     "end_time": "2025-03-11T16:25:46.333572Z",
     "start_time": "2025-03-11T16:25:46.330137Z"
    }
   },
   "cell_type": "code",
   "source": "np.sum(np.abs(np.real(eigvals)) > 1)",
   "id": "8f0c55338d111bfe",
   "outputs": [
    {
     "data": {
      "text/plain": [
       "4"
      ]
     },
     "execution_count": 20,
     "metadata": {},
     "output_type": "execute_result"
    }
   ],
   "execution_count": 20
  },
  {
   "cell_type": "code",
   "id": "daf898a8d6d298e",
   "metadata": {
    "ExecuteTime": {
     "end_time": "2025-03-11T16:26:01.221515Z",
     "start_time": "2025-03-11T16:25:46.359930Z"
    }
   },
   "source": [
    "# Sanity check: we want to check whether the stored theory covmat agrees with S\n",
    "\n",
    "stored_alphas_covmat = pd.read_csv(\n",
    "    fit.path / f\"tables/datacuts_theory_theorycovmatconfig_point_prescriptions{alphas_pp_id}_theory_covmat_custom_per_prescription.csv\",\n",
    "    index_col=[0, 1, 2],\n",
    "    header=[0, 1, 2],\n",
    "    sep=\"\\t|,\",\n",
    "    encoding=\"utf-8\",\n",
    "    engine=\"python\",\n",
    ").fillna(0)\n",
    "\n",
    "stored_mtop_covmat = pd.read_csv(\n",
    "    fit.path / f\"tables/datacuts_theory_theorycovmatconfig_point_prescriptions{mtop_pp_id}_theory_covmat_custom_per_prescription.csv\",\n",
    "    index_col=[0, 1, 2],\n",
    "    header=[0, 1, 2],\n",
    "    sep=\"\\t|,\",\n",
    "    encoding=\"utf-8\",\n",
    "    engine=\"python\",\n",
    ").fillna(0)\n",
    "\n",
    "stored_covmat = stored_alphas_covmat + stored_mtop_covmat\n",
    "\n",
    "storedcovmat_index = pd.MultiIndex.from_tuples(\n",
    "    [(aa, bb, np.int64(cc)) for aa, bb, cc in stored_covmat.index],\n",
    "    names=[\"group\", \"dataset\", \"id\"],\n",
    ")  \n",
    "\n",
    "# make sure theoryID is an integer, same as in S\n",
    "stored_covmat = pd.DataFrame(\n",
    "    stored_covmat.values, index=storedcovmat_index, columns=storedcovmat_index\n",
    ")\n",
    "stored_covmat = stored_covmat.reindex(S.index).T.reindex(S.index)\n",
    "\n",
    "if not np.allclose(S, stored_covmat):\n",
    "    print(\"Reconstructed theory covmat, S, is not the same as the stored covmat!\")"
   ],
   "outputs": [],
   "execution_count": 21
  },
  {
   "cell_type": "code",
   "id": "29e4c30f",
   "metadata": {
    "ExecuteTime": {
     "end_time": "2025-03-11T16:26:43.511351Z",
     "start_time": "2025-03-11T16:26:01.231662Z"
    }
   },
   "source": [
    "theorypreds_fit = API.group_result_table_no_table(**inps_central_fit).iloc[:, 2:]"
   ],
   "outputs": [
    {
     "name": "stdout",
     "output_type": "stream",
     "text": [
      "LHAPDF 6.5.4 loading all 101 PDFs in set 250218_mtop_alphas_iterated\n",
      "250218_mtop_alphas_iterated, version 1; 101 PDF members\n"
     ]
    }
   ],
   "execution_count": 22
  },
  {
   "cell_type": "code",
   "id": "ac6553b1",
   "metadata": {
    "ExecuteTime": {
     "end_time": "2025-03-11T16:26:45.457751Z",
     "start_time": "2025-03-11T16:26:43.544800Z"
    }
   },
   "source": [
    "# experimental covmat\n",
    "C = API.groups_covmat(\n",
    "    use_t0=True,\n",
    "    datacuts={\"from_\": \"fit\"},\n",
    "    t0pdfset={\"from_\": \"datacuts\"},\n",
    "    theoryid= {\"from_\": \"theory\"},\n",
    "    theory={\"from_\": \"fit\"},\n",
    "    **common_dict\n",
    ")"
   ],
   "outputs": [],
   "execution_count": 23
  },
  {
   "cell_type": "code",
   "id": "a05e4850",
   "metadata": {
    "ExecuteTime": {
     "end_time": "2025-03-11T16:26:45.710971Z",
     "start_time": "2025-03-11T16:26:45.490362Z"
    }
   },
   "source": [
    "# Note that mean_prediction is different from the prediction of the mean PDF (i.e. replica0)\n",
    "T0 = theorypreds_fit.mean(axis=1)\n",
    "X = np.cov(theorypreds_fit, bias=True)"
   ],
   "outputs": [],
   "execution_count": 24
  },
  {
   "cell_type": "code",
   "id": "f4ed15ab",
   "metadata": {
    "ExecuteTime": {
     "end_time": "2025-03-11T16:26:49.315360Z",
     "start_time": "2025-03-11T16:26:45.741575Z"
    }
   },
   "source": [
    "# In the computation we use <D>_rep and not the central value of the data D_exp, though if\n",
    "# resample_negative_pseudodata: false\n",
    "# is set in the n3fit runcard, D_exp and <D>_rep should be the same as N_rep -> inf.\n",
    "pseudodata = API.read_pdf_pseudodata(**common_dict)\n",
    "dat_reps = pd.concat(\n",
    "    [i.pseudodata.reindex(prior_theorypreds_central.index) for i in pseudodata], axis=1\n",
    ")"
   ],
   "outputs": [],
   "execution_count": 25
  },
  {
   "cell_type": "code",
   "id": "91039ec11f906691",
   "metadata": {
    "ExecuteTime": {
     "end_time": "2025-03-11T16:27:16.192556Z",
     "start_time": "2025-03-11T16:26:49.353981Z"
    }
   },
   "source": [
    "invcov = np.linalg.inv(C + S)\n",
    "\n",
    "# delta_T_tilde is Eq. 3.37 in https://arxiv.org/pdf/2105.05114\n",
    "delta_T_tilde = -S_hat @ invcov @ (T0 - dat_reps.mean(axis=1))"
   ],
   "outputs": [],
   "execution_count": 26
  },
  {
   "metadata": {
    "ExecuteTime": {
     "end_time": "2025-03-11T16:27:16.281733Z",
     "start_time": "2025-03-11T16:27:16.235694Z"
    }
   },
   "cell_type": "code",
   "source": [
    "\n",
    "# P_tilde is Eq. 3.38.\n",
    "#\n",
    "# Note that not all terms of the equation in the paper are here, in particular\n",
    "# X_tile and X_hat vanish. This is because they measure the covariance of\n",
    "# T_tilde over PDF replicas, but for us T_tilde is alphas. The prediciton of\n",
    "# alphas does not depend on the PDF, and as such T_tilde^(r) == T_tilde^(0)\n",
    "P_tilde = S_hat @ invcov @ X @ invcov @ S_hat.T + S_tilde - S_hat @ invcov @ S_hat.T\n",
    "central_theory = np.array([mtop_central, alphas_central])\n",
    "pred = central_theory + delta_T_tilde\n",
    "\n",
    "# print(rf\"Prediction for $\\m_{{top}}$: {pred:.4f} ± {P_tilde:.4f}\")"
   ],
   "id": "3b0e8a15",
   "outputs": [],
   "execution_count": 27
  },
  {
   "metadata": {
    "ExecuteTime": {
     "end_time": "2025-03-11T16:27:16.325249Z",
     "start_time": "2025-03-11T16:27:16.322613Z"
    }
   },
   "cell_type": "code",
   "source": "pred",
   "id": "93672841ee50e40",
   "outputs": [
    {
     "data": {
      "text/plain": [
       "array([1.75086340e+02, 1.20138766e-01])"
      ]
     },
     "execution_count": 28,
     "metadata": {},
     "output_type": "execute_result"
    }
   ],
   "execution_count": 28
  },
  {
   "metadata": {
    "ExecuteTime": {
     "end_time": "2025-03-11T16:27:16.366261Z",
     "start_time": "2025-03-11T16:27:16.364221Z"
    }
   },
   "cell_type": "code",
   "source": "covmat_TCM = pd.DataFrame(P_tilde, index=[\"mt\", \"as\"], columns=[\"mt\", \"as\"])",
   "id": "8f2c0ee4a44de822",
   "outputs": [],
   "execution_count": 29
  },
  {
   "metadata": {
    "ExecuteTime": {
     "end_time": "2025-03-11T16:27:16.409987Z",
     "start_time": "2025-03-11T16:27:16.405455Z"
    }
   },
   "cell_type": "code",
   "source": "covmat_TCM",
   "id": "1a674fa52f9f1c73",
   "outputs": [
    {
     "data": {
      "text/plain": [
       "          mt            as\n",
       "mt  0.375685  9.042511e-05\n",
       "as  0.000090  1.179726e-07"
      ],
      "text/html": [
       "<div>\n",
       "<style scoped>\n",
       "    .dataframe tbody tr th:only-of-type {\n",
       "        vertical-align: middle;\n",
       "    }\n",
       "\n",
       "    .dataframe tbody tr th {\n",
       "        vertical-align: top;\n",
       "    }\n",
       "\n",
       "    .dataframe thead th {\n",
       "        text-align: right;\n",
       "    }\n",
       "</style>\n",
       "<table border=\"1\" class=\"dataframe\">\n",
       "  <thead>\n",
       "    <tr style=\"text-align: right;\">\n",
       "      <th></th>\n",
       "      <th>mt</th>\n",
       "      <th>as</th>\n",
       "    </tr>\n",
       "  </thead>\n",
       "  <tbody>\n",
       "    <tr>\n",
       "      <th>mt</th>\n",
       "      <td>0.375685</td>\n",
       "      <td>9.042511e-05</td>\n",
       "    </tr>\n",
       "    <tr>\n",
       "      <th>as</th>\n",
       "      <td>0.000090</td>\n",
       "      <td>1.179726e-07</td>\n",
       "    </tr>\n",
       "  </tbody>\n",
       "</table>\n",
       "</div>"
      ]
     },
     "execution_count": 30,
     "metadata": {},
     "output_type": "execute_result"
    }
   ],
   "execution_count": 30
  },
  {
   "metadata": {
    "ExecuteTime": {
     "end_time": "2025-03-11T16:33:38.484262Z",
     "start_time": "2025-03-11T16:33:38.402577Z"
    }
   },
   "cell_type": "code",
   "source": [
    "import numpy as np\n",
    "import matplotlib.pyplot as plt\n",
    "from matplotlib.patches import Ellipse\n",
    "\n",
    "def plot_cov_ellipse(cov, pos, nstd=2, ax=None, **kwargs):\n",
    "    \"\"\"\n",
    "    Plots an ellipse representing the covariance matrix `cov` centered at `pos`.\n",
    "    \n",
    "    Parameters:\n",
    "    - cov: 2x2 covariance matrix\n",
    "    - pos: Center of the ellipse (mean of the distribution)\n",
    "    - nstd: Number of standard deviations to determine the ellipse's radii\n",
    "    - ax: Matplotlib axis object (optional)\n",
    "    - kwargs: Additional arguments for the Ellipse patch\n",
    "    \"\"\"\n",
    "    if ax is None:\n",
    "        ax = plt.gca()\n",
    "    \n",
    "    # Eigenvalues and eigenvectors of the covariance matrix\n",
    "    eigvals, eigvecs = np.linalg.eigh(cov)\n",
    "    \n",
    "    # Sort the eigenvalues and eigenvectors\n",
    "    order = eigvals.argsort()[::-1]\n",
    "    eigvals, eigvecs = eigvals[order], eigvecs[:, order]\n",
    "    \n",
    "    # Calculate the angle of the ellipse\n",
    "    angle = np.degrees(np.arctan2(*eigvecs[:, 0][::-1]))\n",
    "    \n",
    "    # Width and height of the ellipse\n",
    "    width, height = 2 * nstd * np.sqrt(eigvals)\n",
    "    print(width, height, angle)\n",
    "    \n",
    "    # Create the ellipse patch\n",
    "    ellip = Ellipse(xy=pos, width=width, height=height, angle=angle, **kwargs)\n",
    "    \n",
    "    ax.add_patch(ellip)\n",
    "    return ellip\n",
    "\n",
    "fig, ax = plt.subplots()\n",
    "plot_cov_ellipse(P_tilde, pred, ax=ax, edgecolor='red')\n",
    "ax.set_xlim(pred[0] - 1.5, pred[0] + 1.5)\n",
    "ax.set_ylim(pred[1] - 0.001, pred[1] + 0.001)\n",
    "plt.xlabel('mt')\n",
    "plt.ylabel('as')\n",
    "plt.title(r\"$95 \\%\\,m_{top}$ and $\\alpha_s$ exclusion contour\")\n",
    "plt.grid(True)\n",
    "plt.show()"
   ],
   "id": "dc011ea65ff31508",
   "outputs": [
    {
     "name": "stdout",
     "output_type": "stream",
     "text": [
      "2.4517267600663173 0.0012406953717711065 -179.98620925690417\n"
     ]
    },
    {
     "data": {
      "text/plain": [
       "<Figure size 640x480 with 1 Axes>"
      ],
      "image/png": "[encoded data removed]"
     },
     "metadata": {},
     "output_type": "display_data"
    }
   ],
   "execution_count": 43
  },
  {
   "metadata": {
    "ExecuteTime": {
     "end_time": "2025-03-11T16:56:18.695304Z",
     "start_time": "2025-03-11T16:56:18.688906Z"
    }
   },
   "cell_type": "code",
   "source": [
    "from matplotlib import patches, transforms, rc\n",
    "from matplotlib.patches import Ellipse\n",
    "import scipy\n",
    "rc(\"font\", **{\"family\": \"sans-serif\", \"sans-serif\": [\"Helvetica\"]})\n",
    "rc(\"text\", **{\"usetex\": True, \"latex.preamble\": r\"\\usepackage{amssymb}\"})\n",
    "\n",
    "def confidence_ellipse(\n",
    "    cov, mean, ax, facecolor=\"none\", confidence_level=95, **kwargs\n",
    "):\n",
    "    \"\"\"\n",
    "    Draws 95% C.L. ellipse for data points `x` and `y`\n",
    "\n",
    "    Parameters\n",
    "    ----------\n",
    "    coeff1: array_like\n",
    "        ``(N,) ndarray`` containing ``N`` posterior samples for the first coefficient\n",
    "    coeff2: array_like\n",
    "        ``(N,) ndarray`` containing ``N`` posterior samples for the first coefficient\n",
    "    ax: matplotlib.axes\n",
    "        Axes object to plot on\n",
    "    facecolor: str, optional\n",
    "        Color of the ellipse\n",
    "    **kwargs\n",
    "        Additional plotting settings passed to matplotlib.patches.Ellipse\n",
    "\n",
    "    Returns\n",
    "    -------\n",
    "    matplotlib.patches.Ellipse\n",
    "        Ellipse object\n",
    "\n",
    "    \"\"\"\n",
    "    # diagonalise\n",
    "    eig_val, eig_vec = np.linalg.eig(cov)\n",
    "\n",
    "    # eigenvector with largest eigenvalue\n",
    "    eig_vec_max = eig_vec[:, np.argmax(eig_val)]\n",
    "\n",
    "    # angle of eigenvector with largest eigenvalue with the horizontal axis\n",
    "    cos_th = eig_vec[0, np.argmax(eig_val)] / np.linalg.norm(eig_vec_max)\n",
    "    if eig_vec_max[1] > 0:\n",
    "        inclination = np.arccos(cos_th)\n",
    "    else:\n",
    "        # pay attention to range of arccos (extend to [0, -\\pi] domain)\n",
    "        inclination = -np.arccos(cos_th)\n",
    "\n",
    "    eigval_sort = np.sort(eig_val)\n",
    "\n",
    "    chi2_qnt = scipy.stats.chi2.ppf(confidence_level / 100.0, 2)\n",
    "\n",
    "    ell_radius_x = np.sqrt(chi2_qnt * eigval_sort[-1])\n",
    "    ell_radius_y = np.sqrt(chi2_qnt * eigval_sort[-2])\n",
    "\n",
    "    ellipse = Ellipse(\n",
    "        (0, 0),\n",
    "        width=ell_radius_x * 2,\n",
    "        height=ell_radius_y * 2,\n",
    "        facecolor=facecolor,\n",
    "        **kwargs\n",
    "    )\n",
    "\n",
    "    mean_coeff1 = mean[0]\n",
    "    mean_coeff2 = mean[1]\n",
    "    \n",
    "    transf = (\n",
    "        transforms.Affine2D().rotate(inclination).translate(mean_coeff1, mean_coeff2)\n",
    "    )\n",
    "    \n",
    "    # ax.set_xlim(pred[0] - ell_radius_x * 1.5, pred[0] + ell_radius_x * 1.5)\n",
    "    # ax.set_ylim(pred[1] - ell_radius_y * 1.5, pred[1] + ell_radius_y * 1.5)\n",
    "\n",
    "    ellipse.set_transform(transf + ax.transData)\n",
    "\n",
    "    return ax.add_patch(ellipse)"
   ],
   "id": "a66d446d415cc2d3",
   "outputs": [],
   "execution_count": 80
  },
  {
   "metadata": {
    "ExecuteTime": {
     "end_time": "2025-03-11T17:42:26.021236Z",
     "start_time": "2025-03-11T17:42:25.246967Z"
    }
   },
   "cell_type": "code",
   "source": [
    "fig, ax = plt.subplots(figsize=(6,6))\n",
    "\n",
    "p1 = confidence_ellipse(\n",
    "            P_tilde,\n",
    "            pred,\n",
    "            ax=ax,\n",
    "            alpha=1,\n",
    "            edgecolor=\"C0\",\n",
    "            confidence_level=95,\n",
    "        )\n",
    "\n",
    "p2 = confidence_ellipse(\n",
    "     P_tilde,\n",
    "            pred,\n",
    "            ax=ax,\n",
    "            alpha=0.3,\n",
    "            edgecolor=None,\n",
    "            facecolor=\"C0\",\n",
    "            confidence_level=95,\n",
    ")\n",
    "\n",
    "ax.scatter(\n",
    "        pred[0], pred[1],\n",
    "        c='k',\n",
    "        s=20,\n",
    "        marker=\"+\",\n",
    "    )\n",
    "\n",
    "hndls = (p1, p2)\n",
    "\n",
    "msbar_to_pole = 10.38\n",
    "pred_abmp = [160.6 + msbar_to_pole, 0.115]\n",
    "cov_abmp = np.array([[0.6**2, 0], [0, 0.0009**2]])\n",
    "\n",
    "p1_abmp = confidence_ellipse(\n",
    "            cov_abmp,\n",
    "            pred_abmp,\n",
    "            ax=ax,\n",
    "            alpha=1,\n",
    "            edgecolor=\"C1\",\n",
    "            confidence_level=95,\n",
    "        )\n",
    "\n",
    "p2_abmp = confidence_ellipse(\n",
    "            cov_abmp,\n",
    "            pred_abmp,\n",
    "            ax=ax,\n",
    "            alpha=0.3,\n",
    "            edgecolor=None,\n",
    "            facecolor=\"C1\",\n",
    "            confidence_level=95,\n",
    ")\n",
    "\n",
    "hndls_abmp = (p1_abmp, p2_abmp)\n",
    "\n",
    "\n",
    "\n",
    "ax.scatter(\n",
    "        pred_abmp[0], pred_abmp[1],\n",
    "        c='k',\n",
    "        s=20,\n",
    "        marker=\"+\",\n",
    "    )\n",
    "\n",
    "ax.tick_params(top=True, right=True, direction=\"in\")\n",
    "plt.xlabel(r'$m_{t}\\:{\\rm [GeV]}$', fontsize=15)\n",
    "plt.ylabel(r'$\\alpha_s$', fontsize=15)\n",
    "plt.title(r\"$95\\%\\:\\rm{C.L.\\:interval}$\",fontsize=15)\n",
    "plt.grid(True)\n",
    "\n",
    "mt_pdg = 172.4\n",
    "as_pdg = 0.118\n",
    "ax.axhline(as_pdg, color='r')\n",
    "ax.axvline(mt_pdg, color='r')\n",
    "ax.set_xlim(169, 177.5)\n",
    "ax.set_ylim(pred_abmp[1] - 0.003, pred[1] + 0.003)\n",
    "\n",
    "ax.legend(\n",
    "    labels=[r\"$\\mathrm{TCM}$\", r\"$\\mathrm{ABMP16tt}^*$\"],\n",
    "    handles=[hndls, hndls_abmp],\n",
    "    loc=\"best\",\n",
    "    frameon=False,\n",
    "    fontsize=15,\n",
    "    handlelength=1,\n",
    "    borderpad=0.5,\n",
    "    handletextpad=1,\n",
    "    title_fontsize=24,\n",
    ")\n",
    "plt.savefig(\"tcm_posterior_alphas_mtop.pdf\")\n",
    "plt.show()\n",
    "\n"
   ],
   "id": "e43e67375367c152",
   "outputs": [
    {
     "data": {
      "text/plain": [
       "<Figure size 600x600 with 1 Axes>"
      ],
      "image/png": "[encoded data removed]"
     },
     "metadata": {},
     "output_type": "display_data"
    }
   ],
   "execution_count": 116
  },
  {
   "metadata": {},
   "cell_type": "code",
   "outputs": [],
   "execution_count": null,
   "source": "",
   "id": "b6a0862eb78bd8cc"
  }
 ],
 "metadata": {
  "kernelspec": {
   "display_name": "Python 3 (ipykernel)",
   "language": "python",
   "name": "python3"
  },
  "language_info": {
   "codemirror_mode": {
    "name": "ipython",
    "version": 3
   },
   "file_extension": ".py",
   "mimetype": "text/x-python",
   "name": "python",
   "nbconvert_exporter": "python",
   "pygments_lexer": "ipython3",
   "version": "3.12.7"
  }
 },
 "nbformat": 4,
 "nbformat_minor": 5
}
