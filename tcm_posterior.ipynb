{
 "cells": [
  {
   "cell_type": "markdown",
   "id": "df579a40",
   "metadata": {},
   "source": [
    "# PREAMBLE\n",
    "<script\n",
    "  src=\"https://cdn.mathjax.org/mathjax/latest/MathJax.js?config=TeX-AMS-MML_HTMLorMML\"\n",
    "  type=\"text/javascript\">\n",
    "</script>"
   ]
  },
  {
   "cell_type": "code",
   "execution_count": 1,
   "id": "226dc610",
   "metadata": {},
   "outputs": [],
   "source": [
    "\n",
    "import numpy as np\n",
    "import pandas as pd\n",
    "from validphys.api import API\n",
    "from validphys.loader import FallbackLoader\n",
    "\n",
    "%matplotlib inline\n",
    "\n",
    "l = FallbackLoader()"
   ]
  },
  {
   "cell_type": "markdown",
   "id": "85af2b80",
   "metadata": {},
   "source": [
    "# Definition of the input"
   ]
  },
  {
   "cell_type": "code",
   "execution_count": 2,
   "id": "377309ca",
   "metadata": {},
   "outputs": [],
   "source": [
    "fitname = \"240822-05-rs-n3lo-tcm\""
   ]
  },
  {
   "cell_type": "markdown",
   "id": "06c28e66",
   "metadata": {},
   "source": [
    "# COMPUTATION OF $\\alpha_s$"
   ]
  },
  {
   "cell_type": "code",
   "execution_count": 3,
   "id": "c9d93689",
   "metadata": {},
   "outputs": [
    {
     "ename": "TypeError",
     "evalue": "sequence item 0: expected str instance, int found",
     "output_type": "error",
     "traceback": [
      "\u001b[0;31m---------------------------------------------------------------------------\u001b[0m",
      "\u001b[0;31mTypeError\u001b[0m                                 Traceback (most recent call last)",
      "Cell \u001b[0;32mIn[3], line 22\u001b[0m\n\u001b[1;32m      6\u001b[0m common_dict \u001b[38;5;241m=\u001b[39m \u001b[38;5;28mdict\u001b[39m(\n\u001b[1;32m      7\u001b[0m     dataset_inputs\u001b[38;5;241m=\u001b[39m{\u001b[38;5;124m\"\u001b[39m\u001b[38;5;124mfrom_\u001b[39m\u001b[38;5;124m\"\u001b[39m: \u001b[38;5;124m\"\u001b[39m\u001b[38;5;124mfit\u001b[39m\u001b[38;5;124m\"\u001b[39m},\n\u001b[1;32m      8\u001b[0m     fit\u001b[38;5;241m=\u001b[39mfit\u001b[38;5;241m.\u001b[39mname,\n\u001b[0;32m   (...)\u001b[0m\n\u001b[1;32m     11\u001b[0m     metadata_group\u001b[38;5;241m=\u001b[39m\u001b[38;5;124m\"\u001b[39m\u001b[38;5;124mnnpdf31_process\u001b[39m\u001b[38;5;124m\"\u001b[39m,\n\u001b[1;32m     12\u001b[0m )\n\u001b[1;32m     14\u001b[0m theoryids_dict \u001b[38;5;241m=\u001b[39m ({\n\u001b[1;32m     15\u001b[0m         \u001b[38;5;124m\"\u001b[39m\u001b[38;5;124mpoint_prescription\u001b[39m\u001b[38;5;124m\"\u001b[39m: {\u001b[38;5;124m\"\u001b[39m\u001b[38;5;124mfrom_\u001b[39m\u001b[38;5;124m\"\u001b[39m: \u001b[38;5;124m\"\u001b[39m\u001b[38;5;124mtheorycovmatconfig\u001b[39m\u001b[38;5;124m\"\u001b[39m},\n\u001b[1;32m     16\u001b[0m         \u001b[38;5;124m\"\u001b[39m\u001b[38;5;124mtheoryids\u001b[39m\u001b[38;5;124m\"\u001b[39m:{ \u001b[38;5;124m\"\u001b[39m\u001b[38;5;124mfrom_\u001b[39m\u001b[38;5;124m\"\u001b[39m: \u001b[38;5;124m\"\u001b[39m\u001b[38;5;124mscale_variation_theories\u001b[39m\u001b[38;5;124m\"\u001b[39m},\n\u001b[0;32m   (...)\u001b[0m\n\u001b[1;32m     20\u001b[0m         \u001b[38;5;124m\"\u001b[39m\u001b[38;5;124mtheorycovmatconfig\u001b[39m\u001b[38;5;124m\"\u001b[39m: {\u001b[38;5;124m\"\u001b[39m\u001b[38;5;124mfrom_\u001b[39m\u001b[38;5;124m\"\u001b[39m: \u001b[38;5;124m\"\u001b[39m\u001b[38;5;124mfit\u001b[39m\u001b[38;5;124m\"\u001b[39m},\n\u001b[1;32m     21\u001b[0m     } \u001b[38;5;241m|\u001b[39m common_dict)\n\u001b[0;32m---> 22\u001b[0m theoryids \u001b[38;5;241m=\u001b[39m \u001b[43mAPI\u001b[49m\u001b[38;5;241;43m.\u001b[39;49m\u001b[43mtheoryids\u001b[49m\u001b[43m(\u001b[49m\u001b[38;5;241;43m*\u001b[39;49m\u001b[38;5;241;43m*\u001b[39;49m\u001b[43mtheoryids_dict\u001b[49m\u001b[43m)\u001b[49m\n\u001b[1;32m     23\u001b[0m theory_plus \u001b[38;5;241m=\u001b[39m theoryids[\u001b[38;5;241m1\u001b[39m]\u001b[38;5;241m.\u001b[39mid\n\u001b[1;32m     24\u001b[0m theory_mid \u001b[38;5;241m=\u001b[39m theoryids[\u001b[38;5;241m0\u001b[39m]\u001b[38;5;241m.\u001b[39mid\n",
      "File \u001b[0;32m/data/theorie/rstegeman/miniconda3/envs/nnpdf/lib/python3.12/site-packages/reportengine/api.py:44\u001b[0m, in \u001b[0;36mAPI.__getattr__.<locals>.closure\u001b[0;34m(**kwargs)\u001b[0m\n\u001b[1;32m     43\u001b[0m \u001b[38;5;28;01mdef\u001b[39;00m \u001b[38;5;21mclosure\u001b[39m(\u001b[38;5;241m*\u001b[39m\u001b[38;5;241m*\u001b[39mkwargs):\n\u001b[0;32m---> 44\u001b[0m     \u001b[38;5;28;01mreturn\u001b[39;00m \u001b[38;5;28;43mself\u001b[39;49m\u001b[38;5;241;43m.\u001b[39;49m\u001b[38;5;21;43m__call__\u001b[39;49m\u001b[43m(\u001b[49m\u001b[43mname\u001b[49m\u001b[43m,\u001b[49m\u001b[43m \u001b[49m\u001b[38;5;241;43m*\u001b[39;49m\u001b[38;5;241;43m*\u001b[39;49m\u001b[43mkwargs\u001b[49m\u001b[43m)\u001b[49m\n",
      "File \u001b[0;32m/data/theorie/rstegeman/miniconda3/envs/nnpdf/lib/python3.12/site-packages/reportengine/api.py:37\u001b[0m, in \u001b[0;36mAPI.__call__\u001b[0;34m(self, actions, **kwargs)\u001b[0m\n\u001b[1;32m     35\u001b[0m builder \u001b[38;5;241m=\u001b[39m ResourceBuilder(c, \u001b[38;5;28mself\u001b[39m\u001b[38;5;241m.\u001b[39mprovider_loaded, fuzzytarg, perform_final\u001b[38;5;241m=\u001b[39m\u001b[38;5;28;01mFalse\u001b[39;00m)\n\u001b[1;32m     36\u001b[0m builder\u001b[38;5;241m.\u001b[39mrootns\u001b[38;5;241m.\u001b[39mupdate(\u001b[38;5;28mself\u001b[39m\u001b[38;5;241m.\u001b[39mloadedenv\u001b[38;5;241m.\u001b[39mns_dump())\n\u001b[0;32m---> 37\u001b[0m \u001b[43mbuilder\u001b[49m\u001b[38;5;241;43m.\u001b[39;49m\u001b[43mresolve_fuzzytargets\u001b[49m\u001b[43m(\u001b[49m\u001b[43m)\u001b[49m\n\u001b[1;32m     38\u001b[0m builder\u001b[38;5;241m.\u001b[39mexecute_sequential()\n\u001b[1;32m     39\u001b[0m res \u001b[38;5;241m=\u001b[39m builder\u001b[38;5;241m.\u001b[39mrootns[actions]\n",
      "File \u001b[0;32m/data/theorie/rstegeman/miniconda3/envs/nnpdf/lib/python3.12/site-packages/reportengine/resourcebuilder.py:529\u001b[0m, in \u001b[0;36mResourceBuilder.resolve_fuzzytargets\u001b[0;34m(self)\u001b[0m\n\u001b[1;32m    527\u001b[0m \u001b[38;5;28;01mdef\u001b[39;00m \u001b[38;5;21mresolve_fuzzytargets\u001b[39m(\u001b[38;5;28mself\u001b[39m):\n\u001b[1;32m    528\u001b[0m     \u001b[38;5;28;01mfor\u001b[39;00m target \u001b[38;5;129;01min\u001b[39;00m \u001b[38;5;28mself\u001b[39m\u001b[38;5;241m.\u001b[39mfuzzytargets:\n\u001b[0;32m--> 529\u001b[0m         \u001b[38;5;28;43mself\u001b[39;49m\u001b[38;5;241;43m.\u001b[39;49m\u001b[43mresolve_fuzzytarget\u001b[49m\u001b[43m(\u001b[49m\u001b[43mtarget\u001b[49m\u001b[43m)\u001b[49m\n",
      "File \u001b[0;32m/data/theorie/rstegeman/miniconda3/envs/nnpdf/lib/python3.12/site-packages/reportengine/resourcebuilder.py:538\u001b[0m, in \u001b[0;36mResourceBuilder.resolve_fuzzytarget\u001b[0;34m(self, fuzzytarget)\u001b[0m\n\u001b[1;32m    535\u001b[0m specs \u001b[38;5;241m=\u001b[39m \u001b[38;5;28mself\u001b[39m\u001b[38;5;241m.\u001b[39mexpand_fuzzytarget_spec(fuzzytarget)\n\u001b[1;32m    537\u001b[0m \u001b[38;5;28;01mfor\u001b[39;00m spec \u001b[38;5;129;01min\u001b[39;00m specs:\n\u001b[0;32m--> 538\u001b[0m     \u001b[38;5;28;43mself\u001b[39;49m\u001b[38;5;241;43m.\u001b[39;49m\u001b[43mprocess_targetspec\u001b[49m\u001b[43m(\u001b[49m\u001b[43mfuzzytarget\u001b[49m\u001b[38;5;241;43m.\u001b[39;49m\u001b[43mname\u001b[49m\u001b[43m,\u001b[49m\u001b[43m \u001b[49m\u001b[43mspec\u001b[49m\u001b[43m,\u001b[49m\u001b[43m \u001b[49m\u001b[43mfuzzytarget\u001b[49m\u001b[38;5;241;43m.\u001b[39;49m\u001b[43mextraargs\u001b[49m\u001b[43m)\u001b[49m\n",
      "File \u001b[0;32m/data/theorie/rstegeman/miniconda3/envs/nnpdf/lib/python3.12/site-packages/reportengine/resourcebuilder.py:547\u001b[0m, in \u001b[0;36mResourceBuilder.process_targetspec\u001b[0;34m(self, name, nsspec, extraargs, default)\u001b[0m\n\u001b[1;32m    543\u001b[0m log\u001b[38;5;241m.\u001b[39mdebug(\u001b[38;5;124m\"\u001b[39m\u001b[38;5;124mProcessing target \u001b[39m\u001b[38;5;132;01m%s\u001b[39;00m\u001b[38;5;124m\"\u001b[39m \u001b[38;5;241m%\u001b[39m name)\n\u001b[1;32m    545\u001b[0m gen \u001b[38;5;241m=\u001b[39m \u001b[38;5;28mself\u001b[39m\u001b[38;5;241m.\u001b[39m_process_requirement(name, nsspec, extraargs\u001b[38;5;241m=\u001b[39mextraargs,\n\u001b[1;32m    546\u001b[0m                                 default\u001b[38;5;241m=\u001b[39mdefault, parents\u001b[38;5;241m=\u001b[39m[])\n\u001b[0;32m--> 547\u001b[0m \u001b[43mgen\u001b[49m\u001b[38;5;241;43m.\u001b[39;49m\u001b[43msend\u001b[49m\u001b[43m(\u001b[49m\u001b[38;5;28;43;01mNone\u001b[39;49;00m\u001b[43m)\u001b[49m\n\u001b[1;32m    548\u001b[0m \u001b[38;5;28;01mtry\u001b[39;00m:\n\u001b[1;32m    549\u001b[0m     gen\u001b[38;5;241m.\u001b[39msend(\u001b[38;5;28;01mNone\u001b[39;00m)\n",
      "File \u001b[0;32m/data/theorie/rstegeman/miniconda3/envs/nnpdf/lib/python3.12/site-packages/reportengine/resourcebuilder.py:576\u001b[0m, in \u001b[0;36mResourceBuilder._process_requirement\u001b[0;34m(self, name, nsspec, extraargs, default, parents)\u001b[0m\n\u001b[1;32m    574\u001b[0m \u001b[38;5;66;03m#First try to find the name in the namespace\u001b[39;00m\n\u001b[1;32m    575\u001b[0m \u001b[38;5;28;01mtry\u001b[39;00m:\n\u001b[0;32m--> 576\u001b[0m     put_index, val \u001b[38;5;241m=\u001b[39m \u001b[38;5;28;43mself\u001b[39;49m\u001b[38;5;241;43m.\u001b[39;49m\u001b[43minput_parser\u001b[49m\u001b[38;5;241;43m.\u001b[39;49m\u001b[43mresolve_key\u001b[49m\u001b[43m(\u001b[49m\u001b[43mname\u001b[49m\u001b[43m,\u001b[49m\u001b[43m \u001b[49m\u001b[43mns\u001b[49m\u001b[43m,\u001b[49m\u001b[43m \u001b[49m\u001b[43mparents\u001b[49m\u001b[38;5;241;43m=\u001b[39;49m\u001b[43mparents\u001b[49m\u001b[43m,\u001b[49m\u001b[43m \u001b[49m\u001b[43mcurrspec\u001b[49m\u001b[38;5;241;43m=\u001b[39;49m\u001b[43mnsspec\u001b[49m\u001b[43m)\u001b[49m\n\u001b[1;32m    577\u001b[0m     log\u001b[38;5;241m.\u001b[39mdebug(\u001b[38;5;124m\"\u001b[39m\u001b[38;5;124mFound \u001b[39m\u001b[38;5;132;01m%s\u001b[39;00m\u001b[38;5;124m for spec \u001b[39m\u001b[38;5;132;01m%s\u001b[39;00m\u001b[38;5;124m at \u001b[39m\u001b[38;5;132;01m%s\u001b[39;00m\u001b[38;5;124m\"\u001b[39m\u001b[38;5;241m%\u001b[39m(name, nsspec, put_index))\n\u001b[1;32m    579\u001b[0m \u001b[38;5;28;01mexcept\u001b[39;00m InputNotFoundError \u001b[38;5;28;01mas\u001b[39;00m e:\n\u001b[1;32m    580\u001b[0m     \u001b[38;5;66;03m#See https://www.python.org/dev/peps/pep-3110/\u001b[39;00m\n",
      "File \u001b[0;32m/data/theorie/rstegeman/miniconda3/envs/nnpdf/lib/python3.12/site-packages/reportengine/configparser.py:429\u001b[0m, in \u001b[0;36mConfig.resolve_key\u001b[0;34m(self, key, ns, input_params, parents, max_index, write, currspec)\u001b[0m\n\u001b[1;32m    427\u001b[0m     input_params \u001b[38;5;241m=\u001b[39m \u001b[38;5;28mself\u001b[39m\u001b[38;5;241m.\u001b[39minput_params\n\u001b[1;32m    428\u001b[0m \u001b[38;5;28;01mwith\u001b[39;00m \u001b[38;5;28mself\u001b[39m\u001b[38;5;241m.\u001b[39mset_context(key, ns, input_params, parents, currspec):\n\u001b[0;32m--> 429\u001b[0m     \u001b[38;5;28;01mreturn\u001b[39;00m \u001b[38;5;28;43mself\u001b[39;49m\u001b[38;5;241;43m.\u001b[39;49m\u001b[43m_resolve_key\u001b[49m\u001b[43m(\u001b[49m\u001b[43mkey\u001b[49m\u001b[38;5;241;43m=\u001b[39;49m\u001b[43mkey\u001b[49m\u001b[43m,\u001b[49m\u001b[43m \u001b[49m\u001b[43mns\u001b[49m\u001b[38;5;241;43m=\u001b[39;49m\u001b[43mns\u001b[49m\u001b[43m,\u001b[49m\u001b[43m \u001b[49m\u001b[43minput_params\u001b[49m\u001b[38;5;241;43m=\u001b[39;49m\u001b[43minput_params\u001b[49m\u001b[43m,\u001b[49m\n\u001b[1;32m    430\u001b[0m \u001b[43m        \u001b[49m\u001b[43mparents\u001b[49m\u001b[38;5;241;43m=\u001b[39;49m\u001b[43mparents\u001b[49m\u001b[43m,\u001b[49m\u001b[43m \u001b[49m\u001b[43mmax_index\u001b[49m\u001b[38;5;241;43m=\u001b[39;49m\u001b[43mmax_index\u001b[49m\u001b[43m,\u001b[49m\u001b[43m \u001b[49m\u001b[43mwrite\u001b[49m\u001b[38;5;241;43m=\u001b[39;49m\u001b[43mwrite\u001b[49m\u001b[43m)\u001b[49m\n",
      "File \u001b[0;32m/data/theorie/rstegeman/miniconda3/envs/nnpdf/lib/python3.12/site-packages/reportengine/configparser.py:517\u001b[0m, in \u001b[0;36mConfig._resolve_key\u001b[0;34m(self, key, ns, input_params, parents, max_index, write)\u001b[0m\n\u001b[1;32m    513\u001b[0m trap_func \u001b[38;5;241m=\u001b[39m \u001b[38;5;28mself\u001b[39m\u001b[38;5;241m.\u001b[39mget_trap_func(input_val)\n\u001b[1;32m    515\u001b[0m \u001b[38;5;28;01mif\u001b[39;00m trap_func:\n\u001b[1;32m    516\u001b[0m     \u001b[38;5;66;03m#TODO: Think about this interface\u001b[39;00m\n\u001b[0;32m--> 517\u001b[0m     \u001b[38;5;28;01mreturn\u001b[39;00m \u001b[43mtrap_func\u001b[49m\u001b[43m(\u001b[49m\u001b[43mkey\u001b[49m\u001b[43m)\u001b[49m\n\u001b[1;32m    520\u001b[0m f \u001b[38;5;241m=\u001b[39m \u001b[38;5;28mself\u001b[39m\u001b[38;5;241m.\u001b[39mget_parse_func(key)\n\u001b[1;32m    521\u001b[0m \u001b[38;5;28;01mif\u001b[39;00m f:\n",
      "File \u001b[0;32m/data/theorie/rstegeman/miniconda3/envs/nnpdf/lib/python3.12/site-packages/reportengine/configparser.py:133\u001b[0m, in \u001b[0;36m_parse_func.<locals>.f_\u001b[0;34m(self, val, *args, **kwargs)\u001b[0m\n\u001b[1;32m    129\u001b[0m     \u001b[38;5;28;01mif\u001b[39;00m \u001b[38;5;129;01mnot\u001b[39;00m \u001b[38;5;28misinstance\u001b[39m(val, input_type):\n\u001b[1;32m    130\u001b[0m         \u001b[38;5;28;01mraise\u001b[39;00m BadInputType(trim_token(f\u001b[38;5;241m.\u001b[39m\u001b[38;5;18m__name__\u001b[39m), val, input_type)\n\u001b[0;32m--> 133\u001b[0m \u001b[38;5;28;01mreturn\u001b[39;00m \u001b[43mf\u001b[49m\u001b[43m(\u001b[49m\u001b[38;5;28;43mself\u001b[39;49m\u001b[43m,\u001b[49m\u001b[43m \u001b[49m\u001b[43mval\u001b[49m\u001b[43m,\u001b[49m\u001b[43m \u001b[49m\u001b[38;5;241;43m*\u001b[39;49m\u001b[43margs\u001b[49m\u001b[43m,\u001b[49m\u001b[43m \u001b[49m\u001b[38;5;241;43m*\u001b[39;49m\u001b[38;5;241;43m*\u001b[39;49m\u001b[43mkwargs\u001b[49m\u001b[43m)\u001b[49m\n",
      "File \u001b[0;32m/data/theorie/rstegeman/miniconda3/envs/nnpdf/lib/python3.12/site-packages/reportengine/configparser.py:748\u001b[0m, in \u001b[0;36mConfig.parse_from_\u001b[0;34m(self, value, element, write)\u001b[0m\n\u001b[1;32m    740\u001b[0m nokey_message \u001b[38;5;241m=\u001b[39m (\u001b[38;5;124m\"\u001b[39m\u001b[38;5;124mCould not retrieve element \u001b[39m\u001b[38;5;132;01m%s\u001b[39;00m\u001b[38;5;124m from namespace. \u001b[39m\u001b[38;5;124m\"\u001b[39m\n\u001b[1;32m    741\u001b[0m                   \u001b[38;5;124m\"\u001b[39m\u001b[38;5;124mNo such key\u001b[39m\u001b[38;5;124m\"\u001b[39m \u001b[38;5;241m%\u001b[39m\n\u001b[1;32m    742\u001b[0m                       (element,))\n\u001b[1;32m    744\u001b[0m \u001b[38;5;66;03m#The write=False is needed here because of the general stupidy of the\u001b[39;00m\n\u001b[1;32m    745\u001b[0m \u001b[38;5;66;03m#framework. Because there is no way to tell how deep in the inputs\u001b[39;00m\n\u001b[1;32m    746\u001b[0m \u001b[38;5;66;03m#we found the key, it may end up completely misplaced. An upgrade\u001b[39;00m\n\u001b[1;32m    747\u001b[0m \u001b[38;5;66;03m#of the code should fix this.\u001b[39;00m\n\u001b[0;32m--> 748\u001b[0m max_index, tip \u001b[38;5;241m=\u001b[39m \u001b[38;5;28;43mself\u001b[39;49m\u001b[38;5;241;43m.\u001b[39;49m\u001b[43mresolve_key\u001b[49m\u001b[43m(\u001b[49m\u001b[43mvalue\u001b[49m\u001b[43m,\u001b[49m\u001b[43m \u001b[49m\u001b[43mns\u001b[49m\u001b[43m,\u001b[49m\u001b[43m \u001b[49m\u001b[43minput_params\u001b[49m\u001b[38;5;241;43m=\u001b[39;49m\u001b[43minput_params\u001b[49m\u001b[43m,\u001b[49m\n\u001b[1;32m    749\u001b[0m \u001b[43m                                \u001b[49m\u001b[43mparents\u001b[49m\u001b[38;5;241;43m=\u001b[39;49m\u001b[43mparents\u001b[49m\u001b[43m,\u001b[49m\u001b[43m \u001b[49m\u001b[43mwrite\u001b[49m\u001b[38;5;241;43m=\u001b[39;49m\u001b[38;5;28;43;01mFalse\u001b[39;49;00m\u001b[43m)\u001b[49m\n\u001b[1;32m    751\u001b[0m \u001b[38;5;28;01mif\u001b[39;00m \u001b[38;5;28mhasattr\u001b[39m(tip, \u001b[38;5;124m'\u001b[39m\u001b[38;5;124mas_input\u001b[39m\u001b[38;5;124m'\u001b[39m):\n\u001b[1;32m    752\u001b[0m     \u001b[38;5;28;01mtry\u001b[39;00m:\n",
      "File \u001b[0;32m/data/theorie/rstegeman/miniconda3/envs/nnpdf/lib/python3.12/site-packages/reportengine/configparser.py:429\u001b[0m, in \u001b[0;36mConfig.resolve_key\u001b[0;34m(self, key, ns, input_params, parents, max_index, write, currspec)\u001b[0m\n\u001b[1;32m    427\u001b[0m     input_params \u001b[38;5;241m=\u001b[39m \u001b[38;5;28mself\u001b[39m\u001b[38;5;241m.\u001b[39minput_params\n\u001b[1;32m    428\u001b[0m \u001b[38;5;28;01mwith\u001b[39;00m \u001b[38;5;28mself\u001b[39m\u001b[38;5;241m.\u001b[39mset_context(key, ns, input_params, parents, currspec):\n\u001b[0;32m--> 429\u001b[0m     \u001b[38;5;28;01mreturn\u001b[39;00m \u001b[38;5;28;43mself\u001b[39;49m\u001b[38;5;241;43m.\u001b[39;49m\u001b[43m_resolve_key\u001b[49m\u001b[43m(\u001b[49m\u001b[43mkey\u001b[49m\u001b[38;5;241;43m=\u001b[39;49m\u001b[43mkey\u001b[49m\u001b[43m,\u001b[49m\u001b[43m \u001b[49m\u001b[43mns\u001b[49m\u001b[38;5;241;43m=\u001b[39;49m\u001b[43mns\u001b[49m\u001b[43m,\u001b[49m\u001b[43m \u001b[49m\u001b[43minput_params\u001b[49m\u001b[38;5;241;43m=\u001b[39;49m\u001b[43minput_params\u001b[49m\u001b[43m,\u001b[49m\n\u001b[1;32m    430\u001b[0m \u001b[43m        \u001b[49m\u001b[43mparents\u001b[49m\u001b[38;5;241;43m=\u001b[39;49m\u001b[43mparents\u001b[49m\u001b[43m,\u001b[49m\u001b[43m \u001b[49m\u001b[43mmax_index\u001b[49m\u001b[38;5;241;43m=\u001b[39;49m\u001b[43mmax_index\u001b[49m\u001b[43m,\u001b[49m\u001b[43m \u001b[49m\u001b[43mwrite\u001b[49m\u001b[38;5;241;43m=\u001b[39;49m\u001b[43mwrite\u001b[49m\u001b[43m)\u001b[49m\n",
      "File \u001b[0;32m/data/theorie/rstegeman/miniconda3/envs/nnpdf/lib/python3.12/site-packages/reportengine/configparser.py:477\u001b[0m, in \u001b[0;36mConfig._resolve_key\u001b[0;34m(self, key, ns, input_params, parents, max_index, write)\u001b[0m\n\u001b[1;32m    475\u001b[0m \u001b[38;5;28;01mif\u001b[39;00m produce_func:\n\u001b[1;32m    476\u001b[0m     \u001b[38;5;28;01mtry\u001b[39;00m:\n\u001b[0;32m--> 477\u001b[0m         put_index, kwargs \u001b[38;5;241m=\u001b[39m \u001b[38;5;28;43mself\u001b[39;49m\u001b[38;5;241;43m.\u001b[39;49m\u001b[43mresolve_signature_params\u001b[49m\u001b[43m(\u001b[49m\u001b[43mproduce_func\u001b[49m\u001b[43m,\u001b[49m\n\u001b[1;32m    478\u001b[0m \u001b[43m                                \u001b[49m\u001b[43mstart_from\u001b[49m\u001b[38;5;241;43m=\u001b[39;49m\u001b[38;5;241;43m0\u001b[39;49m\u001b[43m \u001b[49m\u001b[43m,\u001b[49m\u001b[43mns\u001b[49m\u001b[38;5;241;43m=\u001b[39;49m\u001b[43mns\u001b[49m\u001b[43m,\u001b[49m\n\u001b[1;32m    479\u001b[0m \u001b[43m                                \u001b[49m\u001b[43mparents\u001b[49m\u001b[38;5;241;43m=\u001b[39;49m\u001b[43mnewparents\u001b[49m\u001b[43m,\u001b[49m\n\u001b[1;32m    480\u001b[0m \u001b[43m                                \u001b[49m\u001b[43minput_params\u001b[49m\u001b[38;5;241;43m=\u001b[39;49m\u001b[43minput_params\u001b[49m\u001b[43m,\u001b[49m\n\u001b[1;32m    481\u001b[0m \u001b[43m                                \u001b[49m\u001b[43mmax_index\u001b[49m\u001b[38;5;241;43m=\u001b[39;49m\u001b[43mmax_index\u001b[49m\u001b[43m)\u001b[49m\n\u001b[1;32m    482\u001b[0m     \u001b[38;5;28;01mexcept\u001b[39;00m InputNotFoundError \u001b[38;5;28;01mas\u001b[39;00m e:\n\u001b[1;32m    483\u001b[0m         log\u001b[38;5;241m.\u001b[39mdebug(\u001b[38;5;124mf\u001b[39m\u001b[38;5;124m\"\u001b[39m\u001b[38;5;124mCan\u001b[39m\u001b[38;5;124m'\u001b[39m\u001b[38;5;124mt satisfy production rule for \u001b[39m\u001b[38;5;132;01m{\u001b[39;00mkey\u001b[38;5;132;01m}\u001b[39;00m\u001b[38;5;124m\"\u001b[39m)\n",
      "File \u001b[0;32m/data/theorie/rstegeman/miniconda3/envs/nnpdf/lib/python3.12/site-packages/reportengine/configparser.py:358\u001b[0m, in \u001b[0;36mConfig.resolve_signature_params\u001b[0;34m(self, f, start_from, ns, input_params, max_index, parents)\u001b[0m\n\u001b[1;32m    356\u001b[0m \u001b[38;5;28;01mfor\u001b[39;00m pname, param \u001b[38;5;129;01min\u001b[39;00m \u001b[38;5;28mlist\u001b[39m(sig\u001b[38;5;241m.\u001b[39mparameters\u001b[38;5;241m.\u001b[39mitems())[start_from:]:\n\u001b[1;32m    357\u001b[0m     \u001b[38;5;28;01mtry\u001b[39;00m:\n\u001b[0;32m--> 358\u001b[0m         index, pval \u001b[38;5;241m=\u001b[39m \u001b[38;5;28;43mself\u001b[39;49m\u001b[38;5;241;43m.\u001b[39;49m\u001b[43mresolve_key\u001b[49m\u001b[43m(\u001b[49m\u001b[43mpname\u001b[49m\u001b[43m,\u001b[49m\n\u001b[1;32m    359\u001b[0m \u001b[43m                                       \u001b[49m\u001b[43mns\u001b[49m\u001b[43m,\u001b[49m\n\u001b[1;32m    360\u001b[0m \u001b[43m                                       \u001b[49m\u001b[43minput_params\u001b[49m\u001b[38;5;241;43m=\u001b[39;49m\u001b[43m \u001b[49m\u001b[43minput_params\u001b[49m\u001b[43m,\u001b[49m\n\u001b[1;32m    361\u001b[0m \u001b[43m                                       \u001b[49m\u001b[43mmax_index\u001b[49m\u001b[38;5;241;43m=\u001b[39;49m\u001b[43mmax_index\u001b[49m\u001b[43m,\u001b[49m\n\u001b[1;32m    362\u001b[0m \u001b[43m                                       \u001b[49m\u001b[43mparents\u001b[49m\u001b[38;5;241;43m=\u001b[39;49m\u001b[43mparents\u001b[49m\u001b[43m)\u001b[49m\n\u001b[1;32m    363\u001b[0m     \u001b[38;5;28;01mexcept\u001b[39;00m \u001b[38;5;167;01mKeyError\u001b[39;00m:\n\u001b[1;32m    364\u001b[0m         \u001b[38;5;28;01mif\u001b[39;00m param\u001b[38;5;241m.\u001b[39mdefault \u001b[38;5;129;01mis\u001b[39;00m \u001b[38;5;129;01mnot\u001b[39;00m sig\u001b[38;5;241m.\u001b[39mempty:\n",
      "File \u001b[0;32m/data/theorie/rstegeman/miniconda3/envs/nnpdf/lib/python3.12/site-packages/reportengine/configparser.py:429\u001b[0m, in \u001b[0;36mConfig.resolve_key\u001b[0;34m(self, key, ns, input_params, parents, max_index, write, currspec)\u001b[0m\n\u001b[1;32m    427\u001b[0m     input_params \u001b[38;5;241m=\u001b[39m \u001b[38;5;28mself\u001b[39m\u001b[38;5;241m.\u001b[39minput_params\n\u001b[1;32m    428\u001b[0m \u001b[38;5;28;01mwith\u001b[39;00m \u001b[38;5;28mself\u001b[39m\u001b[38;5;241m.\u001b[39mset_context(key, ns, input_params, parents, currspec):\n\u001b[0;32m--> 429\u001b[0m     \u001b[38;5;28;01mreturn\u001b[39;00m \u001b[38;5;28;43mself\u001b[39;49m\u001b[38;5;241;43m.\u001b[39;49m\u001b[43m_resolve_key\u001b[49m\u001b[43m(\u001b[49m\u001b[43mkey\u001b[49m\u001b[38;5;241;43m=\u001b[39;49m\u001b[43mkey\u001b[49m\u001b[43m,\u001b[49m\u001b[43m \u001b[49m\u001b[43mns\u001b[49m\u001b[38;5;241;43m=\u001b[39;49m\u001b[43mns\u001b[49m\u001b[43m,\u001b[49m\u001b[43m \u001b[49m\u001b[43minput_params\u001b[49m\u001b[38;5;241;43m=\u001b[39;49m\u001b[43minput_params\u001b[49m\u001b[43m,\u001b[49m\n\u001b[1;32m    430\u001b[0m \u001b[43m        \u001b[49m\u001b[43mparents\u001b[49m\u001b[38;5;241;43m=\u001b[39;49m\u001b[43mparents\u001b[49m\u001b[43m,\u001b[49m\u001b[43m \u001b[49m\u001b[43mmax_index\u001b[49m\u001b[38;5;241;43m=\u001b[39;49m\u001b[43mmax_index\u001b[49m\u001b[43m,\u001b[49m\u001b[43m \u001b[49m\u001b[43mwrite\u001b[49m\u001b[38;5;241;43m=\u001b[39;49m\u001b[43mwrite\u001b[49m\u001b[43m)\u001b[49m\n",
      "File \u001b[0;32m/data/theorie/rstegeman/miniconda3/envs/nnpdf/lib/python3.12/site-packages/reportengine/configparser.py:517\u001b[0m, in \u001b[0;36mConfig._resolve_key\u001b[0;34m(self, key, ns, input_params, parents, max_index, write)\u001b[0m\n\u001b[1;32m    513\u001b[0m trap_func \u001b[38;5;241m=\u001b[39m \u001b[38;5;28mself\u001b[39m\u001b[38;5;241m.\u001b[39mget_trap_func(input_val)\n\u001b[1;32m    515\u001b[0m \u001b[38;5;28;01mif\u001b[39;00m trap_func:\n\u001b[1;32m    516\u001b[0m     \u001b[38;5;66;03m#TODO: Think about this interface\u001b[39;00m\n\u001b[0;32m--> 517\u001b[0m     \u001b[38;5;28;01mreturn\u001b[39;00m \u001b[43mtrap_func\u001b[49m\u001b[43m(\u001b[49m\u001b[43mkey\u001b[49m\u001b[43m)\u001b[49m\n\u001b[1;32m    520\u001b[0m f \u001b[38;5;241m=\u001b[39m \u001b[38;5;28mself\u001b[39m\u001b[38;5;241m.\u001b[39mget_parse_func(key)\n\u001b[1;32m    521\u001b[0m \u001b[38;5;28;01mif\u001b[39;00m f:\n",
      "File \u001b[0;32m/data/theorie/rstegeman/miniconda3/envs/nnpdf/lib/python3.12/site-packages/reportengine/configparser.py:133\u001b[0m, in \u001b[0;36m_parse_func.<locals>.f_\u001b[0;34m(self, val, *args, **kwargs)\u001b[0m\n\u001b[1;32m    129\u001b[0m     \u001b[38;5;28;01mif\u001b[39;00m \u001b[38;5;129;01mnot\u001b[39;00m \u001b[38;5;28misinstance\u001b[39m(val, input_type):\n\u001b[1;32m    130\u001b[0m         \u001b[38;5;28;01mraise\u001b[39;00m BadInputType(trim_token(f\u001b[38;5;241m.\u001b[39m\u001b[38;5;18m__name__\u001b[39m), val, input_type)\n\u001b[0;32m--> 133\u001b[0m \u001b[38;5;28;01mreturn\u001b[39;00m \u001b[43mf\u001b[49m\u001b[43m(\u001b[49m\u001b[38;5;28;43mself\u001b[39;49m\u001b[43m,\u001b[49m\u001b[43m \u001b[49m\u001b[43mval\u001b[49m\u001b[43m,\u001b[49m\u001b[43m \u001b[49m\u001b[38;5;241;43m*\u001b[39;49m\u001b[43margs\u001b[49m\u001b[43m,\u001b[49m\u001b[43m \u001b[49m\u001b[38;5;241;43m*\u001b[39;49m\u001b[38;5;241;43m*\u001b[39;49m\u001b[43mkwargs\u001b[49m\u001b[43m)\u001b[49m\n",
      "File \u001b[0;32m/data/theorie/rstegeman/miniconda3/envs/nnpdf/lib/python3.12/site-packages/reportengine/configparser.py:748\u001b[0m, in \u001b[0;36mConfig.parse_from_\u001b[0;34m(self, value, element, write)\u001b[0m\n\u001b[1;32m    740\u001b[0m nokey_message \u001b[38;5;241m=\u001b[39m (\u001b[38;5;124m\"\u001b[39m\u001b[38;5;124mCould not retrieve element \u001b[39m\u001b[38;5;132;01m%s\u001b[39;00m\u001b[38;5;124m from namespace. \u001b[39m\u001b[38;5;124m\"\u001b[39m\n\u001b[1;32m    741\u001b[0m                   \u001b[38;5;124m\"\u001b[39m\u001b[38;5;124mNo such key\u001b[39m\u001b[38;5;124m\"\u001b[39m \u001b[38;5;241m%\u001b[39m\n\u001b[1;32m    742\u001b[0m                       (element,))\n\u001b[1;32m    744\u001b[0m \u001b[38;5;66;03m#The write=False is needed here because of the general stupidy of the\u001b[39;00m\n\u001b[1;32m    745\u001b[0m \u001b[38;5;66;03m#framework. Because there is no way to tell how deep in the inputs\u001b[39;00m\n\u001b[1;32m    746\u001b[0m \u001b[38;5;66;03m#we found the key, it may end up completely misplaced. An upgrade\u001b[39;00m\n\u001b[1;32m    747\u001b[0m \u001b[38;5;66;03m#of the code should fix this.\u001b[39;00m\n\u001b[0;32m--> 748\u001b[0m max_index, tip \u001b[38;5;241m=\u001b[39m \u001b[38;5;28;43mself\u001b[39;49m\u001b[38;5;241;43m.\u001b[39;49m\u001b[43mresolve_key\u001b[49m\u001b[43m(\u001b[49m\u001b[43mvalue\u001b[49m\u001b[43m,\u001b[49m\u001b[43m \u001b[49m\u001b[43mns\u001b[49m\u001b[43m,\u001b[49m\u001b[43m \u001b[49m\u001b[43minput_params\u001b[49m\u001b[38;5;241;43m=\u001b[39;49m\u001b[43minput_params\u001b[49m\u001b[43m,\u001b[49m\n\u001b[1;32m    749\u001b[0m \u001b[43m                                \u001b[49m\u001b[43mparents\u001b[49m\u001b[38;5;241;43m=\u001b[39;49m\u001b[43mparents\u001b[49m\u001b[43m,\u001b[49m\u001b[43m \u001b[49m\u001b[43mwrite\u001b[49m\u001b[38;5;241;43m=\u001b[39;49m\u001b[38;5;28;43;01mFalse\u001b[39;49;00m\u001b[43m)\u001b[49m\n\u001b[1;32m    751\u001b[0m \u001b[38;5;28;01mif\u001b[39;00m \u001b[38;5;28mhasattr\u001b[39m(tip, \u001b[38;5;124m'\u001b[39m\u001b[38;5;124mas_input\u001b[39m\u001b[38;5;124m'\u001b[39m):\n\u001b[1;32m    752\u001b[0m     \u001b[38;5;28;01mtry\u001b[39;00m:\n",
      "File \u001b[0;32m/data/theorie/rstegeman/miniconda3/envs/nnpdf/lib/python3.12/site-packages/reportengine/configparser.py:429\u001b[0m, in \u001b[0;36mConfig.resolve_key\u001b[0;34m(self, key, ns, input_params, parents, max_index, write, currspec)\u001b[0m\n\u001b[1;32m    427\u001b[0m     input_params \u001b[38;5;241m=\u001b[39m \u001b[38;5;28mself\u001b[39m\u001b[38;5;241m.\u001b[39minput_params\n\u001b[1;32m    428\u001b[0m \u001b[38;5;28;01mwith\u001b[39;00m \u001b[38;5;28mself\u001b[39m\u001b[38;5;241m.\u001b[39mset_context(key, ns, input_params, parents, currspec):\n\u001b[0;32m--> 429\u001b[0m     \u001b[38;5;28;01mreturn\u001b[39;00m \u001b[38;5;28;43mself\u001b[39;49m\u001b[38;5;241;43m.\u001b[39;49m\u001b[43m_resolve_key\u001b[49m\u001b[43m(\u001b[49m\u001b[43mkey\u001b[49m\u001b[38;5;241;43m=\u001b[39;49m\u001b[43mkey\u001b[49m\u001b[43m,\u001b[49m\u001b[43m \u001b[49m\u001b[43mns\u001b[49m\u001b[38;5;241;43m=\u001b[39;49m\u001b[43mns\u001b[49m\u001b[43m,\u001b[49m\u001b[43m \u001b[49m\u001b[43minput_params\u001b[49m\u001b[38;5;241;43m=\u001b[39;49m\u001b[43minput_params\u001b[49m\u001b[43m,\u001b[49m\n\u001b[1;32m    430\u001b[0m \u001b[43m        \u001b[49m\u001b[43mparents\u001b[49m\u001b[38;5;241;43m=\u001b[39;49m\u001b[43mparents\u001b[49m\u001b[43m,\u001b[49m\u001b[43m \u001b[49m\u001b[43mmax_index\u001b[49m\u001b[38;5;241;43m=\u001b[39;49m\u001b[43mmax_index\u001b[49m\u001b[43m,\u001b[49m\u001b[43m \u001b[49m\u001b[43mwrite\u001b[49m\u001b[38;5;241;43m=\u001b[39;49m\u001b[43mwrite\u001b[49m\u001b[43m)\u001b[49m\n",
      "File \u001b[0;32m/data/theorie/rstegeman/miniconda3/envs/nnpdf/lib/python3.12/site-packages/reportengine/configparser.py:517\u001b[0m, in \u001b[0;36mConfig._resolve_key\u001b[0;34m(self, key, ns, input_params, parents, max_index, write)\u001b[0m\n\u001b[1;32m    513\u001b[0m trap_func \u001b[38;5;241m=\u001b[39m \u001b[38;5;28mself\u001b[39m\u001b[38;5;241m.\u001b[39mget_trap_func(input_val)\n\u001b[1;32m    515\u001b[0m \u001b[38;5;28;01mif\u001b[39;00m trap_func:\n\u001b[1;32m    516\u001b[0m     \u001b[38;5;66;03m#TODO: Think about this interface\u001b[39;00m\n\u001b[0;32m--> 517\u001b[0m     \u001b[38;5;28;01mreturn\u001b[39;00m \u001b[43mtrap_func\u001b[49m\u001b[43m(\u001b[49m\u001b[43mkey\u001b[49m\u001b[43m)\u001b[49m\n\u001b[1;32m    520\u001b[0m f \u001b[38;5;241m=\u001b[39m \u001b[38;5;28mself\u001b[39m\u001b[38;5;241m.\u001b[39mget_parse_func(key)\n\u001b[1;32m    521\u001b[0m \u001b[38;5;28;01mif\u001b[39;00m f:\n",
      "File \u001b[0;32m/data/theorie/rstegeman/miniconda3/envs/nnpdf/lib/python3.12/site-packages/reportengine/configparser.py:133\u001b[0m, in \u001b[0;36m_parse_func.<locals>.f_\u001b[0;34m(self, val, *args, **kwargs)\u001b[0m\n\u001b[1;32m    129\u001b[0m     \u001b[38;5;28;01mif\u001b[39;00m \u001b[38;5;129;01mnot\u001b[39;00m \u001b[38;5;28misinstance\u001b[39m(val, input_type):\n\u001b[1;32m    130\u001b[0m         \u001b[38;5;28;01mraise\u001b[39;00m BadInputType(trim_token(f\u001b[38;5;241m.\u001b[39m\u001b[38;5;18m__name__\u001b[39m), val, input_type)\n\u001b[0;32m--> 133\u001b[0m \u001b[38;5;28;01mreturn\u001b[39;00m \u001b[43mf\u001b[49m\u001b[43m(\u001b[49m\u001b[38;5;28;43mself\u001b[39;49m\u001b[43m,\u001b[49m\u001b[43m \u001b[49m\u001b[43mval\u001b[49m\u001b[43m,\u001b[49m\u001b[43m \u001b[49m\u001b[38;5;241;43m*\u001b[39;49m\u001b[43margs\u001b[49m\u001b[43m,\u001b[49m\u001b[43m \u001b[49m\u001b[38;5;241;43m*\u001b[39;49m\u001b[38;5;241;43m*\u001b[39;49m\u001b[43mkwargs\u001b[49m\u001b[43m)\u001b[49m\n",
      "File \u001b[0;32m/data/theorie/rstegeman/miniconda3/envs/nnpdf/lib/python3.12/site-packages/reportengine/configparser.py:766\u001b[0m, in \u001b[0;36mConfig.parse_from_\u001b[0;34m(self, value, element, write)\u001b[0m\n\u001b[1;32m    763\u001b[0m new_ns \u001b[38;5;241m=\u001b[39m ns\u001b[38;5;241m.\u001b[39mnew_child()\n\u001b[1;32m    764\u001b[0m new_ns[value] \u001b[38;5;241m=\u001b[39m tip\n\u001b[0;32m--> 766\u001b[0m ind,val \u001b[38;5;241m=\u001b[39m \u001b[38;5;28;43mself\u001b[39;49m\u001b[38;5;241;43m.\u001b[39;49m\u001b[43mresolve_key\u001b[49m\u001b[43m(\u001b[49m\u001b[43melement\u001b[49m\u001b[43m,\u001b[49m\u001b[43m \u001b[49m\u001b[43mnew_ns\u001b[49m\u001b[43m,\u001b[49m\n\u001b[1;32m    767\u001b[0m \u001b[43m    \u001b[49m\u001b[43minput_params\u001b[49m\u001b[38;5;241;43m=\u001b[39;49m\u001b[43mnew_input\u001b[49m\u001b[43m,\u001b[49m\n\u001b[1;32m    768\u001b[0m \u001b[43m    \u001b[49m\u001b[43mparents\u001b[49m\u001b[38;5;241;43m=\u001b[39;49m\u001b[43mparents\u001b[49m\u001b[43m,\u001b[49m\u001b[43m \u001b[49m\u001b[43mwrite\u001b[49m\u001b[38;5;241;43m=\u001b[39;49m\u001b[43mwrite\u001b[49m\u001b[43m,\u001b[49m\u001b[43m \u001b[49m\u001b[43mmax_index\u001b[49m\u001b[38;5;241;43m=\u001b[39;49m\u001b[43mmax_index\u001b[49m\u001b[43m)\u001b[49m\n\u001b[1;32m    769\u001b[0m ns\u001b[38;5;241m.\u001b[39mupdate(new_ns)\n\u001b[1;32m    770\u001b[0m \u001b[38;5;28;01mreturn\u001b[39;00m ind,val\n",
      "File \u001b[0;32m/data/theorie/rstegeman/miniconda3/envs/nnpdf/lib/python3.12/site-packages/reportengine/configparser.py:429\u001b[0m, in \u001b[0;36mConfig.resolve_key\u001b[0;34m(self, key, ns, input_params, parents, max_index, write, currspec)\u001b[0m\n\u001b[1;32m    427\u001b[0m     input_params \u001b[38;5;241m=\u001b[39m \u001b[38;5;28mself\u001b[39m\u001b[38;5;241m.\u001b[39minput_params\n\u001b[1;32m    428\u001b[0m \u001b[38;5;28;01mwith\u001b[39;00m \u001b[38;5;28mself\u001b[39m\u001b[38;5;241m.\u001b[39mset_context(key, ns, input_params, parents, currspec):\n\u001b[0;32m--> 429\u001b[0m     \u001b[38;5;28;01mreturn\u001b[39;00m \u001b[38;5;28;43mself\u001b[39;49m\u001b[38;5;241;43m.\u001b[39;49m\u001b[43m_resolve_key\u001b[49m\u001b[43m(\u001b[49m\u001b[43mkey\u001b[49m\u001b[38;5;241;43m=\u001b[39;49m\u001b[43mkey\u001b[49m\u001b[43m,\u001b[49m\u001b[43m \u001b[49m\u001b[43mns\u001b[49m\u001b[38;5;241;43m=\u001b[39;49m\u001b[43mns\u001b[49m\u001b[43m,\u001b[49m\u001b[43m \u001b[49m\u001b[43minput_params\u001b[49m\u001b[38;5;241;43m=\u001b[39;49m\u001b[43minput_params\u001b[49m\u001b[43m,\u001b[49m\n\u001b[1;32m    430\u001b[0m \u001b[43m        \u001b[49m\u001b[43mparents\u001b[49m\u001b[38;5;241;43m=\u001b[39;49m\u001b[43mparents\u001b[49m\u001b[43m,\u001b[49m\u001b[43m \u001b[49m\u001b[43mmax_index\u001b[49m\u001b[38;5;241;43m=\u001b[39;49m\u001b[43mmax_index\u001b[49m\u001b[43m,\u001b[49m\u001b[43m \u001b[49m\u001b[43mwrite\u001b[49m\u001b[38;5;241;43m=\u001b[39;49m\u001b[43mwrite\u001b[49m\u001b[43m)\u001b[49m\n",
      "File \u001b[0;32m/data/theorie/rstegeman/miniconda3/envs/nnpdf/lib/python3.12/site-packages/reportengine/configparser.py:555\u001b[0m, in \u001b[0;36mConfig._resolve_key\u001b[0;34m(self, key, ns, input_params, parents, max_index, write)\u001b[0m\n\u001b[1;32m    553\u001b[0m     inputs \u001b[38;5;241m=\u001b[39m ChainMap(input_val, input_params)\n\u001b[1;32m    554\u001b[0m     \u001b[38;5;28;01mfor\u001b[39;00m k \u001b[38;5;129;01min\u001b[39;00m input_val\u001b[38;5;241m.\u001b[39mkeys():\n\u001b[0;32m--> 555\u001b[0m         \u001b[38;5;28;43mself\u001b[39;49m\u001b[38;5;241;43m.\u001b[39;49m\u001b[43mresolve_key\u001b[49m\u001b[43m(\u001b[49m\u001b[43mk\u001b[49m\u001b[43m,\u001b[49m\u001b[43m \u001b[49m\u001b[43mres_ns\u001b[49m\u001b[43m,\u001b[49m\u001b[43m \u001b[49m\u001b[43minputs\u001b[49m\u001b[43m,\u001b[49m\n\u001b[1;32m    556\u001b[0m \u001b[43m                         \u001b[49m\u001b[43mparents\u001b[49m\u001b[38;5;241;43m=\u001b[39;49m\u001b[43m[\u001b[49m\u001b[38;5;241;43m*\u001b[39;49m\u001b[43mparents\u001b[49m\u001b[43m,\u001b[49m\u001b[43m \u001b[49m\u001b[43mkey\u001b[49m\u001b[43m]\u001b[49m\u001b[43m,\u001b[49m\n\u001b[1;32m    557\u001b[0m \u001b[43m                         \u001b[49m\u001b[43mmax_index\u001b[49m\u001b[43m \u001b[49m\u001b[38;5;241;43m=\u001b[39;49m\u001b[43m \u001b[49m\u001b[38;5;241;43m0\u001b[39;49m\n\u001b[1;32m    558\u001b[0m \u001b[43m                        \u001b[49m\u001b[43m)\u001b[49m\n\u001b[1;32m    559\u001b[0m \u001b[38;5;66;03m#Recursively parse lists of dicts\u001b[39;00m\n\u001b[1;32m    560\u001b[0m \u001b[38;5;28;01melif\u001b[39;00m (\u001b[38;5;28misinstance\u001b[39m(input_val, \u001b[38;5;28mlist\u001b[39m) \u001b[38;5;129;01mand\u001b[39;00m\n\u001b[1;32m    561\u001b[0m      \u001b[38;5;28mall\u001b[39m(\u001b[38;5;28misinstance\u001b[39m(x, \u001b[38;5;28mdict\u001b[39m) \u001b[38;5;28;01mfor\u001b[39;00m x \u001b[38;5;129;01min\u001b[39;00m input_val)):\n",
      "File \u001b[0;32m/data/theorie/rstegeman/miniconda3/envs/nnpdf/lib/python3.12/site-packages/reportengine/configparser.py:429\u001b[0m, in \u001b[0;36mConfig.resolve_key\u001b[0;34m(self, key, ns, input_params, parents, max_index, write, currspec)\u001b[0m\n\u001b[1;32m    427\u001b[0m     input_params \u001b[38;5;241m=\u001b[39m \u001b[38;5;28mself\u001b[39m\u001b[38;5;241m.\u001b[39minput_params\n\u001b[1;32m    428\u001b[0m \u001b[38;5;28;01mwith\u001b[39;00m \u001b[38;5;28mself\u001b[39m\u001b[38;5;241m.\u001b[39mset_context(key, ns, input_params, parents, currspec):\n\u001b[0;32m--> 429\u001b[0m     \u001b[38;5;28;01mreturn\u001b[39;00m \u001b[38;5;28;43mself\u001b[39;49m\u001b[38;5;241;43m.\u001b[39;49m\u001b[43m_resolve_key\u001b[49m\u001b[43m(\u001b[49m\u001b[43mkey\u001b[49m\u001b[38;5;241;43m=\u001b[39;49m\u001b[43mkey\u001b[49m\u001b[43m,\u001b[49m\u001b[43m \u001b[49m\u001b[43mns\u001b[49m\u001b[38;5;241;43m=\u001b[39;49m\u001b[43mns\u001b[49m\u001b[43m,\u001b[49m\u001b[43m \u001b[49m\u001b[43minput_params\u001b[49m\u001b[38;5;241;43m=\u001b[39;49m\u001b[43minput_params\u001b[49m\u001b[43m,\u001b[49m\n\u001b[1;32m    430\u001b[0m \u001b[43m        \u001b[49m\u001b[43mparents\u001b[49m\u001b[38;5;241;43m=\u001b[39;49m\u001b[43mparents\u001b[49m\u001b[43m,\u001b[49m\u001b[43m \u001b[49m\u001b[43mmax_index\u001b[49m\u001b[38;5;241;43m=\u001b[39;49m\u001b[43mmax_index\u001b[49m\u001b[43m,\u001b[49m\u001b[43m \u001b[49m\u001b[43mwrite\u001b[49m\u001b[38;5;241;43m=\u001b[39;49m\u001b[43mwrite\u001b[49m\u001b[43m)\u001b[49m\n",
      "File \u001b[0;32m/data/theorie/rstegeman/miniconda3/envs/nnpdf/lib/python3.12/site-packages/reportengine/configparser.py:517\u001b[0m, in \u001b[0;36mConfig._resolve_key\u001b[0;34m(self, key, ns, input_params, parents, max_index, write)\u001b[0m\n\u001b[1;32m    513\u001b[0m trap_func \u001b[38;5;241m=\u001b[39m \u001b[38;5;28mself\u001b[39m\u001b[38;5;241m.\u001b[39mget_trap_func(input_val)\n\u001b[1;32m    515\u001b[0m \u001b[38;5;28;01mif\u001b[39;00m trap_func:\n\u001b[1;32m    516\u001b[0m     \u001b[38;5;66;03m#TODO: Think about this interface\u001b[39;00m\n\u001b[0;32m--> 517\u001b[0m     \u001b[38;5;28;01mreturn\u001b[39;00m \u001b[43mtrap_func\u001b[49m\u001b[43m(\u001b[49m\u001b[43mkey\u001b[49m\u001b[43m)\u001b[49m\n\u001b[1;32m    520\u001b[0m f \u001b[38;5;241m=\u001b[39m \u001b[38;5;28mself\u001b[39m\u001b[38;5;241m.\u001b[39mget_parse_func(key)\n\u001b[1;32m    521\u001b[0m \u001b[38;5;28;01mif\u001b[39;00m f:\n",
      "File \u001b[0;32m/data/theorie/rstegeman/miniconda3/envs/nnpdf/lib/python3.12/site-packages/reportengine/configparser.py:133\u001b[0m, in \u001b[0;36m_parse_func.<locals>.f_\u001b[0;34m(self, val, *args, **kwargs)\u001b[0m\n\u001b[1;32m    129\u001b[0m     \u001b[38;5;28;01mif\u001b[39;00m \u001b[38;5;129;01mnot\u001b[39;00m \u001b[38;5;28misinstance\u001b[39m(val, input_type):\n\u001b[1;32m    130\u001b[0m         \u001b[38;5;28;01mraise\u001b[39;00m BadInputType(trim_token(f\u001b[38;5;241m.\u001b[39m\u001b[38;5;18m__name__\u001b[39m), val, input_type)\n\u001b[0;32m--> 133\u001b[0m \u001b[38;5;28;01mreturn\u001b[39;00m \u001b[43mf\u001b[49m\u001b[43m(\u001b[49m\u001b[38;5;28;43mself\u001b[39;49m\u001b[43m,\u001b[49m\u001b[43m \u001b[49m\u001b[43mval\u001b[49m\u001b[43m,\u001b[49m\u001b[43m \u001b[49m\u001b[38;5;241;43m*\u001b[39;49m\u001b[43margs\u001b[49m\u001b[43m,\u001b[49m\u001b[43m \u001b[49m\u001b[38;5;241;43m*\u001b[39;49m\u001b[38;5;241;43m*\u001b[39;49m\u001b[43mkwargs\u001b[49m\u001b[43m)\u001b[49m\n",
      "File \u001b[0;32m/data/theorie/rstegeman/miniconda3/envs/nnpdf/lib/python3.12/site-packages/reportengine/configparser.py:748\u001b[0m, in \u001b[0;36mConfig.parse_from_\u001b[0;34m(self, value, element, write)\u001b[0m\n\u001b[1;32m    740\u001b[0m nokey_message \u001b[38;5;241m=\u001b[39m (\u001b[38;5;124m\"\u001b[39m\u001b[38;5;124mCould not retrieve element \u001b[39m\u001b[38;5;132;01m%s\u001b[39;00m\u001b[38;5;124m from namespace. \u001b[39m\u001b[38;5;124m\"\u001b[39m\n\u001b[1;32m    741\u001b[0m                   \u001b[38;5;124m\"\u001b[39m\u001b[38;5;124mNo such key\u001b[39m\u001b[38;5;124m\"\u001b[39m \u001b[38;5;241m%\u001b[39m\n\u001b[1;32m    742\u001b[0m                       (element,))\n\u001b[1;32m    744\u001b[0m \u001b[38;5;66;03m#The write=False is needed here because of the general stupidy of the\u001b[39;00m\n\u001b[1;32m    745\u001b[0m \u001b[38;5;66;03m#framework. Because there is no way to tell how deep in the inputs\u001b[39;00m\n\u001b[1;32m    746\u001b[0m \u001b[38;5;66;03m#we found the key, it may end up completely misplaced. An upgrade\u001b[39;00m\n\u001b[1;32m    747\u001b[0m \u001b[38;5;66;03m#of the code should fix this.\u001b[39;00m\n\u001b[0;32m--> 748\u001b[0m max_index, tip \u001b[38;5;241m=\u001b[39m \u001b[38;5;28;43mself\u001b[39;49m\u001b[38;5;241;43m.\u001b[39;49m\u001b[43mresolve_key\u001b[49m\u001b[43m(\u001b[49m\u001b[43mvalue\u001b[49m\u001b[43m,\u001b[49m\u001b[43m \u001b[49m\u001b[43mns\u001b[49m\u001b[43m,\u001b[49m\u001b[43m \u001b[49m\u001b[43minput_params\u001b[49m\u001b[38;5;241;43m=\u001b[39;49m\u001b[43minput_params\u001b[49m\u001b[43m,\u001b[49m\n\u001b[1;32m    749\u001b[0m \u001b[43m                                \u001b[49m\u001b[43mparents\u001b[49m\u001b[38;5;241;43m=\u001b[39;49m\u001b[43mparents\u001b[49m\u001b[43m,\u001b[49m\u001b[43m \u001b[49m\u001b[43mwrite\u001b[49m\u001b[38;5;241;43m=\u001b[39;49m\u001b[38;5;28;43;01mFalse\u001b[39;49;00m\u001b[43m)\u001b[49m\n\u001b[1;32m    751\u001b[0m \u001b[38;5;28;01mif\u001b[39;00m \u001b[38;5;28mhasattr\u001b[39m(tip, \u001b[38;5;124m'\u001b[39m\u001b[38;5;124mas_input\u001b[39m\u001b[38;5;124m'\u001b[39m):\n\u001b[1;32m    752\u001b[0m     \u001b[38;5;28;01mtry\u001b[39;00m:\n",
      "File \u001b[0;32m/data/theorie/rstegeman/miniconda3/envs/nnpdf/lib/python3.12/site-packages/reportengine/configparser.py:429\u001b[0m, in \u001b[0;36mConfig.resolve_key\u001b[0;34m(self, key, ns, input_params, parents, max_index, write, currspec)\u001b[0m\n\u001b[1;32m    427\u001b[0m     input_params \u001b[38;5;241m=\u001b[39m \u001b[38;5;28mself\u001b[39m\u001b[38;5;241m.\u001b[39minput_params\n\u001b[1;32m    428\u001b[0m \u001b[38;5;28;01mwith\u001b[39;00m \u001b[38;5;28mself\u001b[39m\u001b[38;5;241m.\u001b[39mset_context(key, ns, input_params, parents, currspec):\n\u001b[0;32m--> 429\u001b[0m     \u001b[38;5;28;01mreturn\u001b[39;00m \u001b[38;5;28;43mself\u001b[39;49m\u001b[38;5;241;43m.\u001b[39;49m\u001b[43m_resolve_key\u001b[49m\u001b[43m(\u001b[49m\u001b[43mkey\u001b[49m\u001b[38;5;241;43m=\u001b[39;49m\u001b[43mkey\u001b[49m\u001b[43m,\u001b[49m\u001b[43m \u001b[49m\u001b[43mns\u001b[49m\u001b[38;5;241;43m=\u001b[39;49m\u001b[43mns\u001b[49m\u001b[43m,\u001b[49m\u001b[43m \u001b[49m\u001b[43minput_params\u001b[49m\u001b[38;5;241;43m=\u001b[39;49m\u001b[43minput_params\u001b[49m\u001b[43m,\u001b[49m\n\u001b[1;32m    430\u001b[0m \u001b[43m        \u001b[49m\u001b[43mparents\u001b[49m\u001b[38;5;241;43m=\u001b[39;49m\u001b[43mparents\u001b[49m\u001b[43m,\u001b[49m\u001b[43m \u001b[49m\u001b[43mmax_index\u001b[49m\u001b[38;5;241;43m=\u001b[39;49m\u001b[43mmax_index\u001b[49m\u001b[43m,\u001b[49m\u001b[43m \u001b[49m\u001b[43mwrite\u001b[49m\u001b[38;5;241;43m=\u001b[39;49m\u001b[43mwrite\u001b[49m\u001b[43m)\u001b[49m\n",
      "File \u001b[0;32m/data/theorie/rstegeman/miniconda3/envs/nnpdf/lib/python3.12/site-packages/reportengine/configparser.py:491\u001b[0m, in \u001b[0;36mConfig._resolve_key\u001b[0;34m(self, key, ns, input_params, parents, max_index, write)\u001b[0m\n\u001b[1;32m    488\u001b[0m     \u001b[38;5;28;01mreturn\u001b[39;00m nsindex, nsval\n\u001b[1;32m    490\u001b[0m \u001b[38;5;28mself\u001b[39m\u001b[38;5;241m.\u001b[39m_tainted \u001b[38;5;241m=\u001b[39m \u001b[38;5;28;01mFalse\u001b[39;00m\n\u001b[0;32m--> 491\u001b[0m val \u001b[38;5;241m=\u001b[39m \u001b[43mproduce_func\u001b[49m\u001b[43m(\u001b[49m\u001b[38;5;241;43m*\u001b[39;49m\u001b[38;5;241;43m*\u001b[39;49m\u001b[43mkwargs\u001b[49m\u001b[43m)\u001b[49m\n\u001b[1;32m    492\u001b[0m \u001b[38;5;28;01mif\u001b[39;00m \u001b[38;5;28mself\u001b[39m\u001b[38;5;241m.\u001b[39m_tainted:\n\u001b[1;32m    493\u001b[0m     put_index \u001b[38;5;241m=\u001b[39m \u001b[38;5;241m0\u001b[39m\n",
      "File \u001b[0;32m/data/theorie/rstegeman/github/nnpdf/validphys2/src/validphys/config.py:1667\u001b[0m, in \u001b[0;36mCoreConfig.produce_scale_variation_theories\u001b[0;34m(self, theoryid, point_prescription)\u001b[0m\n\u001b[1;32m   1665\u001b[0m cent_thids \u001b[38;5;241m=\u001b[39m [\u001b[38;5;28mint\u001b[39m(scalevarsfor_dict[\u001b[38;5;124m\"\u001b[39m\u001b[38;5;124mtheoryid\u001b[39m\u001b[38;5;124m\"\u001b[39m]) \u001b[38;5;28;01mfor\u001b[39;00m scalevarsfor_dict \u001b[38;5;129;01min\u001b[39;00m scalevarsfor_list]\n\u001b[1;32m   1666\u001b[0m \u001b[38;5;28;01mif\u001b[39;00m th \u001b[38;5;129;01mnot\u001b[39;00m \u001b[38;5;129;01min\u001b[39;00m cent_thids:\n\u001b[0;32m-> 1667\u001b[0m     valid_thids \u001b[38;5;241m=\u001b[39m \u001b[38;5;124;43m\"\u001b[39;49m\u001b[38;5;124;43m, \u001b[39;49m\u001b[38;5;124;43m\"\u001b[39;49m\u001b[38;5;241;43m.\u001b[39;49m\u001b[43mjoin\u001b[49m\u001b[43m(\u001b[49m\u001b[43mcent_thids\u001b[49m\u001b[43m)\u001b[49m\n\u001b[1;32m   1668\u001b[0m     \u001b[38;5;28;01mraise\u001b[39;00m ConfigError(\n\u001b[1;32m   1669\u001b[0m         \u001b[38;5;124m\"\u001b[39m\u001b[38;5;124mScale variations are not currently defined for this central theoryid. It is \u001b[39m\u001b[38;5;124m\"\u001b[39m\n\u001b[1;32m   1670\u001b[0m         \u001b[38;5;241m+\u001b[39m \u001b[38;5;124mf\u001b[39m\u001b[38;5;124m\"\u001b[39m\u001b[38;5;124mcurrently only possible to use one of the following as the central theory: \u001b[39m\u001b[38;5;132;01m{\u001b[39;00mvalid_thids\u001b[38;5;132;01m}\u001b[39;00m\u001b[38;5;124m. \u001b[39m\u001b[38;5;124m\"\u001b[39m\n\u001b[1;32m   1671\u001b[0m         \u001b[38;5;241m+\u001b[39m \u001b[38;5;124m\"\u001b[39m\u001b[38;5;124mPlease use one of these instead if you wish to include theory uncertainties here.\u001b[39m\u001b[38;5;124m\"\u001b[39m\n\u001b[1;32m   1672\u001b[0m     )\n\u001b[1;32m   1674\u001b[0m \u001b[38;5;66;03m# Find scales that correspond to this point prescription\u001b[39;00m\n",
      "\u001b[0;31mTypeError\u001b[0m: sequence item 0: expected str instance, int found"
     ]
    }
   ],
   "source": [
    "fit = API.fit(fit=fitname)\n",
    "\n",
    "prior_pdf = fit.as_input()[\"theorycovmatconfig\"][\"pdf\"]\n",
    "# prior_pdf = \"240409-01-rs-symm_pos_pseudodata\"\n",
    "\n",
    "common_dict = dict(\n",
    "    dataset_inputs={\"from_\": \"fit\"},\n",
    "    fit=fit.name,\n",
    "    fits=[fit.name],\n",
    "    use_cuts=\"fromfit\",\n",
    "    metadata_group=\"nnpdf31_process\",\n",
    ")\n",
    "\n",
    "theoryids_dict = ({\n",
    "        \"point_prescription\": {\"from_\": \"theorycovmatconfig\"},\n",
    "        \"theoryids\":{ \"from_\": \"scale_variation_theories\"},\n",
    "        \"t0theoryid\": {\"from_\": \"theory\"},\n",
    "        \"theoryid\": {\"from_\": \"theory\"},\n",
    "        \"theory\": {\"from_\": \"fit\"},\n",
    "        \"theorycovmatconfig\": {\"from_\": \"fit\"},\n",
    "    } | common_dict)\n",
    "theoryids = API.theoryids(**theoryids_dict)\n",
    "theory_plus = theoryids[1].id\n",
    "theory_mid = theoryids[0].id\n",
    "theory_min = theoryids[2].id\n",
    "\n",
    "# Inputs for central theory (used to construct the alphas covmat)\n",
    "inps_central = dict(theoryid=theory_mid, pdf=prior_pdf, **common_dict)\n",
    "\n",
    "# Inputs for plus theory (used to construct the alphas covmat)\n",
    "inps_plus = dict(theoryid=theory_plus, pdf=prior_pdf, **common_dict)\n",
    "\n",
    "# Inputs for minus theory prediction (used to construct the alphas covmat)\n",
    "inps_minus = dict(theoryid=theory_min, pdf=prior_pdf, **common_dict)\n",
    "\n",
    "# inputs for the computation of the prediction of the fit with cov=C+S, where S is computed using the\n",
    "# inps_central, inps_plus, and inps_minus dictionaries\n",
    "inps_central_fit = dict(theoryid=theory_mid, pdf={\"from_\": \"fit\"}, **common_dict)"
   ]
  },
  {
   "cell_type": "code",
   "execution_count": 23,
   "id": "0ed2f92d",
   "metadata": {},
   "outputs": [],
   "source": [
    "theoryids = API.theoryids(**theoryids_dict)"
   ]
  },
  {
   "cell_type": "code",
   "execution_count": null,
   "id": "758cdc8a",
   "metadata": {
    "scrolled": true
   },
   "outputs": [],
   "source": [
    "prior_theorypreds_central = API.group_result_table_no_table(**inps_central).iloc[:, 2:].mean(axis=1)"
   ]
  },
  {
   "cell_type": "code",
   "execution_count": 6,
   "id": "17d8f476",
   "metadata": {},
   "outputs": [],
   "source": [
    "prior_theorypreds_plus = API.group_result_table_no_table(**inps_plus).iloc[:, 2:].mean(axis=1)"
   ]
  },
  {
   "cell_type": "code",
   "execution_count": 7,
   "id": "1ad88c90",
   "metadata": {},
   "outputs": [],
   "source": [
    "prior_theorypreds_minus = API.group_result_table_no_table(**inps_minus).iloc[:, 2:].mean(axis=1)"
   ]
  },
  {
   "cell_type": "code",
   "execution_count": 8,
   "id": "31bc992d",
   "metadata": {},
   "outputs": [],
   "source": [
    "# maybe we scaled the covmat to account for higher order derivatives or to test depencence of the prior\n",
    "covmat_scaling_factor = fit.as_input().get(\"theorycovmatconfig\",{}).get(\"rescale_alphas_covmat\",1.0)"
   ]
  },
  {
   "cell_type": "code",
   "execution_count": 9,
   "id": "ac757095",
   "metadata": {},
   "outputs": [],
   "source": [
    "# Get the values of alphas...\n",
    "alphas_plus = API.theory_info_table(theory_db_id=theory_plus).loc[\"alphas\"].iloc[0]\n",
    "alphas_central = API.theory_info_table(theory_db_id=theory_mid).loc[\"alphas\"].iloc[0]\n",
    "alphas_min = API.theory_info_table(theory_db_id=theory_min).loc[\"alphas\"].iloc[0]\n",
    "\n",
    "# ... and make sure the alphas shift in both directions is symmetric\n",
    "delta_alphas_plus = alphas_plus - alphas_central\n",
    "delta_alphas_min = alphas_central - alphas_min\n",
    "if abs(delta_alphas_min - delta_alphas_plus) > 1e-6:\n",
    "    raise ValueError(\"alphas shifts in both directions is not symmetric\")\n",
    "else:\n",
    "    alphas_step_size = delta_alphas_min"
   ]
  },
  {
   "cell_type": "code",
   "execution_count": 10,
   "id": "3179f33f",
   "metadata": {},
   "outputs": [],
   "source": [
    "beta_tilde = np.sqrt(covmat_scaling_factor) * (alphas_step_size / np.sqrt(2)) * np.array([1, -1])\n",
    "S_tilde = beta_tilde @ beta_tilde"
   ]
  },
  {
   "cell_type": "code",
   "execution_count": 11,
   "id": "639ca971",
   "metadata": {},
   "outputs": [],
   "source": [
    "delta_plus = (np.sqrt(covmat_scaling_factor) / np.sqrt(2)) * (\n",
    "    prior_theorypreds_plus - prior_theorypreds_central\n",
    ")\n",
    "delta_minus = (np.sqrt(covmat_scaling_factor) / np.sqrt(2)) * (\n",
    "    prior_theorypreds_minus - prior_theorypreds_central\n",
    ")\n",
    "\n",
    "beta = [delta_plus, delta_minus]\n",
    "S_hat = beta_tilde @ beta\n",
    "\n",
    "S = np.outer(delta_plus, delta_plus) + np.outer(delta_minus, delta_minus)\n",
    "S = pd.DataFrame(S, index=delta_minus.index, columns=delta_minus.index)"
   ]
  },
  {
   "cell_type": "code",
   "execution_count": null,
   "id": "fe666f4c",
   "metadata": {},
   "outputs": [],
   "source": [
    "stored_covmat = pd.read_csv(\n",
    "    fit.path / \"tables/datacuts_theory_theorycovmatconfig_theory_covmat_custom.csv\",\n",
    "    index_col=[0, 1, 2],\n",
    "    header=[0, 1, 2],\n",
    "    sep=\"\\t|,\",\n",
    "    engine=\"python\",\n",
    ").fillna(0)\n",
    "storedcovmat_index = pd.MultiIndex.from_tuples(\n",
    "    [(aa, bb, np.int64(cc)) for aa, bb, cc in stored_covmat.index],\n",
    "    names=[\"group\", \"dataset\", \"id\"],\n",
    ")  # make sure theoryID is an integer, same as in S\n",
    "stored_covmat = pd.DataFrame(\n",
    "    stored_covmat.values, index=storedcovmat_index, columns=storedcovmat_index\n",
    ")\n",
    "stored_covmat = stored_covmat.reindex(S.index).T.reindex(S.index)\n",
    "\n",
    "if not np.allclose(S, stored_covmat):\n",
    "    print(\"Reconstructed theory covmat, S, is not the same as the stored covmat!\")"
   ]
  },
  {
   "cell_type": "code",
   "execution_count": null,
   "id": "29e4c30f",
   "metadata": {},
   "outputs": [],
   "source": [
    "theorypreds_fit = API.group_result_table_no_table(**inps_central_fit).iloc[:, 2:]"
   ]
  },
  {
   "cell_type": "code",
   "execution_count": null,
   "id": "ac6553b1",
   "metadata": {},
   "outputs": [],
   "source": [
    "C = API.groups_covmat(\n",
    "    use_t0=True,\n",
    "    datacuts={\"from_\": \"fit\"},\n",
    "    t0pdfset={\"from_\": \"datacuts\"},\n",
    "    theoryid= {\"from_\": \"theory\"},\n",
    "    theory={\"from_\": \"fit\"},\n",
    "    **common_dict\n",
    ")"
   ]
  },
  {
   "cell_type": "code",
   "execution_count": 25,
   "id": "6ed73880",
   "metadata": {},
   "outputs": [],
   "source": [
    "# MHOU covmat saved as user uncertainties, see https://docs.nnpdf.science/tutorials/general_th_covmat.html\n",
    "# At some point we have to allow for different sources of theory unceratinty to be stored in different\n",
    "# csv files, without this kind of hack.\n",
    "\n",
    "try:\n",
    "    mhou_fit = fit.as_input()[\"theorycovmatconfig\"][\"use_user_uncertainties\"]\n",
    "    if mhou_fit:\n",
    "        mhou_covmat = API.user_covmat(**(inps_central_fit|fit.as_input()['theorycovmatconfig']))\n",
    "        exp_covmat = C # we don't use exp_covmat, but may be useful to keep\n",
    "        C = C + mhou_covmat\n",
    "except:\n",
    "    pass"
   ]
  },
  {
   "cell_type": "code",
   "execution_count": 16,
   "id": "a05e4850",
   "metadata": {},
   "outputs": [],
   "source": [
    "# Note this is NOT the same as the prediction of the mean PDF (i.e. replica0)\n",
    "mean_prediction = theorypreds_fit.mean(axis=1)\n",
    "\n",
    "X = np.zeros_like(C.values)\n",
    "for i in range(theorypreds_fit.shape[1]):\n",
    "    X += np.outer(\n",
    "        (theorypreds_fit.iloc[:, i] - mean_prediction),\n",
    "        (theorypreds_fit.iloc[:, i] - mean_prediction),\n",
    "    )\n",
    "X *= 1 / theorypreds_fit.shape[1]"
   ]
  },
  {
   "cell_type": "code",
   "execution_count": 17,
   "id": "308e7bd8",
   "metadata": {},
   "outputs": [],
   "source": [
    "pseudodata = API.read_pdf_pseudodata(**common_dict)"
   ]
  },
  {
   "cell_type": "code",
   "execution_count": 18,
   "id": "f4ed15ab",
   "metadata": {},
   "outputs": [],
   "source": [
    "# We should use <D>_rep instead of D_exp, though if we do the sampling faithfully the central value over replicas\n",
    "# should be the same as the experimental central value. For this set resample_negative_pseudodata=False in the n3fit runcard.\n",
    "dat_reps = pd.concat(\n",
    "    [i.pseudodata.reindex(prior_theorypreds_central.index) for i in pseudodata], axis=1\n",
    ")\n",
    "\n",
    "# dat_central = API.group_result_central_table_no_table(**inps_central)[\"data_central\"]"
   ]
  },
  {
   "cell_type": "code",
   "execution_count": null,
   "id": "3b0e8a15",
   "metadata": {},
   "outputs": [],
   "source": [
    "invcov = np.linalg.inv(C + S)\n",
    "# delta_T_tilde is Eq. 3.37 in https://arxiv.org/pdf/2105.05114\n",
    "delta_T_tilde = -S_hat @ invcov @ (mean_prediction - dat_reps.mean(axis=1))\n",
    "# P_tilde is Eq. 3.38. Note that not all terms of the equation in the paper are here, in particular\n",
    "# X_tile and X_hat vanish. This is because they measure the covariance of T_tilde over PDF\n",
    "# replicas, but for us T_tilde is alphas. The prediciton of alphas does not depend on the PDF, and\n",
    "# as such T_tilde^(r) == T_tilde^(0)\n",
    "P_tilde = S_hat.T @ invcov @ X @ invcov @ S_hat + S_tilde - S_hat.T @ invcov @ S_hat\n",
    "pred = alphas_central + delta_T_tilde\n",
    "unc = np.sqrt(P_tilde)\n",
    "print(rf\"Prediction for $\\alpha_s$: {pred:.4f} ± {unc:.4f}\")"
   ]
  }
 ],
 "metadata": {
  "kernelspec": {
   "display_name": "nnpdf",
   "language": "python",
   "name": "python3"
  },
  "language_info": {
   "codemirror_mode": {
    "name": "ipython",
    "version": 3
   },
   "file_extension": ".py",
   "mimetype": "text/x-python",
   "name": "python",
   "nbconvert_exporter": "python",
   "pygments_lexer": "ipython3",
   "version": "3.12.4"
  }
 },
 "nbformat": 4,
 "nbformat_minor": 5
}
